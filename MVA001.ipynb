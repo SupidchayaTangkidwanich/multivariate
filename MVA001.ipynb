{
  "nbformat": 4,
  "nbformat_minor": 0,
  "metadata": {
    "colab": {
      "name": "MVA001.ipynb",
      "provenance": [],
      "authorship_tag": "ABX9TyNaYDx+vNCSurPt6bPJMyv9",
      "include_colab_link": true
    },
    "kernelspec": {
      "name": "python3",
      "display_name": "Python 3"
    }
  },
  "cells": [
    {
      "cell_type": "markdown",
      "metadata": {
        "id": "view-in-github",
        "colab_type": "text"
      },
      "source": [
        "<a href=\"https://colab.research.google.com/github/SupidchayaTangkidwanich/multivariate/blob/main/MVA001.ipynb\" target=\"_parent\"><img src=\"https://colab.research.google.com/assets/colab-badge.svg\" alt=\"Open In Colab\"/></a>"
      ]
    },
    {
      "cell_type": "markdown",
      "metadata": {
        "id": "stHFwiEISzpQ"
      },
      "source": [
        "Scalar,Vector,Matrix"
      ]
    },
    {
      "cell_type": "markdown",
      "metadata": {
        "id": "COKIHHGVYy9x"
      },
      "source": [
        "##scalar"
      ]
    },
    {
      "cell_type": "code",
      "metadata": {
        "id": "k8xbQ4kJSzhh"
      },
      "source": [
        "import numpy as np #ตั้งชื่อให้สั้นลง"
      ],
      "execution_count": 6,
      "outputs": []
    },
    {
      "cell_type": "code",
      "metadata": {
        "colab": {
          "base_uri": "https://localhost:8080/"
        },
        "id": "16t4ZGcySwt2",
        "outputId": "b000bb71-25cd-4c5b-86c2-1f1f3b0ea496"
      },
      "source": [
        "scalar_a = 10   # scalar ไม่สามารถเป็นรูปได้\r\n",
        "print(scalar_a)"
      ],
      "execution_count": 5,
      "outputs": [
        {
          "output_type": "stream",
          "text": [
            "10\n"
          ],
          "name": "stdout"
        }
      ]
    },
    {
      "cell_type": "markdown",
      "metadata": {
        "id": "L08x_2zKY1zo"
      },
      "source": [
        "## Vector"
      ]
    },
    {
      "cell_type": "code",
      "metadata": {
        "colab": {
          "base_uri": "https://localhost:8080/"
        },
        "id": "O7LujUU2T_RH",
        "outputId": "d612c504-105f-48c2-e874-e3802e49b8d3"
      },
      "source": [
        "vector_b = np.zeros([2,1])   # ทำมาจากvectorเริ่มต้น\r\n",
        "vector_b[0,0] = 2 #กำหนดเวกเตอร์ให้เป็นหลัก0เเถว0 = 2\r\n",
        "vector_b[1,0] = 3 #กำหนดเวกเตอร์ให้เป็นหลัก1เเถว0 = 3\r\n",
        "print(vector_b)\r\n",
        "print(vector_b.shape)  # สร้างshape"
      ],
      "execution_count": 20,
      "outputs": [
        {
          "output_type": "stream",
          "text": [
            "[[2.]\n",
            " [3.]]\n",
            "(2, 1)\n"
          ],
          "name": "stdout"
        }
      ]
    },
    {
      "cell_type": "code",
      "metadata": {
        "colab": {
          "base_uri": "https://localhost:8080/"
        },
        "id": "zj3FPO7XUHgQ",
        "outputId": "7ac95ec3-8dc9-4d3a-a123-b9a9e04b1b2e"
      },
      "source": [
        "vector_c = np.array([[1],[3]]) # การใช้list ในการพร็อตเวกเตอร์ ([x],[y])\r\n",
        "print(vector_c)\r\n",
        "print(vector_c.shape) #กำหนดขนาดเวกเตอร์"
      ],
      "execution_count": 14,
      "outputs": [
        {
          "output_type": "stream",
          "text": [
            "[[1]\n",
            " [3]]\n",
            "(2, 1)\n"
          ],
          "name": "stdout"
        }
      ]
    },
    {
      "cell_type": "code",
      "metadata": {
        "id": "jnLHqEhhU1_R"
      },
      "source": [
        "from matplotlib import pyplot as plt # import ... import ก็คือ การอิมพอตใหญ่ๆไปย่อย"
      ],
      "execution_count": 15,
      "outputs": []
    },
    {
      "cell_type": "code",
      "metadata": {
        "colab": {
          "base_uri": "https://localhost:8080/",
          "height": 282
        },
        "id": "2TnprAKYVTxJ",
        "outputId": "7b1b7565-745f-44d5-b0a6-47165b016136"
      },
      "source": [
        "plt.plot(vector_b[0,0],vector_b[1,0],'or')  # การ plot vector จริงๆมันคือจุด "
      ],
      "execution_count": 17,
      "outputs": [
        {
          "output_type": "execute_result",
          "data": {
            "text/plain": [
              "[<matplotlib.lines.Line2D at 0x7f92f93bdac8>]"
            ]
          },
          "metadata": {
            "tags": []
          },
          "execution_count": 17
        },
        {
          "output_type": "display_data",
          "data": {
            "image/png": "[encoded data removed]",
            "text/plain": [
              "<Figure size 432x288 with 1 Axes>"
            ]
          },
          "metadata": {
            "tags": [],
            "needs_background": "light"
          }
        }
      ]
    },
    {
      "cell_type": "markdown",
      "metadata": {
        "id": "g6z9EsOZVU5g"
      },
      "source": [
        "ขนาดของ vector คำนวณได้โดย พิธากอรัส"
      ]
    },
    {
      "cell_type": "code",
      "metadata": {
        "colab": {
          "base_uri": "https://localhost:8080/"
        },
        "id": "2EF9QbJHWVMx",
        "outputId": "c8c63768-3bce-4034-cf12-7ca9ac982bb0"
      },
      "source": [
        "vector_b_size = ((vector_b[0,0]**2)+(vector_b[1,0]**2))**0.5 #การคำนวณขนาดเวกเตอร์\r\n",
        "print(vector_b_size)"
      ],
      "execution_count": 21,
      "outputs": [
        {
          "output_type": "stream",
          "text": [
            "3.605551275463989\n"
          ],
          "name": "stdout"
        }
      ]
    },
    {
      "cell_type": "markdown",
      "metadata": {
        "id": "kHlIdX7kZEFW"
      },
      "source": [
        "## Matrix"
      ]
    },
    {
      "cell_type": "code",
      "metadata": {
        "colab": {
          "base_uri": "https://localhost:8080/"
        },
        "id": "gowH7BT8XB9Z",
        "outputId": "3be20026-b3dd-4ac0-e2be-7b84ba458b55"
      },
      "source": [
        "matrix_d = np.array([[2,3],[1,4],[-1,1]]) # ยังไม่ใช่matrix จริงๆ\r\n",
        "print(matrix_d)"
      ],
      "execution_count": 23,
      "outputs": [
        {
          "output_type": "stream",
          "text": [
            "[[ 2  3]\n",
            " [ 1  4]\n",
            " [-1  1]]\n"
          ],
          "name": "stdout"
        }
      ]
    },
    {
      "cell_type": "code",
      "metadata": {
        "colab": {
          "base_uri": "https://localhost:8080/"
        },
        "id": "v6TF3Ah2aGaA",
        "outputId": "3bb85b68-c76a-4086-87a4-426f1e565436"
      },
      "source": [
        "matrix_d = matrix_d.T #นำเอาไปทำเป็นmatrixตามทฤษฎี\r\n",
        "print(matrix_d)"
      ],
      "execution_count": 26,
      "outputs": [
        {
          "output_type": "stream",
          "text": [
            "[[ 2  1 -1]\n",
            " [ 3  4  1]]\n"
          ],
          "name": "stdout"
        }
      ]
    },
    {
      "cell_type": "code",
      "metadata": {
        "colab": {
          "base_uri": "https://localhost:8080/"
        },
        "id": "mkURz8tfcMho",
        "outputId": "6b5b88db-17fe-4f19-8d97-8626dda43042"
      },
      "source": [
        "matrix_d[0,:] # บอกว่าค่า x มีค่าอะไรบ้าง"
      ],
      "execution_count": 30,
      "outputs": [
        {
          "output_type": "execute_result",
          "data": {
            "text/plain": [
              "array([ 2,  1, -1])"
            ]
          },
          "metadata": {
            "tags": []
          },
          "execution_count": 30
        }
      ]
    },
    {
      "cell_type": "code",
      "metadata": {
        "colab": {
          "base_uri": "https://localhost:8080/",
          "height": 282
        },
        "id": "mQXIxwQ_aesf",
        "outputId": "7ace2dbb-1fae-4ddd-908c-044629a3a99d"
      },
      "source": [
        "plt.plot(matrix_d[0,:],matrix_d[1,:],'or') #ใช้สำหรับplotจุดลงไปในspace -> plot(ค่าx,ค่าy,หน้าตาของจุด) o คือ จุด r คือ สีเเดง\r\n",
        "plt.plot(0,0,'.b') # อันนี้คือจุดกำเนิด\r\n",
        "plt.plot([0,0],[-1,5],'^:k') # ^ คือ หัวลูกศร : คือ ลายจุด k คือ สีดำ ดูว่ามีกี่จุดคือว่ามี x 2 ตัว y 2 ตัว เพราะฉะนั้น 2 จุด\r\n",
        "plt.plot([-1.5,2.5],[0,0],'>--b') # > คือ หัวลูกศร -- คือทำเป็นเส้น b คือสีน้ำเงิน"
      ],
      "execution_count": 38,
      "outputs": [
        {
          "output_type": "execute_result",
          "data": {
            "text/plain": [
              "[<matplotlib.lines.Line2D at 0x7f92f098bc88>]"
            ]
          },
          "metadata": {
            "tags": []
          },
          "execution_count": 38
        },
        {
          "output_type": "display_data",
          "data": {
            "image/png": "[encoded data removed]",
            "text/plain": [
              "<Figure size 432x288 with 1 Axes>"
            ]
          },
          "metadata": {
            "tags": [],
            "needs_background": "light"
          }
        }
      ]
    },
    {
      "cell_type": "markdown",
      "metadata": {
        "id": "cZHnHvChZJQo"
      },
      "source": [
        "รูปเเบบ(Format)fmt = '[marker][line][color]'"
      ]
    },
    {
      "cell_type": "markdown",
      "metadata": {
        "id": "DVs3iMVskDVe"
      },
      "source": [
        "## Transpose"
      ]
    },
    {
      "cell_type": "code",
      "metadata": {
        "colab": {
          "base_uri": "https://localhost:8080/"
        },
        "id": "dZmsNykTgSjF",
        "outputId": "b022eb49-f74c-4e54-e29b-5d81ffa44dc9"
      },
      "source": [
        "A = np.array([[3,-1,2],[1,5,4]]) \r\n",
        "print(A)"
      ],
      "execution_count": 40,
      "outputs": [
        {
          "output_type": "stream",
          "text": [
            "[[ 3 -1  2]\n",
            " [ 1  5  4]]\n"
          ],
          "name": "stdout"
        }
      ]
    },
    {
      "cell_type": "code",
      "metadata": {
        "colab": {
          "base_uri": "https://localhost:8080/"
        },
        "id": "aWaKDaYpkY_e",
        "outputId": "06113355-255b-4955-8363-8dd257bd0625"
      },
      "source": [
        "A.T # การใส่ .T เพื่อ ทำให้เป็นเมทริกซ์"
      ],
      "execution_count": 41,
      "outputs": [
        {
          "output_type": "execute_result",
          "data": {
            "text/plain": [
              "array([[ 3,  1],\n",
              "       [-1,  5],\n",
              "       [ 2,  4]])"
            ]
          },
          "metadata": {
            "tags": []
          },
          "execution_count": 41
        }
      ]
    },
    {
      "cell_type": "markdown",
      "metadata": {
        "id": "AMzsPes2lnMl"
      },
      "source": [
        "## Matrix Multiply"
      ]
    },
    {
      "cell_type": "markdown",
      "metadata": {
        "id": "E7DyGcrrl6g9"
      },
      "source": [
        "B = A * A'"
      ]
    },
    {
      "cell_type": "code",
      "metadata": {
        "colab": {
          "base_uri": "https://localhost:8080/"
        },
        "id": "iNuznLbelhhF",
        "outputId": "ba9e8a76-3dd7-45f9-9d45-0d4125721209"
      },
      "source": [
        "B = np.dot(A,A.T) # การคูณเมทริกซ์\r\n",
        "print(B)"
      ],
      "execution_count": 44,
      "outputs": [
        {
          "output_type": "stream",
          "text": [
            "[[14  6]\n",
            " [ 6 42]]\n"
          ],
          "name": "stdout"
        }
      ]
    },
    {
      "cell_type": "markdown",
      "metadata": {
        "id": "rYTU4JQ3lzct"
      },
      "source": [
        "## Determinant"
      ]
    },
    {
      "cell_type": "markdown",
      "metadata": {
        "id": "RS66Tz2PmQle"
      },
      "source": [
        "Det(B)"
      ]
    },
    {
      "cell_type": "code",
      "metadata": {
        "colab": {
          "base_uri": "https://localhost:8080/"
        },
        "id": "_hW8XmysmHEN",
        "outputId": "28002976-6ed5-44c9-c346-b780e2739d8c"
      },
      "source": [
        "np.linalg.det(B)     #linalg = linear algorithm  การหา Det(B)"
      ],
      "execution_count": 46,
      "outputs": [
        {
          "output_type": "execute_result",
          "data": {
            "text/plain": [
              "551.9999999999998"
            ]
          },
          "metadata": {
            "tags": []
          },
          "execution_count": 46
        }
      ]
    },
    {
      "cell_type": "code",
      "metadata": {
        "id": "2gOZVSmImgRn"
      },
      "source": [
        ""
      ],
      "execution_count": null,
      "outputs": []
    }
  ]
}