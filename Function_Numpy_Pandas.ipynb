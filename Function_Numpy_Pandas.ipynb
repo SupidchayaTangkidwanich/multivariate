{
  "nbformat": 4,
  "nbformat_minor": 0,
  "metadata": {
    "colab": {
      "name": "Function_Numpy_Pandas.ipynb",
      "provenance": [],
      "collapsed_sections": [],
      "authorship_tag": "ABX9TyNqnkmLCGjMEOsvXLMmRb0o",
      "include_colab_link": true
    },
    "kernelspec": {
      "name": "python3",
      "display_name": "Python 3"
    }
  },
  "cells": [
    {
      "cell_type": "markdown",
      "metadata": {
        "id": "view-in-github",
        "colab_type": "text"
      },
      "source": [
        "<a href=\"https://colab.research.google.com/github/SupidchayaTangkidwanich/multivariate/blob/main/Function_Numpy_Pandas.ipynb\" target=\"_parent\"><img src=\"https://colab.research.google.com/assets/colab-badge.svg\" alt=\"Open In Colab\"/></a>"
      ]
    },
    {
      "cell_type": "markdown",
      "metadata": {
        "id": "8_n-u1rYSo92"
      },
      "source": [
        "# Function"
      ]
    },
    {
      "cell_type": "markdown",
      "metadata": {
        "id": "y7K1Y1qQSsbG"
      },
      "source": [
        " หน้าที่  รับ input (x)  มาเพื่อเปลี่ยนเป็น output (y)"
      ]
    },
    {
      "cell_type": "markdown",
      "metadata": {
        "id": "p1D1hnViT-dk"
      },
      "source": [
        "```python\r\n",
        "def function_name(_Input_):\r\n",
        "      do_something with _Input_to produce_Output_\r\n",
        "      return _Output_\r\n",
        "```\r\n",
        "```backtick กด ` ค้าง,alt -9>6(full keyboard with number)\r\n",
        "สามารถพิมพ์ให้เป็นเหมือนโค้ดได้ สามารถบอกได้ว่า เป็นภาษาได้\r\n",
        "\r\n",
        "\r\n",
        "\r\n",
        "```\r\n",
        "# This is formatted as code\r\n",
        "```\r\n",
        "\r\n",
        "ในนี้ตรง <> สามารถใช้ได้\r\n",
        "\r\n",
        "*เอียง*    ใช้ *  *\r\n",
        "\r\n",
        "\r\n"
      ]
    },
    {
      "cell_type": "markdown",
      "metadata": {
        "id": "Cy9hstWXS54s"
      },
      "source": [
        "มีส่วนสำคัญทั้งหมด 4 ส่วน\r\n",
        "      \r\n",
        "      1. บอก python ว่าเราจะเขียนฟังก์ชั่น ชื่ออะไร def function_name():(ขาดไม่ได้)\r\n",
        "      2. กำหนดตัวแปรที่จะเป็น Input (ขาดได้)\r\n",
        "      3. ส่วนประมวลผล do_something with Input to get Output (ขาดไม่ได้)\r\n",
        "      4. ส่วน output return Output (ขาดได้)\r\n",
        "      เราจะใช้เว้นวรรค(indent)เพื่อบอกขอบเขตของcode"
      ]
    },
    {
      "cell_type": "markdown",
      "metadata": {
        "id": "AWNjaOaTWNd-"
      },
      "source": [
        "## สร้างฟังก์ชั่น"
      ]
    },
    {
      "cell_type": "code",
      "metadata": {
        "colab": {
          "base_uri": "https://localhost:8080/"
        },
        "id": "-huAzA7BT9Ku",
        "outputId": "17f9fd55-ffc9-42d4-bee3-aeebe466ac75"
      },
      "source": [
        "def print_name(name,surname,ID):  # สามารถใส่กี่ตัวก็ได้หรือไม่มีก็ได้\r\n",
        "    st = f'ชื่อ {name} นามสกุล {surname} ID {ID}'\r\n",
        "    return st\r\n",
        "print('outside function')"
      ],
      "execution_count": null,
      "outputs": [
        {
          "output_type": "stream",
          "text": [
            "outside function\n"
          ],
          "name": "stdout"
        }
      ]
    },
    {
      "cell_type": "markdown",
      "metadata": {
        "id": "RrcG4uwTWT_U"
      },
      "source": [
        "การเรียกใช้ฟังก์ชั่น"
      ]
    },
    {
      "cell_type": "code",
      "metadata": {
        "colab": {
          "base_uri": "https://localhost:8080/",
          "height": 35
        },
        "id": "2XEsOlbZSkyE",
        "outputId": "95c04c0b-9f75-4ee5-f12f-b79487956c2e"
      },
      "source": [
        "print_name('กิตติมา','อุปสุข','623021040-9') # มันจะไม่เเสดง outside function เพราะมันอยู่นอกขอบเขตฟังก์ชั่น"
      ],
      "execution_count": null,
      "outputs": [
        {
          "output_type": "execute_result",
          "data": {
            "application/vnd.google.colaboratory.intrinsic+json": {
              "type": "string"
            },
            "text/plain": [
              "'ชื่อ กิตติมา นามสกุล อุปสุข ID 623021040-9'"
            ]
          },
          "metadata": {
            "tags": []
          },
          "execution_count": 2
        }
      ]
    },
    {
      "cell_type": "code",
      "metadata": {
        "colab": {
          "base_uri": "https://localhost:8080/"
        },
        "id": "VSVfv9Z-S6uu",
        "outputId": "62618b75-ee8c-4911-e3a2-67ed31e81c3f"
      },
      "source": [
        "output_string = print_name('กิตติมา','อุปสุข','623021040-9')\r\n",
        "print(output_string) # การเปลี่ยนผลลัพธ์ออกมาเป็นข้อความต่อกัน"
      ],
      "execution_count": null,
      "outputs": [
        {
          "output_type": "stream",
          "text": [
            "ชื่อ กิตติมา นามสกุล อุปสุข ID 623021040-9\n"
          ],
          "name": "stdout"
        }
      ]
    },
    {
      "cell_type": "code",
      "metadata": {
        "id": "bCejE84rXT-8"
      },
      "source": [
        "def print_name2(surname,ID,name):  # การเเสดงผลลัพธ์ภายในบรรทัดเดียว เเบบstring\r\n",
        "    st = f'ชื่อ {name} นามสกุล {surname} รหัส {ID}'\r\n",
        "    print(st)"
      ],
      "execution_count": null,
      "outputs": []
    },
    {
      "cell_type": "code",
      "metadata": {
        "colab": {
          "base_uri": "https://localhost:8080/"
        },
        "id": "2Y81m_IkXvO9",
        "outputId": "842f36f5-303b-4c62-e7b0-c4db27dc86be"
      },
      "source": [
        "print_name2('กิตติมา','อุปสุข','623021040-9')"
      ],
      "execution_count": null,
      "outputs": [
        {
          "output_type": "stream",
          "text": [
            "ชื่อ 623021040-9 นามสกุล กิตติมา รหัส อุปสุข\n"
          ],
          "name": "stdout"
        }
      ]
    },
    {
      "cell_type": "code",
      "metadata": {
        "colab": {
          "base_uri": "https://localhost:8080/"
        },
        "id": "m_OEc0RDXzST",
        "outputId": "be55d37e-2f48-440e-d233-95f2a4cdfeb9"
      },
      "source": [
        "op2 = print_name2('กิตติมา','อุปสุข','623021040-9')"
      ],
      "execution_count": null,
      "outputs": [
        {
          "output_type": "stream",
          "text": [
            "ชื่อ 623021040-9 นามสกุล กิตติมา รหัส อุปสุข\n"
          ],
          "name": "stdout"
        }
      ]
    },
    {
      "cell_type": "code",
      "metadata": {
        "colab": {
          "base_uri": "https://localhost:8080/"
        },
        "id": "CAw6i78jYCJk",
        "outputId": "6794dbfa-72cb-4a90-8256-11bbc476e1a9"
      },
      "source": [
        "print(op2) # ขึ้น None เพราะไม่มีการ return กลับมาเก็บไว้"
      ],
      "execution_count": null,
      "outputs": [
        {
          "output_type": "stream",
          "text": [
            "None\n"
          ],
          "name": "stdout"
        }
      ]
    },
    {
      "cell_type": "markdown",
      "metadata": {
        "id": "WdqzRkaIZIiW"
      },
      "source": [
        "ฟังก์ชั่นไม่จำเป็นต้องมี Input"
      ]
    },
    {
      "cell_type": "code",
      "metadata": {
        "id": "OYU8E5L6YEaU"
      },
      "source": [
        "def Pi():\r\n",
        "    return 3.14159265359"
      ],
      "execution_count": null,
      "outputs": []
    },
    {
      "cell_type": "code",
      "metadata": {
        "colab": {
          "base_uri": "https://localhost:8080/"
        },
        "id": "J_4Hvv1rY4vm",
        "outputId": "875a53d6-7a63-4190-f979-2c9d88529f56"
      },
      "source": [
        "#คำนวนพพื้นที่วงกลมที่มีขนาดเส้นผ่านศูนย์กลางเท่ากับ 3\r\n",
        "Pi()*(1.5**2)  # เเค่return ค่าที่เราต้องการ\r\n"
      ],
      "execution_count": null,
      "outputs": [
        {
          "output_type": "execute_result",
          "data": {
            "text/plain": [
              "7.0685834705775"
            ]
          },
          "metadata": {
            "tags": []
          },
          "execution_count": 15
        }
      ]
    },
    {
      "cell_type": "code",
      "metadata": {
        "id": "eo-GJhukZij1"
      },
      "source": [
        "def print_my_name():\r\n",
        "    print('สุพิชญา ตั้งกิจวานิชย์ ID 623020542-0')"
      ],
      "execution_count": null,
      "outputs": []
    },
    {
      "cell_type": "code",
      "metadata": {
        "colab": {
          "base_uri": "https://localhost:8080/"
        },
        "id": "gHG8JShbZwTl",
        "outputId": "139a594d-d0dc-4dfb-8303-2eb73995678b"
      },
      "source": [
        "print_my_name()"
      ],
      "execution_count": null,
      "outputs": [
        {
          "output_type": "stream",
          "text": [
            "สุพิชญา ตั้งกิจวานิชย์ ID 623020542-0\n"
          ],
          "name": "stdout"
        }
      ]
    },
    {
      "cell_type": "markdown",
      "metadata": {
        "id": "dJsm4kBfZ55A"
      },
      "source": [
        "ถึงขาดได้เเต่มันก็ไม่มีประโยชน์อะไรเลย เเต่ถ้ามันมีครบก็จะสามารถทำอะไรได้มากกว่า"
      ]
    },
    {
      "cell_type": "markdown",
      "metadata": {
        "id": "p4x-CT8HaCKk"
      },
      "source": [
        "### 1. input ของ Function ใน python มีสองเเบบ```input ที่จำเป็นต้องใส่``` กับ ```input ที่ไม่จำเป็นต้องใส่``` (มีค่า default)\r\n",
        "###  2. เราจะต้องเรียง input ที่จำเป็นต้องใส่ขึ้นก่อน"
      ]
    },
    {
      "cell_type": "code",
      "metadata": {
        "id": "oZAyGILcZzft"
      },
      "source": [
        "def print_2lines_default(name, surname, ID, grade='F'): # เก็บ Input ทั้งหมด 4 อัน\r\n",
        "    st = f'ชื่อ {name} นามสกุล {surname} รหัส {ID}'\r\n",
        "    print(st)\r\n",
        "    st2=f'เกรดวิชา Multivariate >>> {grade}'\r\n",
        "    print(st2)"
      ],
      "execution_count": null,
      "outputs": []
    },
    {
      "cell_type": "code",
      "metadata": {
        "colab": {
          "base_uri": "https://localhost:8080/"
        },
        "id": "8DJhTjLPbEfV",
        "outputId": "795d4d94-0ad9-46d5-95aa-43bbf6e20dff"
      },
      "source": [
        "print_2lines_default('ภิญญาดา','เพ็ญสุข','623021052-2') # เเสดงผลลัพธ์ ตามInput ที่่ใส่เข้ามา"
      ],
      "execution_count": null,
      "outputs": [
        {
          "output_type": "stream",
          "text": [
            "ชื่อ ภิญญาดา นามสกุล เพ็ญสุข รหัส 623021052-2\n",
            "เกรดวิชา Multivariate >>> F\n"
          ],
          "name": "stdout"
        }
      ]
    },
    {
      "cell_type": "code",
      "metadata": {
        "colab": {
          "base_uri": "https://localhost:8080/"
        },
        "id": "OZlvaIbvbV6M",
        "outputId": "99b126ee-2b91-4678-fd8c-5b8e4fd51345"
      },
      "source": [
        "print_2lines_default('ภิญญาดา','เพ็ญสุข','623021052-2','A') # ถ้าเกรดเปลี่ยนก็สามารถใส่เข้ามาไว้ เเละ จะเเสดงผลลัพธ์ออกมาเป็น เกรด A ได้เช่นกัน"
      ],
      "execution_count": null,
      "outputs": [
        {
          "output_type": "stream",
          "text": [
            "ชื่อ ภิญญาดา นามสกุล เพ็ญสุข รหัส 623021052-2\n",
            "เกรดวิชา Multivariate >>> A\n"
          ],
          "name": "stdout"
        }
      ]
    },
    {
      "cell_type": "markdown",
      "metadata": {
        "id": "Vb3D0WFIcAu1"
      },
      "source": [
        "เราสามารถเรียก ฟังก์ชั่นโดยใช้ชื่อตัวเเปรของฟังก์ชั่นช่วยได้"
      ]
    },
    {
      "cell_type": "code",
      "metadata": {
        "colab": {
          "base_uri": "https://localhost:8080/"
        },
        "id": "LwD6cacQcHk9",
        "outputId": "8c1c7f63-252b-4a7b-a84f-ec7bee1ffa48"
      },
      "source": [
        "print_name2(name='กิตติมา', surname='อุปสุข', ID='623021040-9')"
      ],
      "execution_count": null,
      "outputs": [
        {
          "output_type": "stream",
          "text": [
            "ชื่อ กิตติมา นามสกุล อุปสุข รหัส 623021040-9\n"
          ],
          "name": "stdout"
        }
      ]
    },
    {
      "cell_type": "markdown",
      "metadata": {
        "id": "ZO7aAq8Lcpme"
      },
      "source": [
        "HW3 ให้เขียน function คำนวณจำนวนวินาทีจาก เวลาต่อไปนี้\r\n",
        "\r\n",
        "'14-15-31'\r\n",
        "\r\n",
        "'13-00-01'\r\n",
        "\r\n",
        "'05-49-44'\r\n",
        "\r\n",
        "'00-00-16'\r\n",
        "\r\n",
        "เเละ print ให้สวยงาม"
      ]
    },
    {
      "cell_type": "code",
      "metadata": {
        "id": "NS0ZZO7IcXaj"
      },
      "source": [
        "def Function_Time(Time): \r\n",
        "    st = Time.split('-')\r\n",
        "    st2= int(st[0])*3600 + int(st[1])*60 + int(st[2])\r\n",
        "    print(f' คำนวณเป็นจำนวนวินาทีได้เท่ากับ {st2} วินาที')"
      ],
      "execution_count": null,
      "outputs": []
    },
    {
      "cell_type": "code",
      "metadata": {
        "colab": {
          "base_uri": "https://localhost:8080/"
        },
        "id": "rnucoE7yPS4t",
        "outputId": "a60dfcf0-4bf1-4114-a136-16409a30b571"
      },
      "source": [
        "Function_Time ('14-15-31')"
      ],
      "execution_count": null,
      "outputs": [
        {
          "output_type": "stream",
          "text": [
            " คำนวณเป็นจำนวนวินาทีได้เท่ากับ 51331 วินาที\n"
          ],
          "name": "stdout"
        }
      ]
    },
    {
      "cell_type": "code",
      "metadata": {
        "colab": {
          "base_uri": "https://localhost:8080/"
        },
        "id": "MxRAnLclPeWd",
        "outputId": "c2dfe23d-e656-4682-e354-f40b3518aef8"
      },
      "source": [
        "Function_Time ('13-00-01')"
      ],
      "execution_count": null,
      "outputs": [
        {
          "output_type": "stream",
          "text": [
            " คำนวณเป็นจำนวนวินาทีได้เท่ากับ 46801 วินาที\n"
          ],
          "name": "stdout"
        }
      ]
    },
    {
      "cell_type": "code",
      "metadata": {
        "colab": {
          "base_uri": "https://localhost:8080/"
        },
        "id": "lF83FxndQOCd",
        "outputId": "5de1903b-36a4-4fff-e898-ba284c4d65a3"
      },
      "source": [
        "Function_Time ('05-49-44')"
      ],
      "execution_count": null,
      "outputs": [
        {
          "output_type": "stream",
          "text": [
            " คำนวณเป็นจำนวนวินาทีได้เท่ากับ 20984 วินาที\n"
          ],
          "name": "stdout"
        }
      ]
    },
    {
      "cell_type": "code",
      "metadata": {
        "colab": {
          "base_uri": "https://localhost:8080/"
        },
        "id": "mPvX2zwLQRtl",
        "outputId": "45ac0da6-c30e-4868-8023-d2d4415be76c"
      },
      "source": [
        "Function_Time ('00-00-16')"
      ],
      "execution_count": null,
      "outputs": [
        {
          "output_type": "stream",
          "text": [
            " คำนวณเป็นจำนวนวินาทีได้เท่ากับ 16 วินาที\n"
          ],
          "name": "stdout"
        }
      ]
    },
    {
      "cell_type": "markdown",
      "metadata": {
        "id": "t8HEVRpaQcMW"
      },
      "source": [
        "# Numpy -> package (เหมือนที่รวมฟังก์ชั่นเฉพาะเรื่องหนึ่งที่เอามาให้เราใช้งาน) สำหรับจัดการกับ Array ที่เป็นตัวเลข (Matrix)\r\n",
        "  Num + py\r\n",
        "  Number + py -> Number-Numerical + python\r\n",
        "  การใช้ package\r\n",
        "  1. ```import``` ```ขื่อ package``` #เรียกใช้ package \r\n",
        "  2. ```ชื่อ package```.```ชื่อฟังก์ชั่น```#เรีกยใช้ function "
      ]
    },
    {
      "cell_type": "code",
      "metadata": {
        "id": "26dNnrl2QvG6"
      },
      "source": [
        "import numpy"
      ],
      "execution_count": 1,
      "outputs": []
    },
    {
      "cell_type": "markdown",
      "metadata": {
        "id": "O1cVa_JmUCf1"
      },
      "source": [
        "data structure -> array\r\n",
        "สร้าง array (numpy array)"
      ]
    },
    {
      "cell_type": "code",
      "metadata": {
        "id": "y1CRv8AFUDIX",
        "outputId": "d2d3eea4-bb93-487a-ece7-2bc49492a4ed",
        "colab": {
          "base_uri": "https://localhost:8080/"
        }
      },
      "source": [
        "mat_ex1 = numpy.array([[5.2,3.0,4.5],[9.1,0.1,0.3]]) # เปลี่ยนฟังก์ชั่นเป็นarray\r\n",
        "print(mat_ex1)"
      ],
      "execution_count": 4,
      "outputs": [
        {
          "output_type": "stream",
          "text": [
            "[[5.2 3.  4.5]\n",
            " [9.1 0.1 0.3]]\n"
          ],
          "name": "stdout"
        }
      ]
    },
    {
      "cell_type": "markdown",
      "metadata": {
        "id": "XCGppgsEUvEQ"
      },
      "source": [
        "ชี้ค่าใน numpy array"
      ]
    },
    {
      "cell_type": "code",
      "metadata": {
        "id": "zF8W2CIkSYKH",
        "outputId": "577cc3de-8a63-43ab-a1bf-6fe0cc584ec0",
        "colab": {
          "base_uri": "https://localhost:8080/"
        }
      },
      "source": [
        "mat_ex1[1,1]   # listใส่ได้เเค่ตัวเดียว /[เเถว,หลัก]"
      ],
      "execution_count": 6,
      "outputs": [
        {
          "output_type": "execute_result",
          "data": {
            "text/plain": [
              "0.1"
            ]
          },
          "metadata": {
            "tags": []
          },
          "execution_count": 6
        }
      ]
    },
    {
      "cell_type": "markdown",
      "metadata": {
        "id": "eGmNyPTiVyOU"
      },
      "source": [
        "ถ้าไม่มี numpy array ก็จะใช้ list"
      ]
    },
    {
      "cell_type": "code",
      "metadata": {
        "id": "dupMUBN_V230",
        "outputId": "d11366d1-b69a-4019-ec2e-f16c82a9e0e5",
        "colab": {
          "base_uri": "https://localhost:8080/"
        }
      },
      "source": [
        "list_ex1 = [[5.2,3.0,4.5],[9.1,0.1,0.3]]\r\n",
        "print(list_ex1)"
      ],
      "execution_count": 7,
      "outputs": [
        {
          "output_type": "stream",
          "text": [
            "[[5.2, 3.0, 4.5], [9.1, 0.1, 0.3]]\n"
          ],
          "name": "stdout"
        }
      ]
    },
    {
      "cell_type": "code",
      "metadata": {
        "id": "OpEb-2DSV-2s",
        "outputId": "aad6c9ec-a6f6-4a6c-99f3-73a9fa90f043",
        "colab": {
          "base_uri": "https://localhost:8080/"
        }
      },
      "source": [
        "list_ex1[1][1] # สามารถชี้ได้เเค่ตัวเดียว "
      ],
      "execution_count": 10,
      "outputs": [
        {
          "output_type": "execute_result",
          "data": {
            "text/plain": [
              "0.1"
            ]
          },
          "metadata": {
            "tags": []
          },
          "execution_count": 10
        }
      ]
    },
    {
      "cell_type": "code",
      "metadata": {
        "id": "2ttofrX2XYPN",
        "outputId": "5b9794e7-f78c-4f95-be26-520d633a8da2",
        "colab": {
          "base_uri": "https://localhost:8080/"
        }
      },
      "source": [
        "print(list_ex1)\r\n",
        "a = list_ex1[1] # เป็นการชี้สองรอบ เป็นการชี้ซ้อนกันเรื่อยๆ เลยเกิดเป็น numpy ขึ้นมา\r\n",
        "print(a)\r\n",
        "print(a[1])\r\n"
      ],
      "execution_count": 13,
      "outputs": [
        {
          "output_type": "stream",
          "text": [
            "[[5.2, 3.0, 4.5], [9.1, 0.1, 0.3]]\n",
            "[9.1, 0.1, 0.3]\n",
            "0.1\n"
          ],
          "name": "stdout"
        }
      ]
    },
    {
      "cell_type": "markdown",
      "metadata": {
        "id": "WdAe2qlSX6ab"
      },
      "source": [
        "# Matrix Operations \r\n",
        "  data 2 แบบ -> matrix(2D array), scalar(ตัวเลขค่าคงที่/ตัวเเปรธรรมดา)"
      ]
    },
    {
      "cell_type": "code",
      "metadata": {
        "id": "jWhYPVqrXxHb",
        "outputId": "eb3dae4a-3110-431e-c4f6-1cc15cd81971",
        "colab": {
          "base_uri": "https://localhost:8080/"
        }
      },
      "source": [
        "mat_ex1 = numpy.array([[5.2,3.0,4.5],[9.1,0.1,0.3]])   #เเสดงmatrix 2 ข้อมูล\r\n",
        "print(mat_ex1)\r\n",
        "mat_ex2 = numpy.array([[2,3.7,5.9],[91,1.5,7.3]])\r\n",
        "print(mat_ex2)"
      ],
      "execution_count": 14,
      "outputs": [
        {
          "output_type": "stream",
          "text": [
            "[[5.2 3.  4.5]\n",
            " [9.1 0.1 0.3]]\n",
            "[[ 2.   3.7  5.9]\n",
            " [91.   1.5  7.3]]\n"
          ],
          "name": "stdout"
        }
      ]
    },
    {
      "cell_type": "markdown",
      "metadata": {
        "id": "y6LG7WM9ZEqK"
      },
      "source": [
        "### บวกกับลบ matrix เอาตัวเลขตำเเหน่งเดียวกันมาบวกกัน\r\n",
        "**ต้องมีมิติที่เท่ากัน**"
      ]
    },
    {
      "cell_type": "code",
      "metadata": {
        "id": "efIUcnwGZirz",
        "outputId": "bf324ed1-6173-4096-fa8a-e66f9b521d55",
        "colab": {
          "base_uri": "https://localhost:8080/"
        }
      },
      "source": [
        "mat_ex0 = numpy.array([[1,2],[3,4]])\r\n",
        "print(mat_ex0)"
      ],
      "execution_count": 18,
      "outputs": [
        {
          "output_type": "stream",
          "text": [
            "[[1 2]\n",
            " [3 4]]\n"
          ],
          "name": "stdout"
        }
      ]
    },
    {
      "cell_type": "code",
      "metadata": {
        "id": "E9nOwA_iYoDz",
        "outputId": "55507804-4761-41c9-eaad-147ed3fa2a53",
        "colab": {
          "base_uri": "https://localhost:8080/"
        }
      },
      "source": [
        "mat_ex3 = mat_ex1 + mat_ex2 #\r\n",
        "print(mat_ex3)\r\n",
        "mat_ex4 = mat_ex1 - mat_ex2\r\n",
        "print(mat_ex4)"
      ],
      "execution_count": 17,
      "outputs": [
        {
          "output_type": "stream",
          "text": [
            "[[  7.2   6.7  10.4]\n",
            " [100.1   1.6   7.6]]\n",
            "[[  3.2  -0.7  -1.4]\n",
            " [-81.9  -1.4  -7. ]]\n"
          ],
          "name": "stdout"
        }
      ]
    },
    {
      "cell_type": "code",
      "metadata": {
        "id": "G7EcpYphZ96L",
        "outputId": "75f8b595-5d3f-4f08-ecff-4262b6295481",
        "colab": {
          "base_uri": "https://localhost:8080/",
          "height": 168
        }
      },
      "source": [
        "mat_ex1 + mat_ex0  # มิติต่างกันไม่สามารถบวกลบกันได้"
      ],
      "execution_count": 20,
      "outputs": [
        {
          "output_type": "error",
          "ename": "ValueError",
          "evalue": "ignored",
          "traceback": [
            "\u001b[0;31m---------------------------------------------------------------------------\u001b[0m",
            "\u001b[0;31mValueError\u001b[0m                                Traceback (most recent call last)",
            "\u001b[0;32m<ipython-input-20-c199def72b8c>\u001b[0m in \u001b[0;36m<module>\u001b[0;34m()\u001b[0m\n\u001b[0;32m----> 1\u001b[0;31m \u001b[0mmat_ex1\u001b[0m \u001b[0;34m+\u001b[0m \u001b[0mmat_ex0\u001b[0m  \u001b[0;31m# มิติต่างกันไม่สามารถบวกลบกันได้\u001b[0m\u001b[0;34m\u001b[0m\u001b[0;34m\u001b[0m\u001b[0m\n\u001b[0m",
            "\u001b[0;31mValueError\u001b[0m: operands could not be broadcast together with shapes (2,3) (2,2) "
          ]
        }
      ]
    },
    {
      "cell_type": "markdown",
      "metadata": {
        "id": "1tZDrBO8aG2k"
      },
      "source": [
        "การตรวจสอบขนาดของ matrix"
      ]
    },
    {
      "cell_type": "code",
      "metadata": {
        "id": "8Mut4KORaRfB",
        "outputId": "a2a5a2a4-66bf-4c49-f0e5-695bc9194f43",
        "colab": {
          "base_uri": "https://localhost:8080/"
        }
      },
      "source": [
        "mat_ex3.shape  # ใช้ shape ในการตรวจสอบขนาดของmatrix"
      ],
      "execution_count": 21,
      "outputs": [
        {
          "output_type": "execute_result",
          "data": {
            "text/plain": [
              "(2, 3)"
            ]
          },
          "metadata": {
            "tags": []
          },
          "execution_count": 21
        }
      ]
    },
    {
      "cell_type": "code",
      "metadata": {
        "id": "tjdlAhYUabzq",
        "outputId": "abacd592-2ed5-41b8-c7c1-8da79cf3dada",
        "colab": {
          "base_uri": "https://localhost:8080/"
        }
      },
      "source": [
        "mat_ex3.shape[0] # ใช้งานเหมือน list เลย"
      ],
      "execution_count": 22,
      "outputs": [
        {
          "output_type": "execute_result",
          "data": {
            "text/plain": [
              "2"
            ]
          },
          "metadata": {
            "tags": []
          },
          "execution_count": 22
        }
      ]
    },
    {
      "cell_type": "markdown",
      "metadata": {
        "id": "PFk4kgz3a7OR"
      },
      "source": [
        "## คูณ matrix "
      ]
    },
    {
      "cell_type": "markdown",
      "metadata": {
        "id": "NerztW4kbdXR"
      },
      "source": [
        "![Screenshot 2021-01-19 135730.png](data:image/png;base64,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)"
      ]
    },
    {
      "cell_type": "code",
      "metadata": {
        "id": "ah16t3Gfb3oq",
        "outputId": "e1faceca-34e3-41a2-ad3a-bdcf54fd116c",
        "colab": {
          "base_uri": "https://localhost:8080/"
        }
      },
      "source": [
        "print(mat_ex1)\r\n",
        "print(mat_ex1.shape) # การเเสดงจำนวนของmatrix\r\n",
        "print(mat_ex2)    # เเสดง matrix ex1 เเละ ex2\r\n",
        "print(mat_ex2.shape) # การเเสดงจำนวนของmatrix"
      ],
      "execution_count": 29,
      "outputs": [
        {
          "output_type": "stream",
          "text": [
            "[[5.2 3.  4.5]\n",
            " [9.1 0.1 0.3]]\n",
            "(2, 3)\n",
            "[[ 2.   3.7  5.9]\n",
            " [91.   1.5  7.3]]\n",
            "(2, 3)\n"
          ],
          "name": "stdout"
        }
      ]
    },
    {
      "cell_type": "code",
      "metadata": {
        "id": "xChmxKGma4CB",
        "outputId": "2f99902b-bbf2-406c-a7b4-8554ac2b4f03",
        "colab": {
          "base_uri": "https://localhost:8080/"
        }
      },
      "source": [
        "mat_ex1 * mat_ex2 # การคูณที่ไม่ถูกต้อง เพราะมันคือการเอาตำเเหน่งเดียวกันมาคูณกัร"
      ],
      "execution_count": 26,
      "outputs": [
        {
          "output_type": "execute_result",
          "data": {
            "text/plain": [
              "array([[1.040e+01, 1.110e+01, 2.655e+01],\n",
              "       [8.281e+02, 1.500e-01, 2.190e+00]])"
            ]
          },
          "metadata": {
            "tags": []
          },
          "execution_count": 26
        }
      ]
    },
    {
      "cell_type": "markdown",
      "metadata": {
        "id": "6SmkR6kOetg8"
      },
      "source": [
        "### การคูณ matrix (เเถวคูณหลัก)\r\n",
        "  (หลักของ เมทริกซ์ตัวข้างหน้าต้องเท่ากับเเถวของเมทริกซ์ตัวข้างหลัง\r\n",
        "\r\n",
        "  dot product (AAA,x),(x,ZZZ) = (AAA,ZZZ)"
      ]
    },
    {
      "cell_type": "code",
      "metadata": {
        "id": "TO5Y_SlkcQki",
        "outputId": "1b12fbd5-27a2-40a4-8f27-4594c47fbcad",
        "colab": {
          "base_uri": "https://localhost:8080/",
          "height": 201
        }
      },
      "source": [
        "numpy.dot(mat_ex1,mat_ex2)  # เพราะไม่เป็นไปตามหลักการคูณเมทริกซ์"
      ],
      "execution_count": 27,
      "outputs": [
        {
          "output_type": "error",
          "ename": "ValueError",
          "evalue": "ignored",
          "traceback": [
            "\u001b[0;31m---------------------------------------------------------------------------\u001b[0m",
            "\u001b[0;31mValueError\u001b[0m                                Traceback (most recent call last)",
            "\u001b[0;32m<ipython-input-27-87326e5d09ab>\u001b[0m in \u001b[0;36m<module>\u001b[0;34m()\u001b[0m\n\u001b[0;32m----> 1\u001b[0;31m \u001b[0mnumpy\u001b[0m\u001b[0;34m.\u001b[0m\u001b[0mdot\u001b[0m\u001b[0;34m(\u001b[0m\u001b[0mmat_ex1\u001b[0m\u001b[0;34m,\u001b[0m\u001b[0mmat_ex2\u001b[0m\u001b[0;34m)\u001b[0m\u001b[0;34m\u001b[0m\u001b[0;34m\u001b[0m\u001b[0m\n\u001b[0m",
            "\u001b[0;32m<__array_function__ internals>\u001b[0m in \u001b[0;36mdot\u001b[0;34m(*args, **kwargs)\u001b[0m\n",
            "\u001b[0;31mValueError\u001b[0m: shapes (2,3) and (2,3) not aligned: 3 (dim 1) != 2 (dim 0)"
          ]
        }
      ]
    },
    {
      "cell_type": "code",
      "metadata": {
        "id": "rqx3vz1PVx0v",
        "outputId": "333bb08a-da93-463d-b59a-7b1e4a588339",
        "colab": {
          "base_uri": "https://localhost:8080/"
        }
      },
      "source": [
        "print(mat_ex1)\r\n",
        "print(mat_ex1.shape) # การเเสดงจำนวนของmatrix\r\n",
        "print(mat_ex2)    # เเสดง matrix ex1 เเละ ex2\r\n",
        "print(mat_ex2.shape) # การเเสดงจำนวนของmatrix"
      ],
      "execution_count": 30,
      "outputs": [
        {
          "output_type": "stream",
          "text": [
            "[[5.2 3.  4.5]\n",
            " [9.1 0.1 0.3]]\n",
            "(2, 3)\n",
            "[[ 2.   3.7  5.9]\n",
            " [91.   1.5  7.3]]\n",
            "(2, 3)\n"
          ],
          "name": "stdout"
        }
      ]
    },
    {
      "cell_type": "markdown",
      "metadata": {
        "id": "Xm13562jf6af"
      },
      "source": [
        "# Transpose กลับเเถวเป็นหลักกลับหลักเป็นเเถว\r\n",
        "\r\n",
        "```matrix.T```"
      ]
    },
    {
      "cell_type": "code",
      "metadata": {
        "id": "v6BR9Q0gg-IO",
        "outputId": "826d1bdb-0bc9-4a38-dce5-baeafbf505ff",
        "colab": {
          "base_uri": "https://localhost:8080/"
        }
      },
      "source": [
        "print(mat_ex2)\r\n",
        "print(mat_ex2.shape)"
      ],
      "execution_count": 32,
      "outputs": [
        {
          "output_type": "stream",
          "text": [
            "[[ 2.   3.7  5.9]\n",
            " [91.   1.5  7.3]]\n",
            "(2, 3)\n"
          ],
          "name": "stdout"
        }
      ]
    },
    {
      "cell_type": "code",
      "metadata": {
        "id": "Om1RUlO6hIC1",
        "outputId": "4f8e7814-a775-4d00-c77b-99f6a8fe61ce",
        "colab": {
          "base_uri": "https://localhost:8080/"
        }
      },
      "source": [
        "print(mat_ex2.T)\r\n",
        "print(mat_ex2.T.shape)"
      ],
      "execution_count": 33,
      "outputs": [
        {
          "output_type": "stream",
          "text": [
            "[[ 2.  91. ]\n",
            " [ 3.7  1.5]\n",
            " [ 5.9  7.3]]\n",
            "(3, 2)\n"
          ],
          "name": "stdout"
        }
      ]
    },
    {
      "cell_type": "code",
      "metadata": {
        "id": "xY658HSpRSIu",
        "outputId": "9d8de78b-3325-4ccf-f483-b7cc58f8a6f0",
        "colab": {
          "base_uri": "https://localhost:8080/"
        }
      },
      "source": [
        "numpy.dot(mat_ex1,mat_ex2.T) #(2,3).(3,2)"
      ],
      "execution_count": 31,
      "outputs": [
        {
          "output_type": "execute_result",
          "data": {
            "text/plain": [
              "array([[ 48.05, 510.55],\n",
              "       [ 20.34, 830.44]])"
            ]
          },
          "metadata": {
            "tags": []
          },
          "execution_count": 31
        }
      ]
    },
    {
      "cell_type": "code",
      "metadata": {
        "id": "-IUIz1kyhuie",
        "outputId": "f99269a8-c6ac-4ad8-fb07-8ba34fa8dde4",
        "colab": {
          "base_uri": "https://localhost:8080/"
        }
      },
      "source": [
        "numpy.dot(mat_ex1.T,mat_ex2) # (3,2).(2,3) = (3,3)"
      ],
      "execution_count": 37,
      "outputs": [
        {
          "output_type": "execute_result",
          "data": {
            "text/plain": [
              "array([[838.5 ,  32.89,  97.11],\n",
              "       [ 15.1 ,  11.25,  18.43],\n",
              "       [ 36.3 ,  17.1 ,  28.74]])"
            ]
          },
          "metadata": {
            "tags": []
          },
          "execution_count": 37
        }
      ]
    },
    {
      "cell_type": "markdown",
      "metadata": {
        "id": "QOGLb20jigLh"
      },
      "source": [
        "Hw 4 อธิบายการหา  Determinant เเละ Inverse matrix (รูปเเละคำอธิบาย)                                                                                                                          \r\n"
      ]
    },
    {
      "cell_type": "markdown",
      "metadata": {
        "id": "dliiaNQQjNcN"
      },
      "source": [
        ""
      ]
    },
    {
      "cell_type": "code",
      "metadata": {
        "id": "0h8fgRSxifQ3"
      },
      "source": [
        ""
      ],
      "execution_count": null,
      "outputs": []
    },
    {
      "cell_type": "markdown",
      "metadata": {
        "id": "UIlKdHKFQyah"
      },
      "source": [
        "~~pandas~~\r\n",
        "\r\n",
        "\r\n",
        "\r\n",
        "\r\n"
      ]
    }
  ]
}