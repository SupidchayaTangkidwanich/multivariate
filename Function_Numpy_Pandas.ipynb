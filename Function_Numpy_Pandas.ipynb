{
  "nbformat": 4,
  "nbformat_minor": 0,
  "metadata": {
    "colab": {
      "name": "Function_Numpy_Pandas.ipynb",
      "provenance": [],
      "authorship_tag": "ABX9TyOSvaSeBmfaJEfM5iiNWNOu",
      "include_colab_link": true
    },
    "kernelspec": {
      "name": "python3",
      "display_name": "Python 3"
    }
  },
  "cells": [
    {
      "cell_type": "markdown",
      "metadata": {
        "id": "view-in-github",
        "colab_type": "text"
      },
      "source": [
        "<a href=\"https://colab.research.google.com/github/SupidchayaTangkidwanich/multivariate/blob/main/Function_Numpy_Pandas.ipynb\" target=\"_parent\"><img src=\"https://colab.research.google.com/assets/colab-badge.svg\" alt=\"Open In Colab\"/></a>"
      ]
    },
    {
      "cell_type": "markdown",
      "metadata": {
        "id": "8_n-u1rYSo92"
      },
      "source": [
        "# Function"
      ]
    },
    {
      "cell_type": "markdown",
      "metadata": {
        "id": "y7K1Y1qQSsbG"
      },
      "source": [
        " หน้าที่  รับ input (x)  มาเพื่อเปลี่ยนเป็น output (y)"
      ]
    },
    {
      "cell_type": "markdown",
      "metadata": {
        "id": "p1D1hnViT-dk"
      },
      "source": [
        "\r\n",
        "```python\r\n",
        "```def function_name(_Input_):\\\r\n",
        "      do_something with_Input_to produce_Output_\\\r\n",
        "      return_Output_\r\n"
      ]
    },
    {
      "cell_type": "markdown",
      "metadata": {
        "id": "Cy9hstWXS54s"
      },
      "source": [
        "มีส่วนสำคัญทั้งหมด 4 ส่วน\r\n",
        "      \r\n",
        "      1. บอก python ว่าเราจะเขียนฟังก์ชั่น ชื่ออะไร def function_name():(ขาดไม่ได้)\r\n",
        "      2. กำหนดตัวแปรที่จะเป็น Input (ขาดได้)\r\n",
        "      3. ส่วนประมวลผล do_something with Input to get Output (ขาดไม่ได้)\r\n",
        "      4. ส่วน output return Output (ขาดได้)\r\n",
        "      เราจะใช้เว้นวรรค(indent)เพื่อบอกขอบเขตของcode"
      ]
    },
    {
      "cell_type": "markdown",
      "metadata": {
        "id": "AWNjaOaTWNd-"
      },
      "source": [
        "## สร้างฟังก์ชั่น"
      ]
    },
    {
      "cell_type": "code",
      "metadata": {
        "colab": {
          "base_uri": "https://localhost:8080/"
        },
        "id": "-huAzA7BT9Ku",
        "outputId": "17f9fd55-ffc9-42d4-bee3-aeebe466ac75"
      },
      "source": [
        "def print_name(name,surname,ID):  # สามารถใส่กี่ตัวก็ได้หรือไม่มีก็ได้\r\n",
        "    st = f'ชื่อ {name} นามสกุล {surname} ID {ID}'\r\n",
        "    return st\r\n",
        "print('outside function')"
      ],
      "execution_count": 4,
      "outputs": [
        {
          "output_type": "stream",
          "text": [
            "outside function\n"
          ],
          "name": "stdout"
        }
      ]
    },
    {
      "cell_type": "markdown",
      "metadata": {
        "id": "RrcG4uwTWT_U"
      },
      "source": [
        "การเรียกใช้ฟังก์ชั่น"
      ]
    },
    {
      "cell_type": "code",
      "metadata": {
        "colab": {
          "base_uri": "https://localhost:8080/",
          "height": 35
        },
        "id": "2XEsOlbZSkyE",
        "outputId": "95c04c0b-9f75-4ee5-f12f-b79487956c2e"
      },
      "source": [
        "print_name('กิตติมา','อุปสุข','623021040-9') # มันจะไม่เเสดง outside function เพราะมันอยู่นอกขอบเขตฟังก์ชั่น"
      ],
      "execution_count": 2,
      "outputs": [
        {
          "output_type": "execute_result",
          "data": {
            "application/vnd.google.colaboratory.intrinsic+json": {
              "type": "string"
            },
            "text/plain": [
              "'ชื่อ กิตติมา นามสกุล อุปสุข ID 623021040-9'"
            ]
          },
          "metadata": {
            "tags": []
          },
          "execution_count": 2
        }
      ]
    },
    {
      "cell_type": "code",
      "metadata": {
        "colab": {
          "base_uri": "https://localhost:8080/"
        },
        "id": "VSVfv9Z-S6uu",
        "outputId": "62618b75-ee8c-4911-e3a2-67ed31e81c3f"
      },
      "source": [
        "output_string = print_name('กิตติมา','อุปสุข','623021040-9')\r\n",
        "print(output_string) # การเปลี่ยนผลลัพธ์ออกมาเป็นข้อความต่อกัน"
      ],
      "execution_count": 5,
      "outputs": [
        {
          "output_type": "stream",
          "text": [
            "ชื่อ กิตติมา นามสกุล อุปสุข ID 623021040-9\n"
          ],
          "name": "stdout"
        }
      ]
    },
    {
      "cell_type": "code",
      "metadata": {
        "id": "bCejE84rXT-8"
      },
      "source": [
        "def print_name2(surname,ID,name):  # การเเสดงผลลัพธ์ภายในบรรทัดเดียว เเบบstring\r\n",
        "    st = f'ชื่อ {name} นามสกุล {surname} รหัส {ID}'\r\n",
        "    print(st)"
      ],
      "execution_count": 9,
      "outputs": []
    },
    {
      "cell_type": "code",
      "metadata": {
        "colab": {
          "base_uri": "https://localhost:8080/"
        },
        "id": "2Y81m_IkXvO9",
        "outputId": "842f36f5-303b-4c62-e7b0-c4db27dc86be"
      },
      "source": [
        "print_name2('กิตติมา','อุปสุข','623021040-9')"
      ],
      "execution_count": 10,
      "outputs": [
        {
          "output_type": "stream",
          "text": [
            "ชื่อ 623021040-9 นามสกุล กิตติมา รหัส อุปสุข\n"
          ],
          "name": "stdout"
        }
      ]
    },
    {
      "cell_type": "code",
      "metadata": {
        "colab": {
          "base_uri": "https://localhost:8080/"
        },
        "id": "m_OEc0RDXzST",
        "outputId": "be55d37e-2f48-440e-d233-95f2a4cdfeb9"
      },
      "source": [
        "op2 = print_name2('กิตติมา','อุปสุข','623021040-9')"
      ],
      "execution_count": 11,
      "outputs": [
        {
          "output_type": "stream",
          "text": [
            "ชื่อ 623021040-9 นามสกุล กิตติมา รหัส อุปสุข\n"
          ],
          "name": "stdout"
        }
      ]
    },
    {
      "cell_type": "code",
      "metadata": {
        "colab": {
          "base_uri": "https://localhost:8080/"
        },
        "id": "CAw6i78jYCJk",
        "outputId": "6794dbfa-72cb-4a90-8256-11bbc476e1a9"
      },
      "source": [
        "print(op2) # ขึ้น None เพราะไม่มีการ return กลับมาเก็บไว้"
      ],
      "execution_count": 12,
      "outputs": [
        {
          "output_type": "stream",
          "text": [
            "None\n"
          ],
          "name": "stdout"
        }
      ]
    },
    {
      "cell_type": "markdown",
      "metadata": {
        "id": "WdqzRkaIZIiW"
      },
      "source": [
        "ฟังก์ชั่นไม่จำเป็นต้องมี Input"
      ]
    },
    {
      "cell_type": "code",
      "metadata": {
        "id": "OYU8E5L6YEaU"
      },
      "source": [
        "def Pi():\r\n",
        "    return 3.14159265359"
      ],
      "execution_count": 14,
      "outputs": []
    },
    {
      "cell_type": "code",
      "metadata": {
        "colab": {
          "base_uri": "https://localhost:8080/"
        },
        "id": "J_4Hvv1rY4vm",
        "outputId": "875a53d6-7a63-4190-f979-2c9d88529f56"
      },
      "source": [
        "#คำนวนพพื้นที่วงกลมที่มีขนาดเส้นผ่านศูนย์กลางเท่ากับ 3\r\n",
        "Pi()*(1.5**2)  # เเค่return ค่าที่เราต้องการ\r\n"
      ],
      "execution_count": 15,
      "outputs": [
        {
          "output_type": "execute_result",
          "data": {
            "text/plain": [
              "7.0685834705775"
            ]
          },
          "metadata": {
            "tags": []
          },
          "execution_count": 15
        }
      ]
    },
    {
      "cell_type": "code",
      "metadata": {
        "id": "eo-GJhukZij1"
      },
      "source": [
        "def print_my_name():\r\n",
        "    print('สุพิชญา ตั้งกิจวานิชย์ ID 623020542-0')"
      ],
      "execution_count": 19,
      "outputs": []
    },
    {
      "cell_type": "code",
      "metadata": {
        "colab": {
          "base_uri": "https://localhost:8080/"
        },
        "id": "gHG8JShbZwTl",
        "outputId": "139a594d-d0dc-4dfb-8303-2eb73995678b"
      },
      "source": [
        "print_my_name()"
      ],
      "execution_count": 20,
      "outputs": [
        {
          "output_type": "stream",
          "text": [
            "สุพิชญา ตั้งกิจวานิชย์ ID 623020542-0\n"
          ],
          "name": "stdout"
        }
      ]
    },
    {
      "cell_type": "markdown",
      "metadata": {
        "id": "dJsm4kBfZ55A"
      },
      "source": [
        "ถึงขาดได้เเต่มันก็ไม่มีประโยชน์อะไรเลย เเต่ถ้ามันมีครบก็จะสามารถทำอะไรได้มากกว่า"
      ]
    },
    {
      "cell_type": "markdown",
      "metadata": {
        "id": "p4x-CT8HaCKk"
      },
      "source": [
        "### 1. input ของ Function ใน python มีสองเเบบ```input ที่จำเป็นต้องใส่``` กับ ```input ที่ไม่จำเป็นต้องใส่``` (มีค่า default)\r\n",
        "###  2. เราจะต้องเรียง input ที่จำเป็นต้องใส่ขึ้นก่อน"
      ]
    },
    {
      "cell_type": "code",
      "metadata": {
        "id": "oZAyGILcZzft"
      },
      "source": [
        "def print_2lines_default(name, surname, ID, grade='F'): # เก็บ Input ทั้งหมด 4 อัน\r\n",
        "    st = f'ชื่อ {name} นามสกุล {surname} รหัส {ID}'\r\n",
        "    print(st)\r\n",
        "    st2=f'เกรดวิชา Multivariate >>> {grade}'\r\n",
        "    print(st2)"
      ],
      "execution_count": 37,
      "outputs": []
    },
    {
      "cell_type": "code",
      "metadata": {
        "colab": {
          "base_uri": "https://localhost:8080/"
        },
        "id": "8DJhTjLPbEfV",
        "outputId": "795d4d94-0ad9-46d5-95aa-43bbf6e20dff"
      },
      "source": [
        "print_2lines_default('ภิญญาดา','เพ็ญสุข','623021052-2') # เเสดงผลลัพธ์ ตามInput ที่่ใส่เข้ามา"
      ],
      "execution_count": 38,
      "outputs": [
        {
          "output_type": "stream",
          "text": [
            "ชื่อ ภิญญาดา นามสกุล เพ็ญสุข รหัส 623021052-2\n",
            "เกรดวิชา Multivariate >>> F\n"
          ],
          "name": "stdout"
        }
      ]
    },
    {
      "cell_type": "code",
      "metadata": {
        "colab": {
          "base_uri": "https://localhost:8080/"
        },
        "id": "OZlvaIbvbV6M",
        "outputId": "99b126ee-2b91-4678-fd8c-5b8e4fd51345"
      },
      "source": [
        "print_2lines_default('ภิญญาดา','เพ็ญสุข','623021052-2','A') # ถ้าเกรดเปลี่ยนก็สามารถใส่เข้ามาไว้ เเละ จะเเสดงผลลัพธ์ออกมาเป็น เกรด A ได้เช่นกัน"
      ],
      "execution_count": 39,
      "outputs": [
        {
          "output_type": "stream",
          "text": [
            "ชื่อ ภิญญาดา นามสกุล เพ็ญสุข รหัส 623021052-2\n",
            "เกรดวิชา Multivariate >>> A\n"
          ],
          "name": "stdout"
        }
      ]
    },
    {
      "cell_type": "markdown",
      "metadata": {
        "id": "Vb3D0WFIcAu1"
      },
      "source": [
        "เราสามารถเรียก ฟังก์ชั่นโดยใช้ชื่อตัวเเปรของฟังก์ชั่นช่วยได้"
      ]
    },
    {
      "cell_type": "code",
      "metadata": {
        "colab": {
          "base_uri": "https://localhost:8080/"
        },
        "id": "LwD6cacQcHk9",
        "outputId": "8c1c7f63-252b-4a7b-a84f-ec7bee1ffa48"
      },
      "source": [
        "print_name2(name='กิตติมา', surname='อุปสุข', ID='623021040-9')"
      ],
      "execution_count": 34,
      "outputs": [
        {
          "output_type": "stream",
          "text": [
            "ชื่อ กิตติมา นามสกุล อุปสุข รหัส 623021040-9\n"
          ],
          "name": "stdout"
        }
      ]
    },
    {
      "cell_type": "markdown",
      "metadata": {
        "id": "ZO7aAq8Lcpme"
      },
      "source": [
        "HW3 ให้เขียน function คำนวณจำนวนวินาทีจาก เวลาต่อไปนี้\r\n",
        "\r\n",
        "'14-15-31'\r\n",
        "\r\n",
        "'13-00-01'\r\n",
        "\r\n",
        "'05-49-44'\r\n",
        "\r\n",
        "'00-00-16'\r\n",
        "\r\n",
        "เเละ print ให้สวยงาม"
      ]
    },
    {
      "cell_type": "code",
      "metadata": {
        "id": "NS0ZZO7IcXaj"
      },
      "source": [
        ""
      ],
      "execution_count": null,
      "outputs": []
    }
  ]
}