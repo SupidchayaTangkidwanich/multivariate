{
  "nbformat": 4,
  "nbformat_minor": 0,
  "metadata": {
    "colab": {
      "name": "Intro to Multivariate.ipynb",
      "provenance": [],
      "authorship_tag": "ABX9TyPPbytc5usodOsZMHPOS7Lw",
      "include_colab_link": true
    },
    "kernelspec": {
      "name": "python3",
      "display_name": "Python 3"
    }
  },
  "cells": [
    {
      "cell_type": "markdown",
      "metadata": {
        "id": "view-in-github",
        "colab_type": "text"
      },
      "source": [
        "<a href=\"https://colab.research.google.com/github/SupidchayaTangkidwanich/multivariate/blob/main/Intro_to_Multivariate.ipynb\" target=\"_parent\"><img src=\"https://colab.research.google.com/assets/colab-badge.svg\" alt=\"Open In Colab\"/></a>"
      ]
    },
    {
      "cell_type": "markdown",
      "metadata": {
        "id": "4B_LdiLKiB6h"
      },
      "source": [
        "นางสาวสุพิชญา ตั้งกิจวานิชย์ ID 623020542-0"
      ]
    },
    {
      "cell_type": "code",
      "metadata": {
        "colab": {
          "base_uri": "https://localhost:8080/"
        },
        "id": "Zz8dZyGuh7cK",
        "outputId": "909d4165-f7f3-4428-d926-a164fdcd4aef"
      },
      "source": [
        "print('สุพิชญา')  #single quote (') ใช้ล้อมรอบข้อความ"
      ],
      "execution_count": 3,
      "outputs": [
        {
          "output_type": "stream",
          "text": [
            "สุพิชญา\n"
          ],
          "name": "stdout"
        }
      ]
    }
  ]
}