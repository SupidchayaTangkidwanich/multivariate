{
  "nbformat": 4,
  "nbformat_minor": 0,
  "metadata": {
    "colab": {
      "name": "Multivariate Exam.ipynb",
      "provenance": [],
      "include_colab_link": true
    },
    "kernelspec": {
      "name": "python3",
      "display_name": "Python 3"
    },
    "language_info": {
      "name": "python"
    }
  },
  "cells": [
    {
      "cell_type": "markdown",
      "metadata": {
        "id": "view-in-github",
        "colab_type": "text"
      },
      "source": [
        "<a href=\"https://colab.research.google.com/github/SupidchayaTangkidwanich/multivariate/blob/main/Multivariate_Exam.ipynb\" target=\"_parent\"><img src=\"https://colab.research.google.com/assets/colab-badge.svg\" alt=\"Open In Colab\"/></a>"
      ]
    },
    {
      "cell_type": "markdown",
      "metadata": {
        "id": "JZxiNADfaDtv"
      },
      "source": [
        "ให้นักศึกษาทำข้อสอบใน Colab Notebook นี้โดยกรอกข้อมูลของตัวเองใน cell ที่ 2 แล้วรัน cell ที่ 1 - 5 และเริ่มทำข้อสอบใน cell ที่ 6 เป็นต้นไป\n",
        "\n",
        "โดยโจทย์คือ\n",
        "1. ข้อมูลโจทย์ อยู่ใน ตัวแปร ```Data```\n",
        "2. ทำ clustering แล้วทำ visualize ข้อมูลแบบ 2 มิติ\n",
        "3. ลด Dimension ของข้อมูลเหลือ 2 มิติ แล้วทำ clustering แล้ว visualize ข้อมูลแบบ 2 มิติ\n",
        "4. เปรียบเทียบความแตกต่างของผลข้อ 2. กับ ข้อ 3.\n",
        "5. เขียน comments อธิบายทุกขั้นตอน\n",
        "6. อัด video อธิบาย code ทุกๆขั้นตอนรวมถึงผลแล้วอัพลง youtube ในรูปแบบ unlist \n",
        "7. commit โดยใช้ชื่อ commit เป็น link youtube ที่อธิบาย code ในข้อ 6.\n",
        "\n",
        "กำหนดส่งวันที่ 2 พฤษภาคม 2564 (โดยให้มากรอกวันที่ commit ครั้งสุดท้ายใน sheet: https://docs.google.com/spreadsheets/d/1_qJwLDJVtOW1HxBcf_FHVc6UT4J_SOonuR6o3EEnVzw/edit?usp=sharing ช่อง Final)"
      ]
    },
    {
      "cell_type": "code",
      "metadata": {
        "id": "cWl2x1bPGtQl"
      },
      "source": [
        "from sklearn.datasets import make_blobs\n",
        "import random,math\n",
        "import numpy as np\n",
        "import pandas"
      ],
      "execution_count": 2,
      "outputs": []
    },
    {
      "cell_type": "code",
      "metadata": {
        "id": "gZfzuiHsZksh"
      },
      "source": [
        "Name = 'สุพิชญา ตั้งกิจวานิชย์'\n",
        "ID = '6230205420'"
      ],
      "execution_count": 3,
      "outputs": []
    },
    {
      "cell_type": "code",
      "metadata": {
        "id": "8hFQXkF5aAiA"
      },
      "source": [
        "def DataGenerator(name,id):\n",
        "    random.seed(int(id[3:6]))\n",
        "    numfeat = random.randint(20,30)\n",
        "    ct = random.randint(len(name)-6,len(name))\n",
        "    \n",
        "    X, y = make_blobs(n_samples=10000, centers=ct, n_features=numfeat , random_state=int(id[3:6]))\n",
        "\n",
        "    print(f'{id[3:6]}:{numfeat}:{ct}')\n",
        "    X_t = (X[:,1]*2)+int(id[3])\n",
        "    X_t2 = (X[:,-1]*5)+int(id[4])\n",
        "\n",
        "    DT = np.append(X,X_t.reshape([10000,1]),axis=1)\n",
        "    DT = np.append(DT,X_t2.reshape([10000,1]),axis=1)\n",
        "    \n",
        "    return pandas.DataFrame(DT)"
      ],
      "execution_count": 4,
      "outputs": []
    },
    {
      "cell_type": "code",
      "metadata": {
        "colab": {
          "base_uri": "https://localhost:8080/"
        },
        "id": "hbXlxumSBX9i",
        "outputId": "1f23efec-b763-4037-b670-51a6cdbc2414"
      },
      "source": [
        "Data = DataGenerator(Name,ID)"
      ],
      "execution_count": 5,
      "outputs": [
        {
          "output_type": "stream",
          "text": [
            "020:30:22\n"
          ],
          "name": "stdout"
        }
      ]
    },
    {
      "cell_type": "code",
      "metadata": {
        "colab": {
          "base_uri": "https://localhost:8080/",
          "height": 422
        },
        "id": "pQcCySXvBdN-",
        "outputId": "29c9a461-6056-4f44-84b5-02f8cbafea05"
      },
      "source": [
        "Data"
      ],
      "execution_count": 6,
      "outputs": [
        {
          "output_type": "execute_result",
          "data": {
            "text/html": [
              "<div>\n",
              "<style scoped>\n",
              "    .dataframe tbody tr th:only-of-type {\n",
              "        vertical-align: middle;\n",
              "    }\n",
              "\n",
              "    .dataframe tbody tr th {\n",
              "        vertical-align: top;\n",
              "    }\n",
              "\n",
              "    .dataframe thead th {\n",
              "        text-align: right;\n",
              "    }\n",
              "</style>\n",
              "<table border=\"1\" class=\"dataframe\">\n",
              "  <thead>\n",
              "    <tr style=\"text-align: right;\">\n",
              "      <th></th>\n",
              "      <th>0</th>\n",
              "      <th>1</th>\n",
              "      <th>2</th>\n",
              "      <th>3</th>\n",
              "      <th>4</th>\n",
              "      <th>5</th>\n",
              "      <th>6</th>\n",
              "      <th>7</th>\n",
              "      <th>8</th>\n",
              "      <th>9</th>\n",
              "      <th>10</th>\n",
              "      <th>11</th>\n",
              "      <th>12</th>\n",
              "      <th>13</th>\n",
              "      <th>14</th>\n",
              "      <th>15</th>\n",
              "      <th>16</th>\n",
              "      <th>17</th>\n",
              "      <th>18</th>\n",
              "      <th>19</th>\n",
              "      <th>20</th>\n",
              "      <th>21</th>\n",
              "      <th>22</th>\n",
              "      <th>23</th>\n",
              "      <th>24</th>\n",
              "      <th>25</th>\n",
              "      <th>26</th>\n",
              "      <th>27</th>\n",
              "      <th>28</th>\n",
              "      <th>29</th>\n",
              "      <th>30</th>\n",
              "      <th>31</th>\n",
              "    </tr>\n",
              "  </thead>\n",
              "  <tbody>\n",
              "    <tr>\n",
              "      <th>0</th>\n",
              "      <td>-5.235210</td>\n",
              "      <td>-2.860860</td>\n",
              "      <td>-0.805871</td>\n",
              "      <td>-6.856979</td>\n",
              "      <td>-6.777006</td>\n",
              "      <td>-8.583028</td>\n",
              "      <td>7.259264</td>\n",
              "      <td>1.447058</td>\n",
              "      <td>-4.348699</td>\n",
              "      <td>-11.271009</td>\n",
              "      <td>3.188789</td>\n",
              "      <td>-3.706942</td>\n",
              "      <td>2.009193</td>\n",
              "      <td>1.570851</td>\n",
              "      <td>9.985383</td>\n",
              "      <td>2.633004</td>\n",
              "      <td>-0.269312</td>\n",
              "      <td>9.070029</td>\n",
              "      <td>7.393669</td>\n",
              "      <td>-8.279610</td>\n",
              "      <td>-7.588774</td>\n",
              "      <td>-0.331426</td>\n",
              "      <td>4.126808</td>\n",
              "      <td>0.896063</td>\n",
              "      <td>-6.202212</td>\n",
              "      <td>-2.145307</td>\n",
              "      <td>-9.459880</td>\n",
              "      <td>-6.749552</td>\n",
              "      <td>-7.682965</td>\n",
              "      <td>4.194720</td>\n",
              "      <td>-5.721721</td>\n",
              "      <td>22.973601</td>\n",
              "    </tr>\n",
              "    <tr>\n",
              "      <th>1</th>\n",
              "      <td>9.510645</td>\n",
              "      <td>-11.724693</td>\n",
              "      <td>-5.819783</td>\n",
              "      <td>-0.784435</td>\n",
              "      <td>4.213936</td>\n",
              "      <td>9.149353</td>\n",
              "      <td>7.801894</td>\n",
              "      <td>1.899180</td>\n",
              "      <td>-2.084421</td>\n",
              "      <td>-0.698642</td>\n",
              "      <td>6.422391</td>\n",
              "      <td>3.871113</td>\n",
              "      <td>4.632243</td>\n",
              "      <td>-0.403535</td>\n",
              "      <td>6.446859</td>\n",
              "      <td>5.793426</td>\n",
              "      <td>-5.205285</td>\n",
              "      <td>0.412460</td>\n",
              "      <td>5.175845</td>\n",
              "      <td>-9.418035</td>\n",
              "      <td>-9.259097</td>\n",
              "      <td>10.100478</td>\n",
              "      <td>7.104180</td>\n",
              "      <td>4.488556</td>\n",
              "      <td>7.110296</td>\n",
              "      <td>-5.801875</td>\n",
              "      <td>-8.563083</td>\n",
              "      <td>4.534392</td>\n",
              "      <td>-1.015977</td>\n",
              "      <td>6.009005</td>\n",
              "      <td>-23.449386</td>\n",
              "      <td>32.045023</td>\n",
              "    </tr>\n",
              "    <tr>\n",
              "      <th>2</th>\n",
              "      <td>9.768125</td>\n",
              "      <td>-9.505962</td>\n",
              "      <td>-5.533852</td>\n",
              "      <td>-1.030323</td>\n",
              "      <td>4.315569</td>\n",
              "      <td>10.896623</td>\n",
              "      <td>7.123481</td>\n",
              "      <td>2.266101</td>\n",
              "      <td>-1.416885</td>\n",
              "      <td>-2.166934</td>\n",
              "      <td>2.684397</td>\n",
              "      <td>4.669916</td>\n",
              "      <td>6.283261</td>\n",
              "      <td>-2.630425</td>\n",
              "      <td>10.382282</td>\n",
              "      <td>5.216370</td>\n",
              "      <td>-5.983786</td>\n",
              "      <td>1.917078</td>\n",
              "      <td>3.739032</td>\n",
              "      <td>-10.258786</td>\n",
              "      <td>-9.797286</td>\n",
              "      <td>9.477836</td>\n",
              "      <td>5.785408</td>\n",
              "      <td>4.343419</td>\n",
              "      <td>8.028847</td>\n",
              "      <td>-4.558729</td>\n",
              "      <td>-7.085180</td>\n",
              "      <td>3.283552</td>\n",
              "      <td>-0.202463</td>\n",
              "      <td>5.715904</td>\n",
              "      <td>-19.011924</td>\n",
              "      <td>30.579518</td>\n",
              "    </tr>\n",
              "    <tr>\n",
              "      <th>3</th>\n",
              "      <td>0.265184</td>\n",
              "      <td>-3.451455</td>\n",
              "      <td>-6.242929</td>\n",
              "      <td>11.222199</td>\n",
              "      <td>-1.053836</td>\n",
              "      <td>4.398465</td>\n",
              "      <td>-6.825062</td>\n",
              "      <td>4.595991</td>\n",
              "      <td>3.862471</td>\n",
              "      <td>4.729208</td>\n",
              "      <td>9.165959</td>\n",
              "      <td>6.151587</td>\n",
              "      <td>-0.823517</td>\n",
              "      <td>9.247155</td>\n",
              "      <td>-6.436628</td>\n",
              "      <td>3.884506</td>\n",
              "      <td>8.047165</td>\n",
              "      <td>2.184967</td>\n",
              "      <td>2.046106</td>\n",
              "      <td>8.087513</td>\n",
              "      <td>-1.901367</td>\n",
              "      <td>0.155482</td>\n",
              "      <td>-1.531668</td>\n",
              "      <td>5.135129</td>\n",
              "      <td>-8.600767</td>\n",
              "      <td>-7.648380</td>\n",
              "      <td>-7.757502</td>\n",
              "      <td>5.174454</td>\n",
              "      <td>-4.832281</td>\n",
              "      <td>2.099184</td>\n",
              "      <td>-6.902911</td>\n",
              "      <td>12.495921</td>\n",
              "    </tr>\n",
              "    <tr>\n",
              "      <th>4</th>\n",
              "      <td>-1.146704</td>\n",
              "      <td>-7.142143</td>\n",
              "      <td>1.101740</td>\n",
              "      <td>7.364864</td>\n",
              "      <td>-9.830379</td>\n",
              "      <td>-2.518818</td>\n",
              "      <td>-0.905386</td>\n",
              "      <td>-2.886974</td>\n",
              "      <td>-7.672461</td>\n",
              "      <td>-5.743728</td>\n",
              "      <td>9.156414</td>\n",
              "      <td>-5.083711</td>\n",
              "      <td>-11.229786</td>\n",
              "      <td>-1.163712</td>\n",
              "      <td>2.759683</td>\n",
              "      <td>-2.571018</td>\n",
              "      <td>8.121640</td>\n",
              "      <td>-4.834813</td>\n",
              "      <td>9.562179</td>\n",
              "      <td>-2.797196</td>\n",
              "      <td>7.536796</td>\n",
              "      <td>0.250696</td>\n",
              "      <td>-6.008766</td>\n",
              "      <td>-9.761062</td>\n",
              "      <td>8.361335</td>\n",
              "      <td>7.242344</td>\n",
              "      <td>4.432262</td>\n",
              "      <td>-1.469124</td>\n",
              "      <td>-1.062886</td>\n",
              "      <td>6.270803</td>\n",
              "      <td>-14.284285</td>\n",
              "      <td>33.354013</td>\n",
              "    </tr>\n",
              "    <tr>\n",
              "      <th>...</th>\n",
              "      <td>...</td>\n",
              "      <td>...</td>\n",
              "      <td>...</td>\n",
              "      <td>...</td>\n",
              "      <td>...</td>\n",
              "      <td>...</td>\n",
              "      <td>...</td>\n",
              "      <td>...</td>\n",
              "      <td>...</td>\n",
              "      <td>...</td>\n",
              "      <td>...</td>\n",
              "      <td>...</td>\n",
              "      <td>...</td>\n",
              "      <td>...</td>\n",
              "      <td>...</td>\n",
              "      <td>...</td>\n",
              "      <td>...</td>\n",
              "      <td>...</td>\n",
              "      <td>...</td>\n",
              "      <td>...</td>\n",
              "      <td>...</td>\n",
              "      <td>...</td>\n",
              "      <td>...</td>\n",
              "      <td>...</td>\n",
              "      <td>...</td>\n",
              "      <td>...</td>\n",
              "      <td>...</td>\n",
              "      <td>...</td>\n",
              "      <td>...</td>\n",
              "      <td>...</td>\n",
              "      <td>...</td>\n",
              "      <td>...</td>\n",
              "    </tr>\n",
              "    <tr>\n",
              "      <th>9995</th>\n",
              "      <td>2.468904</td>\n",
              "      <td>1.508715</td>\n",
              "      <td>-5.344932</td>\n",
              "      <td>-10.006272</td>\n",
              "      <td>4.791907</td>\n",
              "      <td>-0.434561</td>\n",
              "      <td>-2.514041</td>\n",
              "      <td>-0.196371</td>\n",
              "      <td>-5.284415</td>\n",
              "      <td>-3.984139</td>\n",
              "      <td>0.066370</td>\n",
              "      <td>3.120663</td>\n",
              "      <td>-3.187021</td>\n",
              "      <td>-1.873491</td>\n",
              "      <td>-4.708044</td>\n",
              "      <td>2.196728</td>\n",
              "      <td>-6.470265</td>\n",
              "      <td>2.258201</td>\n",
              "      <td>4.821559</td>\n",
              "      <td>-7.505703</td>\n",
              "      <td>3.943361</td>\n",
              "      <td>-2.060711</td>\n",
              "      <td>4.861821</td>\n",
              "      <td>6.092516</td>\n",
              "      <td>6.662436</td>\n",
              "      <td>1.913058</td>\n",
              "      <td>4.627481</td>\n",
              "      <td>2.277454</td>\n",
              "      <td>-2.579394</td>\n",
              "      <td>2.949088</td>\n",
              "      <td>3.017429</td>\n",
              "      <td>16.745438</td>\n",
              "    </tr>\n",
              "    <tr>\n",
              "      <th>9996</th>\n",
              "      <td>-3.648360</td>\n",
              "      <td>-10.778105</td>\n",
              "      <td>-4.391808</td>\n",
              "      <td>-9.771854</td>\n",
              "      <td>-2.643268</td>\n",
              "      <td>2.147130</td>\n",
              "      <td>-9.317066</td>\n",
              "      <td>-10.317206</td>\n",
              "      <td>1.935296</td>\n",
              "      <td>3.543057</td>\n",
              "      <td>-4.064741</td>\n",
              "      <td>-5.384925</td>\n",
              "      <td>1.282269</td>\n",
              "      <td>-1.254489</td>\n",
              "      <td>-7.606798</td>\n",
              "      <td>9.634642</td>\n",
              "      <td>9.467173</td>\n",
              "      <td>7.251492</td>\n",
              "      <td>-10.231833</td>\n",
              "      <td>-7.762669</td>\n",
              "      <td>-7.127021</td>\n",
              "      <td>1.845076</td>\n",
              "      <td>1.811317</td>\n",
              "      <td>5.178686</td>\n",
              "      <td>3.237937</td>\n",
              "      <td>6.232463</td>\n",
              "      <td>-8.661862</td>\n",
              "      <td>1.788290</td>\n",
              "      <td>4.374740</td>\n",
              "      <td>-4.792314</td>\n",
              "      <td>-21.556211</td>\n",
              "      <td>-21.961569</td>\n",
              "    </tr>\n",
              "    <tr>\n",
              "      <th>9997</th>\n",
              "      <td>8.435509</td>\n",
              "      <td>-6.554998</td>\n",
              "      <td>-8.754114</td>\n",
              "      <td>-4.359208</td>\n",
              "      <td>4.330762</td>\n",
              "      <td>-1.767436</td>\n",
              "      <td>-4.784996</td>\n",
              "      <td>-5.611044</td>\n",
              "      <td>8.741600</td>\n",
              "      <td>0.262239</td>\n",
              "      <td>7.516994</td>\n",
              "      <td>1.931891</td>\n",
              "      <td>-6.907949</td>\n",
              "      <td>8.729823</td>\n",
              "      <td>0.912568</td>\n",
              "      <td>-9.401059</td>\n",
              "      <td>0.683269</td>\n",
              "      <td>-4.586662</td>\n",
              "      <td>6.855340</td>\n",
              "      <td>-2.787098</td>\n",
              "      <td>-6.923734</td>\n",
              "      <td>9.168708</td>\n",
              "      <td>-6.908518</td>\n",
              "      <td>4.623331</td>\n",
              "      <td>5.178249</td>\n",
              "      <td>8.891360</td>\n",
              "      <td>-0.605690</td>\n",
              "      <td>-8.514347</td>\n",
              "      <td>-2.075814</td>\n",
              "      <td>-4.940532</td>\n",
              "      <td>-13.109996</td>\n",
              "      <td>-22.702661</td>\n",
              "    </tr>\n",
              "    <tr>\n",
              "      <th>9998</th>\n",
              "      <td>0.127080</td>\n",
              "      <td>4.501513</td>\n",
              "      <td>-3.334955</td>\n",
              "      <td>-3.516207</td>\n",
              "      <td>8.116519</td>\n",
              "      <td>-10.444870</td>\n",
              "      <td>-4.854239</td>\n",
              "      <td>-7.782008</td>\n",
              "      <td>-5.369580</td>\n",
              "      <td>3.583364</td>\n",
              "      <td>-7.395462</td>\n",
              "      <td>-1.538423</td>\n",
              "      <td>0.956582</td>\n",
              "      <td>-3.833582</td>\n",
              "      <td>-3.877565</td>\n",
              "      <td>2.837093</td>\n",
              "      <td>6.527495</td>\n",
              "      <td>-2.057050</td>\n",
              "      <td>-7.983029</td>\n",
              "      <td>6.432964</td>\n",
              "      <td>5.527862</td>\n",
              "      <td>-3.140381</td>\n",
              "      <td>1.553203</td>\n",
              "      <td>-0.265407</td>\n",
              "      <td>3.904482</td>\n",
              "      <td>-7.439079</td>\n",
              "      <td>-6.935518</td>\n",
              "      <td>8.433059</td>\n",
              "      <td>6.970092</td>\n",
              "      <td>-8.077428</td>\n",
              "      <td>9.003027</td>\n",
              "      <td>-38.387138</td>\n",
              "    </tr>\n",
              "    <tr>\n",
              "      <th>9999</th>\n",
              "      <td>-6.345481</td>\n",
              "      <td>0.193623</td>\n",
              "      <td>-7.389792</td>\n",
              "      <td>6.775714</td>\n",
              "      <td>6.551736</td>\n",
              "      <td>-9.502941</td>\n",
              "      <td>9.146466</td>\n",
              "      <td>7.556151</td>\n",
              "      <td>4.281922</td>\n",
              "      <td>4.024818</td>\n",
              "      <td>-7.498339</td>\n",
              "      <td>-3.912629</td>\n",
              "      <td>9.321700</td>\n",
              "      <td>-3.608789</td>\n",
              "      <td>-7.651262</td>\n",
              "      <td>-7.450823</td>\n",
              "      <td>0.313171</td>\n",
              "      <td>-8.624235</td>\n",
              "      <td>2.961106</td>\n",
              "      <td>-7.038503</td>\n",
              "      <td>-2.445494</td>\n",
              "      <td>-6.862317</td>\n",
              "      <td>3.211735</td>\n",
              "      <td>-5.189381</td>\n",
              "      <td>3.368675</td>\n",
              "      <td>2.777475</td>\n",
              "      <td>-4.222358</td>\n",
              "      <td>-10.823498</td>\n",
              "      <td>10.937058</td>\n",
              "      <td>2.464490</td>\n",
              "      <td>0.387246</td>\n",
              "      <td>14.322449</td>\n",
              "    </tr>\n",
              "  </tbody>\n",
              "</table>\n",
              "<p>10000 rows × 32 columns</p>\n",
              "</div>"
            ],
            "text/plain": [
              "            0          1         2   ...        29         30         31\n",
              "0    -5.235210  -2.860860 -0.805871  ...  4.194720  -5.721721  22.973601\n",
              "1     9.510645 -11.724693 -5.819783  ...  6.009005 -23.449386  32.045023\n",
              "2     9.768125  -9.505962 -5.533852  ...  5.715904 -19.011924  30.579518\n",
              "3     0.265184  -3.451455 -6.242929  ...  2.099184  -6.902911  12.495921\n",
              "4    -1.146704  -7.142143  1.101740  ...  6.270803 -14.284285  33.354013\n",
              "...        ...        ...       ...  ...       ...        ...        ...\n",
              "9995  2.468904   1.508715 -5.344932  ...  2.949088   3.017429  16.745438\n",
              "9996 -3.648360 -10.778105 -4.391808  ... -4.792314 -21.556211 -21.961569\n",
              "9997  8.435509  -6.554998 -8.754114  ... -4.940532 -13.109996 -22.702661\n",
              "9998  0.127080   4.501513 -3.334955  ... -8.077428   9.003027 -38.387138\n",
              "9999 -6.345481   0.193623 -7.389792  ...  2.464490   0.387246  14.322449\n",
              "\n",
              "[10000 rows x 32 columns]"
            ]
          },
          "metadata": {
            "tags": []
          },
          "execution_count": 6
        }
      ]
    },
    {
      "cell_type": "markdown",
      "metadata": {
        "id": "Ge5-2rWqLXsO"
      },
      "source": [
        "# clustering"
      ]
    },
    {
      "cell_type": "markdown",
      "metadata": {
        "id": "EsRPM6hiTXSV"
      },
      "source": [
        "\n",
        "ตรวจสอบขนาดของข้อมูลว่า มี data กี่ตัว เเละมีกี่ dimensions"
      ]
    },
    {
      "cell_type": "code",
      "metadata": {
        "id": "WUPACH8WTh88",
        "colab": {
          "base_uri": "https://localhost:8080/"
        },
        "outputId": "df68c798-739d-4647-ada9-dd43b9e38d87"
      },
      "source": [
        "Data.shape # มีทั้งหมด 32 dimension"
      ],
      "execution_count": null,
      "outputs": [
        {
          "output_type": "execute_result",
          "data": {
            "text/plain": [
              "(10000, 32)"
            ]
          },
          "metadata": {
            "tags": []
          },
          "execution_count": 18
        }
      ]
    },
    {
      "cell_type": "markdown",
      "metadata": {
        "id": "K5TfKr1ST9Ru"
      },
      "source": [
        "## เนื่องจาก Data มี dimension มากเกินไป เราจะทดสอบดูว่า column ใด ให้ข้อมูลซ้ำกับ column อื่น เเล้วลบมันออก"
      ]
    },
    {
      "cell_type": "markdown",
      "metadata": {
        "id": "UYzOhujNUKkr"
      },
      "source": [
        "โดยจะเลือกเเต่ข้อมูลที่เป็นตัวเลข เเต่ข้อมูลนี้มีเเต่ตัวเลขอยู่เเล้วจึงไม่ต้องตัดออก"
      ]
    },
    {
      "cell_type": "markdown",
      "metadata": {
        "id": "Krv_ewQEQ0Zt"
      },
      "source": [
        "#### Kmean"
      ]
    },
    {
      "cell_type": "markdown",
      "metadata": {
        "id": "DMKFrCDcRH4F"
      },
      "source": [
        "##### Import"
      ]
    },
    {
      "cell_type": "code",
      "metadata": {
        "id": "jUARadkFEuyJ"
      },
      "source": [
        "from sklearn.cluster import KMeans"
      ],
      "execution_count": 7,
      "outputs": []
    },
    {
      "cell_type": "markdown",
      "metadata": {
        "id": "7lMsPSSKRaeG"
      },
      "source": [
        "##### Define"
      ]
    },
    {
      "cell_type": "code",
      "metadata": {
        "id": "_uXElenZRLgl"
      },
      "source": [
        "kmeans = KMeans(random_state=2021)"
      ],
      "execution_count": 8,
      "outputs": []
    },
    {
      "cell_type": "markdown",
      "metadata": {
        "id": "nn-ZUL2NRy8U"
      },
      "source": [
        "##### Fit - Transform"
      ]
    },
    {
      "cell_type": "code",
      "metadata": {
        "id": "E47HiwYNRcIE",
        "colab": {
          "base_uri": "https://localhost:8080/"
        },
        "outputId": "48bec3e2-f8a5-4c62-de42-805b70d2c671"
      },
      "source": [
        "kmeans.fit(Data) # เเสดง จุด cluster centers ที่คำนวณออกมาได้"
      ],
      "execution_count": 9,
      "outputs": [
        {
          "output_type": "execute_result",
          "data": {
            "text/plain": [
              "KMeans(algorithm='auto', copy_x=True, init='k-means++', max_iter=300,\n",
              "       n_clusters=8, n_init=10, n_jobs=None, precompute_distances='auto',\n",
              "       random_state=2021, tol=0.0001, verbose=0)"
            ]
          },
          "metadata": {
            "tags": []
          },
          "execution_count": 9
        }
      ]
    },
    {
      "cell_type": "code",
      "metadata": {
        "id": "tRfgSQ3SR0kj",
        "colab": {
          "base_uri": "https://localhost:8080/"
        },
        "outputId": "57e54a62-198d-4953-bb7f-063984dfb37a"
      },
      "source": [
        "kmeans.cluster_centers_"
      ],
      "execution_count": 10,
      "outputs": [
        {
          "output_type": "execute_result",
          "data": {
            "text/plain": [
              "array([[  1.71800027,  -6.21285349,  -1.12774587,   1.08655163,\n",
              "          3.37243952,   3.04625098,  -3.35065459,  -1.61455118,\n",
              "         -1.58375089,   2.1162272 ,   1.92544718,   1.29159736,\n",
              "          2.1771463 ,   5.25350631,  -3.67140014,  -1.66639205,\n",
              "          0.91935109,  -0.25174973,  -2.21661717,  -1.53858595,\n",
              "         -0.9981979 ,  -0.70473828,  -1.35106356,  -1.07321597,\n",
              "          0.08594281,   2.64674883,  -1.47108795,  -3.77812246,\n",
              "         -2.71070997,  -6.22198749, -12.42570697, -29.10993746],\n",
              "       [ -2.22293057,  -2.71369564,  -5.30166516,   8.69970758,\n",
              "          3.54064169,  -3.79352741,   2.12936095,   3.19350558,\n",
              "          5.28987227,   1.83380424,  -1.63631266,   1.26693807,\n",
              "          0.17474392,  -0.53366663,  -6.72321254,   0.3708422 ,\n",
              "          2.41148277,  -0.08176501,   3.03063704,  -1.94128075,\n",
              "          0.51915599,  -4.28269633,  -2.09922295,  -1.2644428 ,\n",
              "         -0.48565122,  -3.59826376,  -4.7600181 ,   2.23730764,\n",
              "          5.26170295,   2.61897293,  -5.42739128,  15.09486467],\n",
              "       [  2.75039132,  -6.3863351 ,  -3.29598403,  -3.40741816,\n",
              "         -0.62281756,   0.36719517,   7.80767675,   0.83860884,\n",
              "         -2.91016736,  -5.42016276,   3.35703597,   0.2791643 ,\n",
              "          3.82318412,  -1.2529522 ,   8.84894087,   4.21405185,\n",
              "         -2.66366166,   6.376713  ,   6.2213875 ,  -9.18516558,\n",
              "         -8.19436139,   4.53180967,   5.24982687,   3.01919798,\n",
              "          0.62709536,  -3.70730997,  -7.52194423,  -0.82873099,\n",
              "         -4.07670966,   5.26807636, -12.7726702 ,  28.34038182],\n",
              "       [ -3.81107451,   4.47522424,  -0.65006106,   0.83187158,\n",
              "         -3.09261506,  -3.6683273 ,   1.2421065 ,  -3.77709347,\n",
              "         -1.77277797,   5.04816908,  -3.45543712,   2.15572285,\n",
              "          3.55958756,   1.79363919,   0.16699953,   2.67769666,\n",
              "          6.4297566 ,   3.07030676,  -5.5331265 ,   4.83051153,\n",
              "         -0.12343867,  -2.13851941,  -1.78790538,   1.18372123,\n",
              "         -1.51880877,  -3.75855465,  -3.61417539,   0.46533011,\n",
              "          5.06426882,  -8.3742335 ,   8.95044849, -39.8711675 ],\n",
              "       [  5.04793831,   9.26015856,   6.61809592,  -5.53045474,\n",
              "         -5.19480454,  -3.77670101,   9.66785682,   2.80925217,\n",
              "          8.14861906,  -9.72232314,   5.31489266,  -9.91270779,\n",
              "         -9.12132542,  -9.90751476,  -5.91796375,  -3.41607915,\n",
              "          9.19368344,   8.21380959,   1.79828887,   6.2864239 ,\n",
              "         -9.36993536,   5.03639507,  -8.31199486,  -6.48380686,\n",
              "          8.60780031,  -4.78657849,   5.85950685,   0.58266465,\n",
              "          4.03064332,   3.79721018,  18.52031712,  20.98605092],\n",
              "       [  3.50844695,   5.88884341,  -1.98170722,  -3.29560336,\n",
              "          1.32118102,   1.26345132,   0.87783496,   0.77013495,\n",
              "          1.31822896,  -3.78276535,   1.4786228 ,   1.05762951,\n",
              "         -0.25987263,   1.14552508,  -0.44690877,  -0.27099919,\n",
              "         -5.60543486,   1.46581123,  -0.14786032,  -4.44164719,\n",
              "          4.9934655 ,   0.34988364,   3.76430032,  -1.7628608 ,\n",
              "          6.80571027,  -1.83231354,   4.02346181,   2.28269554,\n",
              "         -3.50592058,   1.63373398,  11.77768682,  10.16866988],\n",
              "       [ -1.14835178,  -5.66575655,  -0.14557559,   8.41605379,\n",
              "         -7.70823376,  -2.30928622,  -2.01804714,  -3.77541565,\n",
              "         -8.94263042,  -5.7105334 ,   8.73817016,  -5.20122903,\n",
              "         -9.68032282,  -1.51730343,   2.42203872,  -2.78984545,\n",
              "          9.22014275,  -6.91083706,   9.04013731,  -0.42028373,\n",
              "          6.23996565,   2.66549973,  -6.45358438,  -9.29495301,\n",
              "          8.93275654,   7.70774702,   4.5958446 ,  -0.90817961,\n",
              "         -1.59593764,   6.82082223, -11.3315131 ,  36.10411117],\n",
              "       [  0.37682282,   0.65701696,   2.03782708,   4.99934957,\n",
              "         -2.11405522,   8.58054394,   6.34719682,  -2.86008268,\n",
              "         -0.93771847,  -0.78824464,  -1.30207625,  -0.65539309,\n",
              "          5.50597227,   7.54660557,   6.22342461,   2.04751828,\n",
              "         -2.80067298,   8.30607612,   2.26468794,   4.23726241,\n",
              "          2.19972575,  -2.18853628,   8.17369816,   5.08830796,\n",
              "          4.14365414,  -0.66660297,  -0.55607175,  -0.13628496,\n",
              "         -0.81671795,   8.28309132,   1.31403392,  43.41545662]])"
            ]
          },
          "metadata": {
            "tags": []
          },
          "execution_count": 10
        }
      ]
    },
    {
      "cell_type": "markdown",
      "metadata": {
        "id": "ZIoSj01YSeZt"
      },
      "source": [
        "#### ทดสอบการจัดกลุ่มของ Data"
      ]
    },
    {
      "cell_type": "code",
      "metadata": {
        "id": "F-XO3hl5SZ0n",
        "colab": {
          "base_uri": "https://localhost:8080/"
        },
        "outputId": "da7bb1b4-ebc6-4bca-fdfe-1c7a544b6eec"
      },
      "source": [
        "y = kmeans.predict(Data)\n",
        "y"
      ],
      "execution_count": 11,
      "outputs": [
        {
          "output_type": "execute_result",
          "data": {
            "text/plain": [
              "array([2, 2, 2, ..., 0, 3, 1], dtype=int32)"
            ]
          },
          "metadata": {
            "tags": []
          },
          "execution_count": 11
        }
      ]
    },
    {
      "cell_type": "markdown",
      "metadata": {
        "id": "7-rgA-VOm3VH"
      },
      "source": [
        "## ทำ PCA เพื่อลด Dimension ของข้อมูลเนื่องจากมีจำนวน Dimension ที่เยอะเกินไป"
      ]
    },
    {
      "cell_type": "markdown",
      "metadata": {
        "id": "DfQa5KEznDNG"
      },
      "source": [
        "###### Import"
      ]
    },
    {
      "cell_type": "code",
      "metadata": {
        "id": "iXYLBPszSmS9"
      },
      "source": [
        "from sklearn.decomposition import PCA"
      ],
      "execution_count": 12,
      "outputs": []
    },
    {
      "cell_type": "markdown",
      "metadata": {
        "id": "CgFkumIAnr0e"
      },
      "source": [
        "##### Define"
      ]
    },
    {
      "cell_type": "code",
      "metadata": {
        "id": "efgbEz1pnqWa"
      },
      "source": [
        "pca = PCA(n_components=2)"
      ],
      "execution_count": 13,
      "outputs": []
    },
    {
      "cell_type": "markdown",
      "metadata": {
        "id": "cRtk6fVIn4tf"
      },
      "source": [
        "#####  Fit - Transform"
      ]
    },
    {
      "cell_type": "code",
      "metadata": {
        "id": "h_ghrXyDnut2"
      },
      "source": [
        "new_pca = pca.fit_transform(Data)"
      ],
      "execution_count": 14,
      "outputs": []
    },
    {
      "cell_type": "code",
      "metadata": {
        "id": "DA_tkXjhn9Ed",
        "outputId": "9fa3acac-6e8d-412e-c413-b42080a0f3ca",
        "colab": {
          "base_uri": "https://localhost:8080/"
        }
      },
      "source": [
        "new_pca.shape # จะเห็นว่า dimension เหลือเเค่ 2 dimension"
      ],
      "execution_count": 15,
      "outputs": [
        {
          "output_type": "execute_result",
          "data": {
            "text/plain": [
              "(10000, 2)"
            ]
          },
          "metadata": {
            "tags": []
          },
          "execution_count": 15
        }
      ]
    },
    {
      "cell_type": "code",
      "metadata": {
        "id": "SrpgMh4GoBb2"
      },
      "source": [
        "from matplotlib import pyplot as plt"
      ],
      "execution_count": 16,
      "outputs": []
    },
    {
      "cell_type": "code",
      "metadata": {
        "id": "NKUPTlqMt3af",
        "outputId": "8e5bde77-dea6-4b30-8d12-73af7b02d206",
        "colab": {
          "base_uri": "https://localhost:8080/",
          "height": 282
        }
      },
      "source": [
        "plt.plot(new_pca[:50,0],new_pca[:50,1],'or')\n",
        "plt.plot(new_pca[50:100,0],new_pca[50:100,1],'og')\n",
        "plt.plot(new_pca[100:,0],new_pca[100:,1],'oy')"
      ],
      "execution_count": 29,
      "outputs": [
        {
          "output_type": "execute_result",
          "data": {
            "text/plain": [
              "[<matplotlib.lines.Line2D at 0x7f3693597ed0>]"
            ]
          },
          "metadata": {
            "tags": []
          },
          "execution_count": 29
        },
        {
          "output_type": "display_data",
          "data": {
            "image/png": "[encoded data removed]",
            "text/plain": [
              "<Figure size 432x288 with 1 Axes>"
            ]
          },
          "metadata": {
            "tags": [],
            "needs_background": "light"
          }
        }
      ]
    },
    {
      "cell_type": "code",
      "metadata": {
        "id": "58avznHooKEm",
        "outputId": "3ddc6259-133a-4d75-b240-4f54cf65d164",
        "colab": {
          "base_uri": "https://localhost:8080/",
          "height": 282
        }
      },
      "source": [
        "kmeans = KMeans(n_clusters=3,random_state=2021)\n",
        "kmeans.fit(Data)\n",
        "y = kmeans.predict(Data)\n",
        "plt.scatter(new_pca[:,0],new_pca[:,1],c=y)"
      ],
      "execution_count": 17,
      "outputs": [
        {
          "output_type": "execute_result",
          "data": {
            "text/plain": [
              "<matplotlib.collections.PathCollection at 0x7f3693d14e50>"
            ]
          },
          "metadata": {
            "tags": []
          },
          "execution_count": 17
        },
        {
          "output_type": "display_data",
          "data": {
            "image/png": "[encoded data removed]",
            "text/plain": [
              "<Figure size 432x288 with 1 Axes>"
            ]
          },
          "metadata": {
            "tags": [],
            "needs_background": "light"
          }
        }
      ]
    },
    {
      "cell_type": "code",
      "metadata": {
        "id": "rQmjterxrRou",
        "outputId": "c4da3c52-0105-4dd1-aa5a-9437fb2eda99",
        "colab": {
          "base_uri": "https://localhost:8080/",
          "height": 282
        }
      },
      "source": [
        "\n",
        "plt.scatter(new_pca[:,0],new_pca[:,1],c=y) # cluster center\n",
        "plt.plot(kmeans.cluster_centers_[:,0],kmeans.cluster_centers_[:,1],'or')"
      ],
      "execution_count": 23,
      "outputs": [
        {
          "output_type": "execute_result",
          "data": {
            "text/plain": [
              "[<matplotlib.lines.Line2D at 0x7f36937bde90>]"
            ]
          },
          "metadata": {
            "tags": []
          },
          "execution_count": 23
        },
        {
          "output_type": "display_data",
          "data": {
            "image/png": "[encoded data removed]",
            "text/plain": [
              "<Figure size 432x288 with 1 Axes>"
            ]
          },
          "metadata": {
            "tags": [],
            "needs_background": "light"
          }
        }
      ]
    },
    {
      "cell_type": "markdown",
      "metadata": {
        "id": "ZY-8TaQops8v"
      },
      "source": [
        "หลังจากนั้น จะทำการหาค่า k ว่าควรจะเป็นเท่าไหร่ โดบการใช้ Elbow Method ในการช่วยหาค่า k ที่เหมาะสม\n"
      ]
    },
    {
      "cell_type": "markdown",
      "metadata": {
        "id": "d--8mPoJqCwu"
      },
      "source": [
        "##### SSE (Sum of Squared Errors)\n",
        "SSE คือ ความไม่ใกล้เคียงกับจุดศูนย์กลางมากน้อยเท่าไหน"
      ]
    },
    {
      "cell_type": "code",
      "metadata": {
        "id": "ArxcxHCHpA9W",
        "outputId": "a683304d-a8f8-4464-d8ac-59ed21c1c02a",
        "colab": {
          "base_uri": "https://localhost:8080/"
        }
      },
      "source": [
        "kmeans.inertia_"
      ],
      "execution_count": 18,
      "outputs": [
        {
          "output_type": "execute_result",
          "data": {
            "text/plain": [
              "11134453.960132588"
            ]
          },
          "metadata": {
            "tags": []
          },
          "execution_count": 18
        }
      ]
    },
    {
      "cell_type": "code",
      "metadata": {
        "id": "Ms9cXzLYqLAm"
      },
      "source": [
        "SSE = list()\n",
        "for k in [1,2,3,4,5,6,7,8]:\n",
        "    kmeans = KMeans(n_clusters=k,random_state=2021)\n",
        "    kmeans.fit(Data)\n",
        "    SSE.append(kmeans.inertia_)"
      ],
      "execution_count": 19,
      "outputs": []
    },
    {
      "cell_type": "code",
      "metadata": {
        "id": "ecB6mn_tqXUF",
        "outputId": "b3ef36e6-2b2b-4650-e09b-91007c07bd58",
        "colab": {
          "base_uri": "https://localhost:8080/"
        }
      },
      "source": [
        "SSE"
      ],
      "execution_count": 20,
      "outputs": [
        {
          "output_type": "execute_result",
          "data": {
            "text/plain": [
              "[21383197.695221562,\n",
              " 12526383.352083936,\n",
              " 11134453.960132588,\n",
              " 9906995.413663898,\n",
              " 9144006.591083162,\n",
              " 8391396.655424077,\n",
              " 7801784.776167525,\n",
              " 7230682.0301326085]"
            ]
          },
          "metadata": {
            "tags": []
          },
          "execution_count": 20
        }
      ]
    },
    {
      "cell_type": "code",
      "metadata": {
        "id": "E8x2dwaKqaSV",
        "outputId": "2d8fc59f-5822-4f60-ac73-9092cbe01ca5",
        "colab": {
          "base_uri": "https://localhost:8080/",
          "height": 290
        }
      },
      "source": [
        "plt.plot([1,2,3,4,5,6,7,8],SSE,'o-b') \n",
        "plt.xlabel('k')\n",
        "plt.ylabel('SSE');"
      ],
      "execution_count": 21,
      "outputs": [
        {
          "output_type": "display_data",
          "data": {
            "image/png": "[encoded data removed]",
            "text/plain": [
              "<Figure size 432x288 with 1 Axes>"
            ]
          },
          "metadata": {
            "tags": [],
            "needs_background": "light"
          }
        }
      ]
    },
    {
      "cell_type": "markdown",
      "metadata": {
        "id": "tWU_chGfr56A"
      },
      "source": [
        "## Silhouette coefficient "
      ]
    },
    {
      "cell_type": "code",
      "metadata": {
        "id": "dEhYzdhxqeBW"
      },
      "source": [
        "from sklearn import metrics"
      ],
      "execution_count": 25,
      "outputs": []
    },
    {
      "cell_type": "code",
      "metadata": {
        "id": "7oBPf1f-r_uN"
      },
      "source": [
        "SilH = list()\n",
        "for k in [2,3,4,5,6,7,8]:\n",
        "    kmeans = KMeans(n_clusters=k,random_state=2021)\n",
        "    kmeans.fit(Data)\n",
        "    score = metrics.silhouette_score(Data,kmeans.labels_)\n",
        "    SilH.append(score)"
      ],
      "execution_count": 26,
      "outputs": []
    },
    {
      "cell_type": "code",
      "metadata": {
        "id": "rvNU3vA7shxM",
        "outputId": "95f797bd-2bae-4f2c-8b6c-afb645262ce9",
        "colab": {
          "base_uri": "https://localhost:8080/",
          "height": 279
        }
      },
      "source": [
        "plt.plot([2,3,4,5,6,7,8],SilH,'o-g') # ทำการ Silhouette ดีที่สุดที่ คือ 2\n",
        "plt.xlabel('k')\n",
        "plt.ylabel('Silhouette Score');"
      ],
      "execution_count": 27,
      "outputs": [
        {
          "output_type": "display_data",
          "data": {
            "image/png": "[encoded data removed]",
            "text/plain": [
              "<Figure size 432x288 with 1 Axes>"
            ]
          },
          "metadata": {
            "tags": [],
            "needs_background": "light"
          }
        }
      ]
    },
    {
      "cell_type": "code",
      "metadata": {
        "id": "LtFNwZ4csohd"
      },
      "source": [
        ""
      ],
      "execution_count": null,
      "outputs": []
    }
  ]
}