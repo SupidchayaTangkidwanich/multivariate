{
  "nbformat": 4,
  "nbformat_minor": 0,
  "metadata": {
    "colab": {
      "name": "Multivariate Exam.ipynb",
      "provenance": [],
      "include_colab_link": true
    },
    "kernelspec": {
      "name": "python3",
      "display_name": "Python 3"
    },
    "language_info": {
      "name": "python"
    }
  },
  "cells": [
    {
      "cell_type": "markdown",
      "metadata": {
        "id": "view-in-github",
        "colab_type": "text"
      },
      "source": [
        "<a href=\"https://colab.research.google.com/github/SupidchayaTangkidwanich/multivariate/blob/main/Multivariate_Exam.ipynb\" target=\"_parent\"><img src=\"https://colab.research.google.com/assets/colab-badge.svg\" alt=\"Open In Colab\"/></a>"
      ]
    },
    {
      "cell_type": "markdown",
      "metadata": {
        "id": "JZxiNADfaDtv"
      },
      "source": [
        "ให้นักศึกษาทำข้อสอบใน Colab Notebook นี้โดยกรอกข้อมูลของตัวเองใน cell ที่ 2 แล้วรัน cell ที่ 1 - 5 และเริ่มทำข้อสอบใน cell ที่ 6 เป็นต้นไป\n",
        "\n",
        "โดยโจทย์คือ\n",
        "1. ข้อมูลโจทย์ อยู่ใน ตัวแปร ```Data```\n",
        "2. ทำ clustering แล้วทำ visualize ข้อมูลแบบ 2 มิติ\n",
        "3. ลด Dimension ของข้อมูลเหลือ 2 มิติ แล้วทำ clustering แล้ว visualize ข้อมูลแบบ 2 มิติ\n",
        "4. เปรียบเทียบความแตกต่างของผลข้อ 2. กับ ข้อ 3.\n",
        "5. เขียน comments อธิบายทุกขั้นตอน\n",
        "6. อัด video อธิบาย code ทุกๆขั้นตอนรวมถึงผลแล้วอัพลง youtube ในรูปแบบ unlist \n",
        "7. commit โดยใช้ชื่อ commit เป็น link youtube ที่อธิบาย code ในข้อ 6.\n",
        "\n",
        "กำหนดส่งวันที่ 2 พฤษภาคม 2564 (โดยให้มากรอกวันที่ commit ครั้งสุดท้ายใน sheet: https://docs.google.com/spreadsheets/d/1_qJwLDJVtOW1HxBcf_FHVc6UT4J_SOonuR6o3EEnVzw/edit?usp=sharing ช่อง Final)"
      ]
    },
    {
      "cell_type": "code",
      "metadata": {
        "id": "cWl2x1bPGtQl"
      },
      "source": [
        "from sklearn.datasets import make_blobs\n",
        "import random,math\n",
        "import numpy as np\n",
        "import pandas"
      ],
      "execution_count": 5,
      "outputs": []
    },
    {
      "cell_type": "code",
      "metadata": {
        "id": "gZfzuiHsZksh"
      },
      "source": [
        "Name = 'สุพิชญา ตั้งกิจวานิชย์'\n",
        "ID = '6230205420'"
      ],
      "execution_count": 6,
      "outputs": []
    },
    {
      "cell_type": "code",
      "metadata": {
        "id": "8hFQXkF5aAiA"
      },
      "source": [
        "def DataGenerator(name,id):\n",
        "    random.seed(int(id[3:6]))\n",
        "    numfeat = random.randint(20,30)\n",
        "    ct = random.randint(len(name)-6,len(name))\n",
        "    \n",
        "    X, y = make_blobs(n_samples=10000, centers=ct, n_features=numfeat , random_state=int(id[3:6]))\n",
        "\n",
        "    print(f'{id[3:6]}:{numfeat}:{ct}')\n",
        "    X_t = (X[:,1]*2)+int(id[3])\n",
        "    X_t2 = (X[:,-1]*5)+int(id[4])\n",
        "\n",
        "    DT = np.append(X,X_t.reshape([10000,1]),axis=1)\n",
        "    DT = np.append(DT,X_t2.reshape([10000,1]),axis=1)\n",
        "    \n",
        "    return pandas.DataFrame(DT)"
      ],
      "execution_count": 7,
      "outputs": []
    },
    {
      "cell_type": "code",
      "metadata": {
        "colab": {
          "base_uri": "https://localhost:8080/"
        },
        "id": "hbXlxumSBX9i",
        "outputId": "7f798568-d9a4-4565-d9a1-731ccceaba9e"
      },
      "source": [
        "Data = DataGenerator(Name,ID)"
      ],
      "execution_count": 8,
      "outputs": [
        {
          "output_type": "stream",
          "text": [
            "020:30:22\n"
          ],
          "name": "stdout"
        }
      ]
    },
    {
      "cell_type": "code",
      "metadata": {
        "colab": {
          "base_uri": "https://localhost:8080/",
          "height": 422
        },
        "id": "pQcCySXvBdN-",
        "outputId": "c2dd1afc-b178-4043-ba97-2d22210ff34d"
      },
      "source": [
        "Data"
      ],
      "execution_count": 9,
      "outputs": [
        {
          "output_type": "execute_result",
          "data": {
            "text/html": [
              "<div>\n",
              "<style scoped>\n",
              "    .dataframe tbody tr th:only-of-type {\n",
              "        vertical-align: middle;\n",
              "    }\n",
              "\n",
              "    .dataframe tbody tr th {\n",
              "        vertical-align: top;\n",
              "    }\n",
              "\n",
              "    .dataframe thead th {\n",
              "        text-align: right;\n",
              "    }\n",
              "</style>\n",
              "<table border=\"1\" class=\"dataframe\">\n",
              "  <thead>\n",
              "    <tr style=\"text-align: right;\">\n",
              "      <th></th>\n",
              "      <th>0</th>\n",
              "      <th>1</th>\n",
              "      <th>2</th>\n",
              "      <th>3</th>\n",
              "      <th>4</th>\n",
              "      <th>5</th>\n",
              "      <th>6</th>\n",
              "      <th>7</th>\n",
              "      <th>8</th>\n",
              "      <th>9</th>\n",
              "      <th>10</th>\n",
              "      <th>11</th>\n",
              "      <th>12</th>\n",
              "      <th>13</th>\n",
              "      <th>14</th>\n",
              "      <th>15</th>\n",
              "      <th>16</th>\n",
              "      <th>17</th>\n",
              "      <th>18</th>\n",
              "      <th>19</th>\n",
              "      <th>20</th>\n",
              "      <th>21</th>\n",
              "      <th>22</th>\n",
              "      <th>23</th>\n",
              "      <th>24</th>\n",
              "      <th>25</th>\n",
              "      <th>26</th>\n",
              "      <th>27</th>\n",
              "      <th>28</th>\n",
              "      <th>29</th>\n",
              "      <th>30</th>\n",
              "      <th>31</th>\n",
              "    </tr>\n",
              "  </thead>\n",
              "  <tbody>\n",
              "    <tr>\n",
              "      <th>0</th>\n",
              "      <td>-5.235210</td>\n",
              "      <td>-2.860860</td>\n",
              "      <td>-0.805871</td>\n",
              "      <td>-6.856979</td>\n",
              "      <td>-6.777006</td>\n",
              "      <td>-8.583028</td>\n",
              "      <td>7.259264</td>\n",
              "      <td>1.447058</td>\n",
              "      <td>-4.348699</td>\n",
              "      <td>-11.271009</td>\n",
              "      <td>3.188789</td>\n",
              "      <td>-3.706942</td>\n",
              "      <td>2.009193</td>\n",
              "      <td>1.570851</td>\n",
              "      <td>9.985383</td>\n",
              "      <td>2.633004</td>\n",
              "      <td>-0.269312</td>\n",
              "      <td>9.070029</td>\n",
              "      <td>7.393669</td>\n",
              "      <td>-8.279610</td>\n",
              "      <td>-7.588774</td>\n",
              "      <td>-0.331426</td>\n",
              "      <td>4.126808</td>\n",
              "      <td>0.896063</td>\n",
              "      <td>-6.202212</td>\n",
              "      <td>-2.145307</td>\n",
              "      <td>-9.459880</td>\n",
              "      <td>-6.749552</td>\n",
              "      <td>-7.682965</td>\n",
              "      <td>4.194720</td>\n",
              "      <td>-5.721721</td>\n",
              "      <td>22.973601</td>\n",
              "    </tr>\n",
              "    <tr>\n",
              "      <th>1</th>\n",
              "      <td>9.510645</td>\n",
              "      <td>-11.724693</td>\n",
              "      <td>-5.819783</td>\n",
              "      <td>-0.784435</td>\n",
              "      <td>4.213936</td>\n",
              "      <td>9.149353</td>\n",
              "      <td>7.801894</td>\n",
              "      <td>1.899180</td>\n",
              "      <td>-2.084421</td>\n",
              "      <td>-0.698642</td>\n",
              "      <td>6.422391</td>\n",
              "      <td>3.871113</td>\n",
              "      <td>4.632243</td>\n",
              "      <td>-0.403535</td>\n",
              "      <td>6.446859</td>\n",
              "      <td>5.793426</td>\n",
              "      <td>-5.205285</td>\n",
              "      <td>0.412460</td>\n",
              "      <td>5.175845</td>\n",
              "      <td>-9.418035</td>\n",
              "      <td>-9.259097</td>\n",
              "      <td>10.100478</td>\n",
              "      <td>7.104180</td>\n",
              "      <td>4.488556</td>\n",
              "      <td>7.110296</td>\n",
              "      <td>-5.801875</td>\n",
              "      <td>-8.563083</td>\n",
              "      <td>4.534392</td>\n",
              "      <td>-1.015977</td>\n",
              "      <td>6.009005</td>\n",
              "      <td>-23.449386</td>\n",
              "      <td>32.045023</td>\n",
              "    </tr>\n",
              "    <tr>\n",
              "      <th>2</th>\n",
              "      <td>9.768125</td>\n",
              "      <td>-9.505962</td>\n",
              "      <td>-5.533852</td>\n",
              "      <td>-1.030323</td>\n",
              "      <td>4.315569</td>\n",
              "      <td>10.896623</td>\n",
              "      <td>7.123481</td>\n",
              "      <td>2.266101</td>\n",
              "      <td>-1.416885</td>\n",
              "      <td>-2.166934</td>\n",
              "      <td>2.684397</td>\n",
              "      <td>4.669916</td>\n",
              "      <td>6.283261</td>\n",
              "      <td>-2.630425</td>\n",
              "      <td>10.382282</td>\n",
              "      <td>5.216370</td>\n",
              "      <td>-5.983786</td>\n",
              "      <td>1.917078</td>\n",
              "      <td>3.739032</td>\n",
              "      <td>-10.258786</td>\n",
              "      <td>-9.797286</td>\n",
              "      <td>9.477836</td>\n",
              "      <td>5.785408</td>\n",
              "      <td>4.343419</td>\n",
              "      <td>8.028847</td>\n",
              "      <td>-4.558729</td>\n",
              "      <td>-7.085180</td>\n",
              "      <td>3.283552</td>\n",
              "      <td>-0.202463</td>\n",
              "      <td>5.715904</td>\n",
              "      <td>-19.011924</td>\n",
              "      <td>30.579518</td>\n",
              "    </tr>\n",
              "    <tr>\n",
              "      <th>3</th>\n",
              "      <td>0.265184</td>\n",
              "      <td>-3.451455</td>\n",
              "      <td>-6.242929</td>\n",
              "      <td>11.222199</td>\n",
              "      <td>-1.053836</td>\n",
              "      <td>4.398465</td>\n",
              "      <td>-6.825062</td>\n",
              "      <td>4.595991</td>\n",
              "      <td>3.862471</td>\n",
              "      <td>4.729208</td>\n",
              "      <td>9.165959</td>\n",
              "      <td>6.151587</td>\n",
              "      <td>-0.823517</td>\n",
              "      <td>9.247155</td>\n",
              "      <td>-6.436628</td>\n",
              "      <td>3.884506</td>\n",
              "      <td>8.047165</td>\n",
              "      <td>2.184967</td>\n",
              "      <td>2.046106</td>\n",
              "      <td>8.087513</td>\n",
              "      <td>-1.901367</td>\n",
              "      <td>0.155482</td>\n",
              "      <td>-1.531668</td>\n",
              "      <td>5.135129</td>\n",
              "      <td>-8.600767</td>\n",
              "      <td>-7.648380</td>\n",
              "      <td>-7.757502</td>\n",
              "      <td>5.174454</td>\n",
              "      <td>-4.832281</td>\n",
              "      <td>2.099184</td>\n",
              "      <td>-6.902911</td>\n",
              "      <td>12.495921</td>\n",
              "    </tr>\n",
              "    <tr>\n",
              "      <th>4</th>\n",
              "      <td>-1.146704</td>\n",
              "      <td>-7.142143</td>\n",
              "      <td>1.101740</td>\n",
              "      <td>7.364864</td>\n",
              "      <td>-9.830379</td>\n",
              "      <td>-2.518818</td>\n",
              "      <td>-0.905386</td>\n",
              "      <td>-2.886974</td>\n",
              "      <td>-7.672461</td>\n",
              "      <td>-5.743728</td>\n",
              "      <td>9.156414</td>\n",
              "      <td>-5.083711</td>\n",
              "      <td>-11.229786</td>\n",
              "      <td>-1.163712</td>\n",
              "      <td>2.759683</td>\n",
              "      <td>-2.571018</td>\n",
              "      <td>8.121640</td>\n",
              "      <td>-4.834813</td>\n",
              "      <td>9.562179</td>\n",
              "      <td>-2.797196</td>\n",
              "      <td>7.536796</td>\n",
              "      <td>0.250696</td>\n",
              "      <td>-6.008766</td>\n",
              "      <td>-9.761062</td>\n",
              "      <td>8.361335</td>\n",
              "      <td>7.242344</td>\n",
              "      <td>4.432262</td>\n",
              "      <td>-1.469124</td>\n",
              "      <td>-1.062886</td>\n",
              "      <td>6.270803</td>\n",
              "      <td>-14.284285</td>\n",
              "      <td>33.354013</td>\n",
              "    </tr>\n",
              "    <tr>\n",
              "      <th>...</th>\n",
              "      <td>...</td>\n",
              "      <td>...</td>\n",
              "      <td>...</td>\n",
              "      <td>...</td>\n",
              "      <td>...</td>\n",
              "      <td>...</td>\n",
              "      <td>...</td>\n",
              "      <td>...</td>\n",
              "      <td>...</td>\n",
              "      <td>...</td>\n",
              "      <td>...</td>\n",
              "      <td>...</td>\n",
              "      <td>...</td>\n",
              "      <td>...</td>\n",
              "      <td>...</td>\n",
              "      <td>...</td>\n",
              "      <td>...</td>\n",
              "      <td>...</td>\n",
              "      <td>...</td>\n",
              "      <td>...</td>\n",
              "      <td>...</td>\n",
              "      <td>...</td>\n",
              "      <td>...</td>\n",
              "      <td>...</td>\n",
              "      <td>...</td>\n",
              "      <td>...</td>\n",
              "      <td>...</td>\n",
              "      <td>...</td>\n",
              "      <td>...</td>\n",
              "      <td>...</td>\n",
              "      <td>...</td>\n",
              "      <td>...</td>\n",
              "    </tr>\n",
              "    <tr>\n",
              "      <th>9995</th>\n",
              "      <td>2.468904</td>\n",
              "      <td>1.508715</td>\n",
              "      <td>-5.344932</td>\n",
              "      <td>-10.006272</td>\n",
              "      <td>4.791907</td>\n",
              "      <td>-0.434561</td>\n",
              "      <td>-2.514041</td>\n",
              "      <td>-0.196371</td>\n",
              "      <td>-5.284415</td>\n",
              "      <td>-3.984139</td>\n",
              "      <td>0.066370</td>\n",
              "      <td>3.120663</td>\n",
              "      <td>-3.187021</td>\n",
              "      <td>-1.873491</td>\n",
              "      <td>-4.708044</td>\n",
              "      <td>2.196728</td>\n",
              "      <td>-6.470265</td>\n",
              "      <td>2.258201</td>\n",
              "      <td>4.821559</td>\n",
              "      <td>-7.505703</td>\n",
              "      <td>3.943361</td>\n",
              "      <td>-2.060711</td>\n",
              "      <td>4.861821</td>\n",
              "      <td>6.092516</td>\n",
              "      <td>6.662436</td>\n",
              "      <td>1.913058</td>\n",
              "      <td>4.627481</td>\n",
              "      <td>2.277454</td>\n",
              "      <td>-2.579394</td>\n",
              "      <td>2.949088</td>\n",
              "      <td>3.017429</td>\n",
              "      <td>16.745438</td>\n",
              "    </tr>\n",
              "    <tr>\n",
              "      <th>9996</th>\n",
              "      <td>-3.648360</td>\n",
              "      <td>-10.778105</td>\n",
              "      <td>-4.391808</td>\n",
              "      <td>-9.771854</td>\n",
              "      <td>-2.643268</td>\n",
              "      <td>2.147130</td>\n",
              "      <td>-9.317066</td>\n",
              "      <td>-10.317206</td>\n",
              "      <td>1.935296</td>\n",
              "      <td>3.543057</td>\n",
              "      <td>-4.064741</td>\n",
              "      <td>-5.384925</td>\n",
              "      <td>1.282269</td>\n",
              "      <td>-1.254489</td>\n",
              "      <td>-7.606798</td>\n",
              "      <td>9.634642</td>\n",
              "      <td>9.467173</td>\n",
              "      <td>7.251492</td>\n",
              "      <td>-10.231833</td>\n",
              "      <td>-7.762669</td>\n",
              "      <td>-7.127021</td>\n",
              "      <td>1.845076</td>\n",
              "      <td>1.811317</td>\n",
              "      <td>5.178686</td>\n",
              "      <td>3.237937</td>\n",
              "      <td>6.232463</td>\n",
              "      <td>-8.661862</td>\n",
              "      <td>1.788290</td>\n",
              "      <td>4.374740</td>\n",
              "      <td>-4.792314</td>\n",
              "      <td>-21.556211</td>\n",
              "      <td>-21.961569</td>\n",
              "    </tr>\n",
              "    <tr>\n",
              "      <th>9997</th>\n",
              "      <td>8.435509</td>\n",
              "      <td>-6.554998</td>\n",
              "      <td>-8.754114</td>\n",
              "      <td>-4.359208</td>\n",
              "      <td>4.330762</td>\n",
              "      <td>-1.767436</td>\n",
              "      <td>-4.784996</td>\n",
              "      <td>-5.611044</td>\n",
              "      <td>8.741600</td>\n",
              "      <td>0.262239</td>\n",
              "      <td>7.516994</td>\n",
              "      <td>1.931891</td>\n",
              "      <td>-6.907949</td>\n",
              "      <td>8.729823</td>\n",
              "      <td>0.912568</td>\n",
              "      <td>-9.401059</td>\n",
              "      <td>0.683269</td>\n",
              "      <td>-4.586662</td>\n",
              "      <td>6.855340</td>\n",
              "      <td>-2.787098</td>\n",
              "      <td>-6.923734</td>\n",
              "      <td>9.168708</td>\n",
              "      <td>-6.908518</td>\n",
              "      <td>4.623331</td>\n",
              "      <td>5.178249</td>\n",
              "      <td>8.891360</td>\n",
              "      <td>-0.605690</td>\n",
              "      <td>-8.514347</td>\n",
              "      <td>-2.075814</td>\n",
              "      <td>-4.940532</td>\n",
              "      <td>-13.109996</td>\n",
              "      <td>-22.702661</td>\n",
              "    </tr>\n",
              "    <tr>\n",
              "      <th>9998</th>\n",
              "      <td>0.127080</td>\n",
              "      <td>4.501513</td>\n",
              "      <td>-3.334955</td>\n",
              "      <td>-3.516207</td>\n",
              "      <td>8.116519</td>\n",
              "      <td>-10.444870</td>\n",
              "      <td>-4.854239</td>\n",
              "      <td>-7.782008</td>\n",
              "      <td>-5.369580</td>\n",
              "      <td>3.583364</td>\n",
              "      <td>-7.395462</td>\n",
              "      <td>-1.538423</td>\n",
              "      <td>0.956582</td>\n",
              "      <td>-3.833582</td>\n",
              "      <td>-3.877565</td>\n",
              "      <td>2.837093</td>\n",
              "      <td>6.527495</td>\n",
              "      <td>-2.057050</td>\n",
              "      <td>-7.983029</td>\n",
              "      <td>6.432964</td>\n",
              "      <td>5.527862</td>\n",
              "      <td>-3.140381</td>\n",
              "      <td>1.553203</td>\n",
              "      <td>-0.265407</td>\n",
              "      <td>3.904482</td>\n",
              "      <td>-7.439079</td>\n",
              "      <td>-6.935518</td>\n",
              "      <td>8.433059</td>\n",
              "      <td>6.970092</td>\n",
              "      <td>-8.077428</td>\n",
              "      <td>9.003027</td>\n",
              "      <td>-38.387138</td>\n",
              "    </tr>\n",
              "    <tr>\n",
              "      <th>9999</th>\n",
              "      <td>-6.345481</td>\n",
              "      <td>0.193623</td>\n",
              "      <td>-7.389792</td>\n",
              "      <td>6.775714</td>\n",
              "      <td>6.551736</td>\n",
              "      <td>-9.502941</td>\n",
              "      <td>9.146466</td>\n",
              "      <td>7.556151</td>\n",
              "      <td>4.281922</td>\n",
              "      <td>4.024818</td>\n",
              "      <td>-7.498339</td>\n",
              "      <td>-3.912629</td>\n",
              "      <td>9.321700</td>\n",
              "      <td>-3.608789</td>\n",
              "      <td>-7.651262</td>\n",
              "      <td>-7.450823</td>\n",
              "      <td>0.313171</td>\n",
              "      <td>-8.624235</td>\n",
              "      <td>2.961106</td>\n",
              "      <td>-7.038503</td>\n",
              "      <td>-2.445494</td>\n",
              "      <td>-6.862317</td>\n",
              "      <td>3.211735</td>\n",
              "      <td>-5.189381</td>\n",
              "      <td>3.368675</td>\n",
              "      <td>2.777475</td>\n",
              "      <td>-4.222358</td>\n",
              "      <td>-10.823498</td>\n",
              "      <td>10.937058</td>\n",
              "      <td>2.464490</td>\n",
              "      <td>0.387246</td>\n",
              "      <td>14.322449</td>\n",
              "    </tr>\n",
              "  </tbody>\n",
              "</table>\n",
              "<p>10000 rows × 32 columns</p>\n",
              "</div>"
            ],
            "text/plain": [
              "            0          1         2   ...        29         30         31\n",
              "0    -5.235210  -2.860860 -0.805871  ...  4.194720  -5.721721  22.973601\n",
              "1     9.510645 -11.724693 -5.819783  ...  6.009005 -23.449386  32.045023\n",
              "2     9.768125  -9.505962 -5.533852  ...  5.715904 -19.011924  30.579518\n",
              "3     0.265184  -3.451455 -6.242929  ...  2.099184  -6.902911  12.495921\n",
              "4    -1.146704  -7.142143  1.101740  ...  6.270803 -14.284285  33.354013\n",
              "...        ...        ...       ...  ...       ...        ...        ...\n",
              "9995  2.468904   1.508715 -5.344932  ...  2.949088   3.017429  16.745438\n",
              "9996 -3.648360 -10.778105 -4.391808  ... -4.792314 -21.556211 -21.961569\n",
              "9997  8.435509  -6.554998 -8.754114  ... -4.940532 -13.109996 -22.702661\n",
              "9998  0.127080   4.501513 -3.334955  ... -8.077428   9.003027 -38.387138\n",
              "9999 -6.345481   0.193623 -7.389792  ...  2.464490   0.387246  14.322449\n",
              "\n",
              "[10000 rows x 32 columns]"
            ]
          },
          "metadata": {
            "tags": []
          },
          "execution_count": 9
        }
      ]
    },
    {
      "cell_type": "markdown",
      "metadata": {
        "id": "o_AP0mhku4Jv"
      },
      "source": [
        "# 2. ทำ clustering แล้วทำ visualize ข้อมูลแบบ 2 มิติ"
      ]
    },
    {
      "cell_type": "markdown",
      "metadata": {
        "id": "Ge5-2rWqLXsO"
      },
      "source": [
        "# clustering คือ การหาความสัมพันธ์ของข้อมูล เพื่อแบ่งข้อมูลออกเป็นกลุ่มๆ\n",
        "จุดมุ่งหมายของการทำ คือ การจัดกลุ่มข้อมูลโดยดูจาก attributes ของข้อมูล"
      ]
    },
    {
      "cell_type": "markdown",
      "metadata": {
        "id": "EsRPM6hiTXSV"
      },
      "source": [
        "\n",
        "ตรวจสอบขนาดของข้อมูลว่า มี data กี่ตัว เเละมีกี่ dimensions"
      ]
    },
    {
      "cell_type": "code",
      "metadata": {
        "id": "WUPACH8WTh88",
        "colab": {
          "base_uri": "https://localhost:8080/"
        },
        "outputId": "2e3a2578-729d-4a84-d982-64b26a1e3e37"
      },
      "source": [
        "Data.shape # มีทั้งหมด 32 dimension"
      ],
      "execution_count": 10,
      "outputs": [
        {
          "output_type": "execute_result",
          "data": {
            "text/plain": [
              "(10000, 32)"
            ]
          },
          "metadata": {
            "tags": []
          },
          "execution_count": 10
        }
      ]
    },
    {
      "cell_type": "markdown",
      "metadata": {
        "id": "K5TfKr1ST9Ru"
      },
      "source": [
        "## เนื่องจาก Data มี dimension มากเกินไป เราจะทดสอบดูว่า column ใด ให้ข้อมูลซ้ำกับ column อื่น เเล้วลบมันออก"
      ]
    },
    {
      "cell_type": "markdown",
      "metadata": {
        "id": "UYzOhujNUKkr"
      },
      "source": [
        "โดยจะเลือกเเต่ข้อมูลที่เป็นตัวเลข เเต่ข้อมูลนี้มีเเต่ตัวเลขอยู่เเล้วจึงไม่ต้องตัดออก"
      ]
    },
    {
      "cell_type": "markdown",
      "metadata": {
        "id": "Phi6jqbfOiz5"
      },
      "source": [
        "#### ตรวจสอบว่า ระหว่าง colums มี correlation กันมากน้อยเเค่ไหน ด้วย numpy"
      ]
    },
    {
      "cell_type": "code",
      "metadata": {
        "id": "O3iQic3uOXVk"
      },
      "source": [
        "import numpy as np"
      ],
      "execution_count": 11,
      "outputs": []
    },
    {
      "cell_type": "code",
      "metadata": {
        "id": "hvO7JN6hOswJ"
      },
      "source": [
        "corr = np.corrcoef(Data.to_numpy().T) # หา correlation"
      ],
      "execution_count": 12,
      "outputs": []
    },
    {
      "cell_type": "code",
      "metadata": {
        "id": "seXxz-H0OzA8",
        "outputId": "b61883a0-abd3-4859-9c86-8f78ce14fc4b",
        "colab": {
          "base_uri": "https://localhost:8080/"
        }
      },
      "source": [
        "corr.shape"
      ],
      "execution_count": 13,
      "outputs": [
        {
          "output_type": "execute_result",
          "data": {
            "text/plain": [
              "(32, 32)"
            ]
          },
          "metadata": {
            "tags": []
          },
          "execution_count": 13
        }
      ]
    },
    {
      "cell_type": "code",
      "metadata": {
        "id": "ZLih4jIMPHPr",
        "outputId": "8c0fa401-f79f-4c16-cad7-bb90edf39ec2",
        "colab": {
          "base_uri": "https://localhost:8080/"
        }
      },
      "source": [
        "corr"
      ],
      "execution_count": 14,
      "outputs": [
        {
          "output_type": "execute_result",
          "data": {
            "text/plain": [
              "array([[ 1.        , -0.07709059, -0.03256027, ...,  0.20264864,\n",
              "        -0.07709059,  0.20264864],\n",
              "       [-0.07709059,  1.        ,  0.20168588, ...,  0.03084167,\n",
              "         1.        ,  0.03084167],\n",
              "       [-0.03256027,  0.20168588,  1.        , ..., -0.1431884 ,\n",
              "         0.20168588, -0.1431884 ],\n",
              "       ...,\n",
              "       [ 0.20264864,  0.03084167, -0.1431884 , ...,  1.        ,\n",
              "         0.03084167,  1.        ],\n",
              "       [-0.07709059,  1.        ,  0.20168588, ...,  0.03084167,\n",
              "         1.        ,  0.03084167],\n",
              "       [ 0.20264864,  0.03084167, -0.1431884 , ...,  1.        ,\n",
              "         0.03084167,  1.        ]])"
            ]
          },
          "metadata": {
            "tags": []
          },
          "execution_count": 14
        }
      ]
    },
    {
      "cell_type": "code",
      "metadata": {
        "id": "YkKAlbekPJji",
        "outputId": "1f2a609a-4a89-4612-906e-4d2289b4a5c4",
        "colab": {
          "base_uri": "https://localhost:8080/"
        }
      },
      "source": [
        "for i in range(corr.shape[0]):\n",
        "    for j in range(corr.shape[1]):\n",
        "        if (i !=j) and (corr[i,j] == 1.):\n",
        "            print(f'row = {i} column = {j} corrcoef = {corr[i,j]}') # ค่าไหนที่เป็น 1 โดยที่ i,j ไม่เท่ากัน print เฉพาะ ค่า correlation เป็น 1 โดยไม่เอาเส้นทเเยงมุม"
      ],
      "execution_count": 15,
      "outputs": [
        {
          "output_type": "stream",
          "text": [
            "row = 29 column = 31 corrcoef = 1.0\n",
            "row = 31 column = 29 corrcoef = 1.0\n"
          ],
          "name": "stdout"
        }
      ]
    },
    {
      "cell_type": "markdown",
      "metadata": {
        "id": "7jF-bEejPU8S"
      },
      "source": [
        "พบว่ามีผลรันออกมา เเปลว่า มีค่าที่ซ้ำกันอยู่ในข้อมูลนี้"
      ]
    },
    {
      "cell_type": "code",
      "metadata": {
        "id": "89QXrl1PPZ0L",
        "outputId": "ef92b959-0533-4efe-ef64-ab7bb3cbd02b",
        "colab": {
          "base_uri": "https://localhost:8080/",
          "height": 926
        }
      },
      "source": [
        "new_data = Data.iloc[:29,:-1]\n",
        "new_data"
      ],
      "execution_count": 46,
      "outputs": [
        {
          "output_type": "execute_result",
          "data": {
            "text/html": [
              "<div>\n",
              "<style scoped>\n",
              "    .dataframe tbody tr th:only-of-type {\n",
              "        vertical-align: middle;\n",
              "    }\n",
              "\n",
              "    .dataframe tbody tr th {\n",
              "        vertical-align: top;\n",
              "    }\n",
              "\n",
              "    .dataframe thead th {\n",
              "        text-align: right;\n",
              "    }\n",
              "</style>\n",
              "<table border=\"1\" class=\"dataframe\">\n",
              "  <thead>\n",
              "    <tr style=\"text-align: right;\">\n",
              "      <th></th>\n",
              "      <th>0</th>\n",
              "      <th>1</th>\n",
              "      <th>2</th>\n",
              "      <th>3</th>\n",
              "      <th>4</th>\n",
              "      <th>5</th>\n",
              "      <th>6</th>\n",
              "      <th>7</th>\n",
              "      <th>8</th>\n",
              "      <th>9</th>\n",
              "      <th>10</th>\n",
              "      <th>11</th>\n",
              "      <th>12</th>\n",
              "      <th>13</th>\n",
              "      <th>14</th>\n",
              "      <th>15</th>\n",
              "      <th>16</th>\n",
              "      <th>17</th>\n",
              "      <th>18</th>\n",
              "      <th>19</th>\n",
              "      <th>20</th>\n",
              "      <th>21</th>\n",
              "      <th>22</th>\n",
              "      <th>23</th>\n",
              "      <th>24</th>\n",
              "      <th>25</th>\n",
              "      <th>26</th>\n",
              "      <th>27</th>\n",
              "      <th>28</th>\n",
              "      <th>29</th>\n",
              "      <th>30</th>\n",
              "    </tr>\n",
              "  </thead>\n",
              "  <tbody>\n",
              "    <tr>\n",
              "      <th>0</th>\n",
              "      <td>-5.235210</td>\n",
              "      <td>-2.860860</td>\n",
              "      <td>-0.805871</td>\n",
              "      <td>-6.856979</td>\n",
              "      <td>-6.777006</td>\n",
              "      <td>-8.583028</td>\n",
              "      <td>7.259264</td>\n",
              "      <td>1.447058</td>\n",
              "      <td>-4.348699</td>\n",
              "      <td>-11.271009</td>\n",
              "      <td>3.188789</td>\n",
              "      <td>-3.706942</td>\n",
              "      <td>2.009193</td>\n",
              "      <td>1.570851</td>\n",
              "      <td>9.985383</td>\n",
              "      <td>2.633004</td>\n",
              "      <td>-0.269312</td>\n",
              "      <td>9.070029</td>\n",
              "      <td>7.393669</td>\n",
              "      <td>-8.279610</td>\n",
              "      <td>-7.588774</td>\n",
              "      <td>-0.331426</td>\n",
              "      <td>4.126808</td>\n",
              "      <td>0.896063</td>\n",
              "      <td>-6.202212</td>\n",
              "      <td>-2.145307</td>\n",
              "      <td>-9.459880</td>\n",
              "      <td>-6.749552</td>\n",
              "      <td>-7.682965</td>\n",
              "      <td>4.194720</td>\n",
              "      <td>-5.721721</td>\n",
              "    </tr>\n",
              "    <tr>\n",
              "      <th>1</th>\n",
              "      <td>9.510645</td>\n",
              "      <td>-11.724693</td>\n",
              "      <td>-5.819783</td>\n",
              "      <td>-0.784435</td>\n",
              "      <td>4.213936</td>\n",
              "      <td>9.149353</td>\n",
              "      <td>7.801894</td>\n",
              "      <td>1.899180</td>\n",
              "      <td>-2.084421</td>\n",
              "      <td>-0.698642</td>\n",
              "      <td>6.422391</td>\n",
              "      <td>3.871113</td>\n",
              "      <td>4.632243</td>\n",
              "      <td>-0.403535</td>\n",
              "      <td>6.446859</td>\n",
              "      <td>5.793426</td>\n",
              "      <td>-5.205285</td>\n",
              "      <td>0.412460</td>\n",
              "      <td>5.175845</td>\n",
              "      <td>-9.418035</td>\n",
              "      <td>-9.259097</td>\n",
              "      <td>10.100478</td>\n",
              "      <td>7.104180</td>\n",
              "      <td>4.488556</td>\n",
              "      <td>7.110296</td>\n",
              "      <td>-5.801875</td>\n",
              "      <td>-8.563083</td>\n",
              "      <td>4.534392</td>\n",
              "      <td>-1.015977</td>\n",
              "      <td>6.009005</td>\n",
              "      <td>-23.449386</td>\n",
              "    </tr>\n",
              "    <tr>\n",
              "      <th>2</th>\n",
              "      <td>9.768125</td>\n",
              "      <td>-9.505962</td>\n",
              "      <td>-5.533852</td>\n",
              "      <td>-1.030323</td>\n",
              "      <td>4.315569</td>\n",
              "      <td>10.896623</td>\n",
              "      <td>7.123481</td>\n",
              "      <td>2.266101</td>\n",
              "      <td>-1.416885</td>\n",
              "      <td>-2.166934</td>\n",
              "      <td>2.684397</td>\n",
              "      <td>4.669916</td>\n",
              "      <td>6.283261</td>\n",
              "      <td>-2.630425</td>\n",
              "      <td>10.382282</td>\n",
              "      <td>5.216370</td>\n",
              "      <td>-5.983786</td>\n",
              "      <td>1.917078</td>\n",
              "      <td>3.739032</td>\n",
              "      <td>-10.258786</td>\n",
              "      <td>-9.797286</td>\n",
              "      <td>9.477836</td>\n",
              "      <td>5.785408</td>\n",
              "      <td>4.343419</td>\n",
              "      <td>8.028847</td>\n",
              "      <td>-4.558729</td>\n",
              "      <td>-7.085180</td>\n",
              "      <td>3.283552</td>\n",
              "      <td>-0.202463</td>\n",
              "      <td>5.715904</td>\n",
              "      <td>-19.011924</td>\n",
              "    </tr>\n",
              "    <tr>\n",
              "      <th>3</th>\n",
              "      <td>0.265184</td>\n",
              "      <td>-3.451455</td>\n",
              "      <td>-6.242929</td>\n",
              "      <td>11.222199</td>\n",
              "      <td>-1.053836</td>\n",
              "      <td>4.398465</td>\n",
              "      <td>-6.825062</td>\n",
              "      <td>4.595991</td>\n",
              "      <td>3.862471</td>\n",
              "      <td>4.729208</td>\n",
              "      <td>9.165959</td>\n",
              "      <td>6.151587</td>\n",
              "      <td>-0.823517</td>\n",
              "      <td>9.247155</td>\n",
              "      <td>-6.436628</td>\n",
              "      <td>3.884506</td>\n",
              "      <td>8.047165</td>\n",
              "      <td>2.184967</td>\n",
              "      <td>2.046106</td>\n",
              "      <td>8.087513</td>\n",
              "      <td>-1.901367</td>\n",
              "      <td>0.155482</td>\n",
              "      <td>-1.531668</td>\n",
              "      <td>5.135129</td>\n",
              "      <td>-8.600767</td>\n",
              "      <td>-7.648380</td>\n",
              "      <td>-7.757502</td>\n",
              "      <td>5.174454</td>\n",
              "      <td>-4.832281</td>\n",
              "      <td>2.099184</td>\n",
              "      <td>-6.902911</td>\n",
              "    </tr>\n",
              "    <tr>\n",
              "      <th>4</th>\n",
              "      <td>-1.146704</td>\n",
              "      <td>-7.142143</td>\n",
              "      <td>1.101740</td>\n",
              "      <td>7.364864</td>\n",
              "      <td>-9.830379</td>\n",
              "      <td>-2.518818</td>\n",
              "      <td>-0.905386</td>\n",
              "      <td>-2.886974</td>\n",
              "      <td>-7.672461</td>\n",
              "      <td>-5.743728</td>\n",
              "      <td>9.156414</td>\n",
              "      <td>-5.083711</td>\n",
              "      <td>-11.229786</td>\n",
              "      <td>-1.163712</td>\n",
              "      <td>2.759683</td>\n",
              "      <td>-2.571018</td>\n",
              "      <td>8.121640</td>\n",
              "      <td>-4.834813</td>\n",
              "      <td>9.562179</td>\n",
              "      <td>-2.797196</td>\n",
              "      <td>7.536796</td>\n",
              "      <td>0.250696</td>\n",
              "      <td>-6.008766</td>\n",
              "      <td>-9.761062</td>\n",
              "      <td>8.361335</td>\n",
              "      <td>7.242344</td>\n",
              "      <td>4.432262</td>\n",
              "      <td>-1.469124</td>\n",
              "      <td>-1.062886</td>\n",
              "      <td>6.270803</td>\n",
              "      <td>-14.284285</td>\n",
              "    </tr>\n",
              "    <tr>\n",
              "      <th>5</th>\n",
              "      <td>3.237981</td>\n",
              "      <td>-10.041340</td>\n",
              "      <td>6.921372</td>\n",
              "      <td>9.139610</td>\n",
              "      <td>-1.811758</td>\n",
              "      <td>4.083058</td>\n",
              "      <td>-1.218061</td>\n",
              "      <td>6.241727</td>\n",
              "      <td>-8.186429</td>\n",
              "      <td>8.820776</td>\n",
              "      <td>8.367247</td>\n",
              "      <td>-0.049164</td>\n",
              "      <td>1.456068</td>\n",
              "      <td>6.164904</td>\n",
              "      <td>-1.384513</td>\n",
              "      <td>-2.326784</td>\n",
              "      <td>-5.583512</td>\n",
              "      <td>5.405914</td>\n",
              "      <td>2.788672</td>\n",
              "      <td>-0.004892</td>\n",
              "      <td>10.262764</td>\n",
              "      <td>-3.549128</td>\n",
              "      <td>-4.407667</td>\n",
              "      <td>-4.615340</td>\n",
              "      <td>-1.915335</td>\n",
              "      <td>3.968756</td>\n",
              "      <td>-6.794000</td>\n",
              "      <td>2.647703</td>\n",
              "      <td>2.657459</td>\n",
              "      <td>-10.647012</td>\n",
              "      <td>-20.082679</td>\n",
              "    </tr>\n",
              "    <tr>\n",
              "      <th>6</th>\n",
              "      <td>3.924832</td>\n",
              "      <td>2.554358</td>\n",
              "      <td>-3.556597</td>\n",
              "      <td>-7.441416</td>\n",
              "      <td>4.810942</td>\n",
              "      <td>0.933662</td>\n",
              "      <td>-4.257332</td>\n",
              "      <td>0.361084</td>\n",
              "      <td>-5.215092</td>\n",
              "      <td>-6.054939</td>\n",
              "      <td>1.863476</td>\n",
              "      <td>0.071815</td>\n",
              "      <td>-2.864247</td>\n",
              "      <td>-0.285897</td>\n",
              "      <td>-5.402744</td>\n",
              "      <td>1.635490</td>\n",
              "      <td>-5.408854</td>\n",
              "      <td>2.025418</td>\n",
              "      <td>6.862015</td>\n",
              "      <td>-6.235889</td>\n",
              "      <td>5.615619</td>\n",
              "      <td>-1.014925</td>\n",
              "      <td>7.007400</td>\n",
              "      <td>6.054801</td>\n",
              "      <td>6.791691</td>\n",
              "      <td>1.837527</td>\n",
              "      <td>3.945915</td>\n",
              "      <td>1.762080</td>\n",
              "      <td>-1.588546</td>\n",
              "      <td>1.052840</td>\n",
              "      <td>5.108716</td>\n",
              "    </tr>\n",
              "    <tr>\n",
              "      <th>7</th>\n",
              "      <td>-7.419770</td>\n",
              "      <td>-2.672162</td>\n",
              "      <td>-9.019362</td>\n",
              "      <td>8.377052</td>\n",
              "      <td>9.888786</td>\n",
              "      <td>-8.475804</td>\n",
              "      <td>7.534594</td>\n",
              "      <td>8.494478</td>\n",
              "      <td>7.851648</td>\n",
              "      <td>5.062665</td>\n",
              "      <td>-5.906019</td>\n",
              "      <td>0.103891</td>\n",
              "      <td>9.935009</td>\n",
              "      <td>-2.468774</td>\n",
              "      <td>-8.534758</td>\n",
              "      <td>-5.699605</td>\n",
              "      <td>2.248798</td>\n",
              "      <td>-9.444070</td>\n",
              "      <td>2.899274</td>\n",
              "      <td>-7.715541</td>\n",
              "      <td>-3.039159</td>\n",
              "      <td>-7.190580</td>\n",
              "      <td>3.186379</td>\n",
              "      <td>-4.482233</td>\n",
              "      <td>4.768780</td>\n",
              "      <td>1.128016</td>\n",
              "      <td>-3.610483</td>\n",
              "      <td>-10.233380</td>\n",
              "      <td>10.307046</td>\n",
              "      <td>2.611541</td>\n",
              "      <td>-5.344323</td>\n",
              "    </tr>\n",
              "    <tr>\n",
              "      <th>8</th>\n",
              "      <td>2.143784</td>\n",
              "      <td>4.470094</td>\n",
              "      <td>3.762786</td>\n",
              "      <td>5.454297</td>\n",
              "      <td>-2.475080</td>\n",
              "      <td>-10.221335</td>\n",
              "      <td>7.408976</td>\n",
              "      <td>6.412814</td>\n",
              "      <td>0.238176</td>\n",
              "      <td>7.441850</td>\n",
              "      <td>-2.315128</td>\n",
              "      <td>6.663201</td>\n",
              "      <td>4.123039</td>\n",
              "      <td>1.675311</td>\n",
              "      <td>8.917008</td>\n",
              "      <td>9.766465</td>\n",
              "      <td>6.836752</td>\n",
              "      <td>-3.021466</td>\n",
              "      <td>-10.693057</td>\n",
              "      <td>7.828988</td>\n",
              "      <td>-9.258770</td>\n",
              "      <td>-3.158507</td>\n",
              "      <td>-5.101060</td>\n",
              "      <td>10.226713</td>\n",
              "      <td>-6.170506</td>\n",
              "      <td>-5.746906</td>\n",
              "      <td>-3.719818</td>\n",
              "      <td>-7.163724</td>\n",
              "      <td>2.824950</td>\n",
              "      <td>-8.938508</td>\n",
              "      <td>8.940187</td>\n",
              "    </tr>\n",
              "    <tr>\n",
              "      <th>9</th>\n",
              "      <td>1.293422</td>\n",
              "      <td>-3.709807</td>\n",
              "      <td>-5.720612</td>\n",
              "      <td>10.369531</td>\n",
              "      <td>0.441351</td>\n",
              "      <td>3.740084</td>\n",
              "      <td>-7.524001</td>\n",
              "      <td>4.678406</td>\n",
              "      <td>3.997640</td>\n",
              "      <td>4.899213</td>\n",
              "      <td>8.677553</td>\n",
              "      <td>4.235319</td>\n",
              "      <td>-1.968228</td>\n",
              "      <td>7.402187</td>\n",
              "      <td>-9.727087</td>\n",
              "      <td>4.737919</td>\n",
              "      <td>5.449008</td>\n",
              "      <td>2.164033</td>\n",
              "      <td>3.177618</td>\n",
              "      <td>10.043859</td>\n",
              "      <td>-2.367843</td>\n",
              "      <td>-1.156166</td>\n",
              "      <td>0.314334</td>\n",
              "      <td>3.680236</td>\n",
              "      <td>-9.307463</td>\n",
              "      <td>-9.185330</td>\n",
              "      <td>-8.948286</td>\n",
              "      <td>5.754804</td>\n",
              "      <td>-3.692173</td>\n",
              "      <td>1.487842</td>\n",
              "      <td>-7.419613</td>\n",
              "    </tr>\n",
              "    <tr>\n",
              "      <th>10</th>\n",
              "      <td>0.232587</td>\n",
              "      <td>7.459894</td>\n",
              "      <td>6.919651</td>\n",
              "      <td>5.484535</td>\n",
              "      <td>-12.431154</td>\n",
              "      <td>4.829899</td>\n",
              "      <td>-3.254776</td>\n",
              "      <td>0.594845</td>\n",
              "      <td>2.595515</td>\n",
              "      <td>-4.869152</td>\n",
              "      <td>-5.824385</td>\n",
              "      <td>4.433677</td>\n",
              "      <td>5.906802</td>\n",
              "      <td>6.620222</td>\n",
              "      <td>7.054857</td>\n",
              "      <td>-9.247167</td>\n",
              "      <td>-7.382494</td>\n",
              "      <td>5.919210</td>\n",
              "      <td>-5.522312</td>\n",
              "      <td>-3.603152</td>\n",
              "      <td>6.776485</td>\n",
              "      <td>8.247946</td>\n",
              "      <td>1.140082</td>\n",
              "      <td>-6.910714</td>\n",
              "      <td>6.922127</td>\n",
              "      <td>0.222332</td>\n",
              "      <td>1.809150</td>\n",
              "      <td>6.953301</td>\n",
              "      <td>-0.338809</td>\n",
              "      <td>1.017339</td>\n",
              "      <td>14.919789</td>\n",
              "    </tr>\n",
              "    <tr>\n",
              "      <th>11</th>\n",
              "      <td>1.431515</td>\n",
              "      <td>7.284040</td>\n",
              "      <td>5.642109</td>\n",
              "      <td>7.384439</td>\n",
              "      <td>-8.667140</td>\n",
              "      <td>7.116767</td>\n",
              "      <td>8.511117</td>\n",
              "      <td>-5.199781</td>\n",
              "      <td>3.289845</td>\n",
              "      <td>-2.631861</td>\n",
              "      <td>-0.874797</td>\n",
              "      <td>3.209629</td>\n",
              "      <td>9.378663</td>\n",
              "      <td>8.073540</td>\n",
              "      <td>8.466675</td>\n",
              "      <td>2.522221</td>\n",
              "      <td>-7.561574</td>\n",
              "      <td>8.219683</td>\n",
              "      <td>-2.879398</td>\n",
              "      <td>2.575204</td>\n",
              "      <td>6.219449</td>\n",
              "      <td>-0.287576</td>\n",
              "      <td>6.230310</td>\n",
              "      <td>9.774750</td>\n",
              "      <td>9.758919</td>\n",
              "      <td>-2.307171</td>\n",
              "      <td>-6.899843</td>\n",
              "      <td>-6.035118</td>\n",
              "      <td>-0.751049</td>\n",
              "      <td>9.543064</td>\n",
              "      <td>14.568080</td>\n",
              "    </tr>\n",
              "    <tr>\n",
              "      <th>12</th>\n",
              "      <td>5.090974</td>\n",
              "      <td>7.058782</td>\n",
              "      <td>-8.742394</td>\n",
              "      <td>-8.889685</td>\n",
              "      <td>9.641141</td>\n",
              "      <td>0.748856</td>\n",
              "      <td>8.969269</td>\n",
              "      <td>2.644688</td>\n",
              "      <td>2.246831</td>\n",
              "      <td>-1.752229</td>\n",
              "      <td>6.447266</td>\n",
              "      <td>-3.751205</td>\n",
              "      <td>-1.400593</td>\n",
              "      <td>-3.027705</td>\n",
              "      <td>-1.461954</td>\n",
              "      <td>7.766171</td>\n",
              "      <td>0.196400</td>\n",
              "      <td>-2.533769</td>\n",
              "      <td>-2.546003</td>\n",
              "      <td>-2.922658</td>\n",
              "      <td>2.635854</td>\n",
              "      <td>-6.497429</td>\n",
              "      <td>3.460426</td>\n",
              "      <td>-4.797432</td>\n",
              "      <td>9.242524</td>\n",
              "      <td>-6.763583</td>\n",
              "      <td>5.360987</td>\n",
              "      <td>-3.975367</td>\n",
              "      <td>-10.643903</td>\n",
              "      <td>3.472197</td>\n",
              "      <td>14.117564</td>\n",
              "    </tr>\n",
              "    <tr>\n",
              "      <th>13</th>\n",
              "      <td>3.032251</td>\n",
              "      <td>-2.885272</td>\n",
              "      <td>5.506874</td>\n",
              "      <td>2.184403</td>\n",
              "      <td>8.763495</td>\n",
              "      <td>8.460100</td>\n",
              "      <td>-10.949550</td>\n",
              "      <td>2.433933</td>\n",
              "      <td>-4.275707</td>\n",
              "      <td>0.037485</td>\n",
              "      <td>-9.527021</td>\n",
              "      <td>-2.156304</td>\n",
              "      <td>0.228550</td>\n",
              "      <td>1.050700</td>\n",
              "      <td>-7.141754</td>\n",
              "      <td>-5.605607</td>\n",
              "      <td>3.440929</td>\n",
              "      <td>-5.706160</td>\n",
              "      <td>-5.467523</td>\n",
              "      <td>-5.826599</td>\n",
              "      <td>7.810584</td>\n",
              "      <td>-8.488434</td>\n",
              "      <td>2.640472</td>\n",
              "      <td>-2.562388</td>\n",
              "      <td>8.984454</td>\n",
              "      <td>1.157101</td>\n",
              "      <td>-8.353642</td>\n",
              "      <td>-3.188921</td>\n",
              "      <td>-8.232495</td>\n",
              "      <td>-6.011149</td>\n",
              "      <td>-5.770544</td>\n",
              "    </tr>\n",
              "    <tr>\n",
              "      <th>14</th>\n",
              "      <td>4.364632</td>\n",
              "      <td>3.597143</td>\n",
              "      <td>-3.390685</td>\n",
              "      <td>-8.179665</td>\n",
              "      <td>5.497344</td>\n",
              "      <td>-0.916145</td>\n",
              "      <td>-3.487054</td>\n",
              "      <td>0.182717</td>\n",
              "      <td>-6.080097</td>\n",
              "      <td>-1.708334</td>\n",
              "      <td>3.440231</td>\n",
              "      <td>1.227705</td>\n",
              "      <td>-3.715522</td>\n",
              "      <td>-2.692101</td>\n",
              "      <td>-6.060722</td>\n",
              "      <td>1.229428</td>\n",
              "      <td>-5.351276</td>\n",
              "      <td>1.984399</td>\n",
              "      <td>8.233974</td>\n",
              "      <td>-6.807795</td>\n",
              "      <td>5.193028</td>\n",
              "      <td>-2.198084</td>\n",
              "      <td>5.399806</td>\n",
              "      <td>6.461929</td>\n",
              "      <td>5.793809</td>\n",
              "      <td>1.584688</td>\n",
              "      <td>2.741760</td>\n",
              "      <td>2.535930</td>\n",
              "      <td>-1.939868</td>\n",
              "      <td>0.105003</td>\n",
              "      <td>7.194286</td>\n",
              "    </tr>\n",
              "    <tr>\n",
              "      <th>15</th>\n",
              "      <td>0.568572</td>\n",
              "      <td>2.021811</td>\n",
              "      <td>-4.081692</td>\n",
              "      <td>-4.259725</td>\n",
              "      <td>4.016358</td>\n",
              "      <td>-8.380803</td>\n",
              "      <td>-5.021396</td>\n",
              "      <td>-6.791600</td>\n",
              "      <td>-5.648068</td>\n",
              "      <td>2.591304</td>\n",
              "      <td>-6.982701</td>\n",
              "      <td>-2.166361</td>\n",
              "      <td>2.458185</td>\n",
              "      <td>-3.987321</td>\n",
              "      <td>-3.285792</td>\n",
              "      <td>1.640470</td>\n",
              "      <td>7.427539</td>\n",
              "      <td>-1.786682</td>\n",
              "      <td>-10.324598</td>\n",
              "      <td>8.066142</td>\n",
              "      <td>8.276860</td>\n",
              "      <td>-3.289043</td>\n",
              "      <td>1.311380</td>\n",
              "      <td>-2.809685</td>\n",
              "      <td>3.267375</td>\n",
              "      <td>-8.284626</td>\n",
              "      <td>-11.958619</td>\n",
              "      <td>10.151552</td>\n",
              "      <td>8.320891</td>\n",
              "      <td>-8.108858</td>\n",
              "      <td>4.043623</td>\n",
              "    </tr>\n",
              "    <tr>\n",
              "      <th>16</th>\n",
              "      <td>0.476545</td>\n",
              "      <td>-8.975873</td>\n",
              "      <td>5.281796</td>\n",
              "      <td>3.365342</td>\n",
              "      <td>5.641653</td>\n",
              "      <td>-1.887726</td>\n",
              "      <td>-0.963775</td>\n",
              "      <td>-3.702601</td>\n",
              "      <td>-0.485008</td>\n",
              "      <td>-9.320814</td>\n",
              "      <td>2.941719</td>\n",
              "      <td>8.871117</td>\n",
              "      <td>8.424252</td>\n",
              "      <td>8.016432</td>\n",
              "      <td>-3.864728</td>\n",
              "      <td>4.922272</td>\n",
              "      <td>1.024844</td>\n",
              "      <td>1.873757</td>\n",
              "      <td>-3.671808</td>\n",
              "      <td>0.817203</td>\n",
              "      <td>-9.103465</td>\n",
              "      <td>5.151922</td>\n",
              "      <td>-4.962471</td>\n",
              "      <td>-6.081088</td>\n",
              "      <td>-3.304438</td>\n",
              "      <td>-6.943292</td>\n",
              "      <td>7.993199</td>\n",
              "      <td>-6.065846</td>\n",
              "      <td>-7.556740</td>\n",
              "      <td>-8.265266</td>\n",
              "      <td>-17.951746</td>\n",
              "    </tr>\n",
              "    <tr>\n",
              "      <th>17</th>\n",
              "      <td>-1.427027</td>\n",
              "      <td>-5.789385</td>\n",
              "      <td>-0.257514</td>\n",
              "      <td>7.251812</td>\n",
              "      <td>-7.530123</td>\n",
              "      <td>-2.041588</td>\n",
              "      <td>-3.371063</td>\n",
              "      <td>-3.155829</td>\n",
              "      <td>-8.804973</td>\n",
              "      <td>-4.034126</td>\n",
              "      <td>8.024120</td>\n",
              "      <td>-4.080629</td>\n",
              "      <td>-9.406499</td>\n",
              "      <td>1.311064</td>\n",
              "      <td>2.792788</td>\n",
              "      <td>-2.934098</td>\n",
              "      <td>9.204001</td>\n",
              "      <td>-6.467068</td>\n",
              "      <td>9.687916</td>\n",
              "      <td>-0.648800</td>\n",
              "      <td>7.666811</td>\n",
              "      <td>2.998651</td>\n",
              "      <td>-5.935985</td>\n",
              "      <td>-11.799719</td>\n",
              "      <td>9.187269</td>\n",
              "      <td>7.979668</td>\n",
              "      <td>4.100800</td>\n",
              "      <td>-0.024537</td>\n",
              "      <td>-3.754370</td>\n",
              "      <td>8.057057</td>\n",
              "      <td>-11.578769</td>\n",
              "    </tr>\n",
              "    <tr>\n",
              "      <th>18</th>\n",
              "      <td>-7.683073</td>\n",
              "      <td>6.049403</td>\n",
              "      <td>2.370486</td>\n",
              "      <td>9.806549</td>\n",
              "      <td>-9.859517</td>\n",
              "      <td>-4.452199</td>\n",
              "      <td>7.841059</td>\n",
              "      <td>-5.657075</td>\n",
              "      <td>5.067027</td>\n",
              "      <td>-0.760541</td>\n",
              "      <td>-6.443312</td>\n",
              "      <td>1.822727</td>\n",
              "      <td>5.054009</td>\n",
              "      <td>2.438904</td>\n",
              "      <td>-6.380023</td>\n",
              "      <td>-2.198458</td>\n",
              "      <td>5.725606</td>\n",
              "      <td>7.103270</td>\n",
              "      <td>5.853670</td>\n",
              "      <td>9.750810</td>\n",
              "      <td>-3.425442</td>\n",
              "      <td>-5.048634</td>\n",
              "      <td>-2.236591</td>\n",
              "      <td>-10.015849</td>\n",
              "      <td>-7.479670</td>\n",
              "      <td>-0.223912</td>\n",
              "      <td>-6.639620</td>\n",
              "      <td>7.803067</td>\n",
              "      <td>3.925170</td>\n",
              "      <td>-6.939948</td>\n",
              "      <td>12.098805</td>\n",
              "    </tr>\n",
              "    <tr>\n",
              "      <th>19</th>\n",
              "      <td>-9.779887</td>\n",
              "      <td>2.342157</td>\n",
              "      <td>-5.108473</td>\n",
              "      <td>-9.030993</td>\n",
              "      <td>-6.624564</td>\n",
              "      <td>7.767690</td>\n",
              "      <td>-6.557555</td>\n",
              "      <td>-6.926726</td>\n",
              "      <td>-7.461934</td>\n",
              "      <td>9.792820</td>\n",
              "      <td>2.549028</td>\n",
              "      <td>1.910727</td>\n",
              "      <td>0.259464</td>\n",
              "      <td>8.117186</td>\n",
              "      <td>2.631928</td>\n",
              "      <td>4.628144</td>\n",
              "      <td>4.701068</td>\n",
              "      <td>9.322180</td>\n",
              "      <td>-10.393466</td>\n",
              "      <td>-4.426822</td>\n",
              "      <td>5.365599</td>\n",
              "      <td>1.599670</td>\n",
              "      <td>-3.024448</td>\n",
              "      <td>3.966274</td>\n",
              "      <td>2.692049</td>\n",
              "      <td>-3.941197</td>\n",
              "      <td>3.237377</td>\n",
              "      <td>-3.853985</td>\n",
              "      <td>7.770168</td>\n",
              "      <td>-10.189986</td>\n",
              "      <td>4.684314</td>\n",
              "    </tr>\n",
              "    <tr>\n",
              "      <th>20</th>\n",
              "      <td>2.310901</td>\n",
              "      <td>-8.962351</td>\n",
              "      <td>7.271504</td>\n",
              "      <td>10.610090</td>\n",
              "      <td>-2.684739</td>\n",
              "      <td>2.191338</td>\n",
              "      <td>-1.902734</td>\n",
              "      <td>6.563856</td>\n",
              "      <td>-10.073872</td>\n",
              "      <td>9.501355</td>\n",
              "      <td>6.277992</td>\n",
              "      <td>0.143831</td>\n",
              "      <td>2.561790</td>\n",
              "      <td>7.487846</td>\n",
              "      <td>-0.147911</td>\n",
              "      <td>-3.591213</td>\n",
              "      <td>-6.112299</td>\n",
              "      <td>3.900265</td>\n",
              "      <td>2.840674</td>\n",
              "      <td>0.897384</td>\n",
              "      <td>6.543151</td>\n",
              "      <td>-4.420296</td>\n",
              "      <td>-2.499496</td>\n",
              "      <td>-4.703667</td>\n",
              "      <td>-2.169429</td>\n",
              "      <td>5.176708</td>\n",
              "      <td>-7.100397</td>\n",
              "      <td>2.605588</td>\n",
              "      <td>3.076187</td>\n",
              "      <td>-9.800767</td>\n",
              "      <td>-17.924703</td>\n",
              "    </tr>\n",
              "    <tr>\n",
              "      <th>21</th>\n",
              "      <td>4.168253</td>\n",
              "      <td>10.736608</td>\n",
              "      <td>6.610390</td>\n",
              "      <td>-6.348770</td>\n",
              "      <td>-4.767430</td>\n",
              "      <td>-4.153824</td>\n",
              "      <td>8.478230</td>\n",
              "      <td>2.331862</td>\n",
              "      <td>7.623721</td>\n",
              "      <td>-10.807016</td>\n",
              "      <td>6.709880</td>\n",
              "      <td>-8.776302</td>\n",
              "      <td>-10.563630</td>\n",
              "      <td>-11.058338</td>\n",
              "      <td>-7.540847</td>\n",
              "      <td>-1.321455</td>\n",
              "      <td>11.312072</td>\n",
              "      <td>9.258856</td>\n",
              "      <td>2.435711</td>\n",
              "      <td>5.149429</td>\n",
              "      <td>-8.308433</td>\n",
              "      <td>5.951347</td>\n",
              "      <td>-8.780458</td>\n",
              "      <td>-8.383874</td>\n",
              "      <td>9.020653</td>\n",
              "      <td>-5.019385</td>\n",
              "      <td>6.340178</td>\n",
              "      <td>0.995540</td>\n",
              "      <td>4.540673</td>\n",
              "      <td>2.663747</td>\n",
              "      <td>21.473217</td>\n",
              "    </tr>\n",
              "    <tr>\n",
              "      <th>22</th>\n",
              "      <td>-7.869224</td>\n",
              "      <td>4.304760</td>\n",
              "      <td>-1.325089</td>\n",
              "      <td>10.418625</td>\n",
              "      <td>-9.614424</td>\n",
              "      <td>-5.394598</td>\n",
              "      <td>8.999314</td>\n",
              "      <td>-8.072943</td>\n",
              "      <td>4.700241</td>\n",
              "      <td>0.452633</td>\n",
              "      <td>-7.163219</td>\n",
              "      <td>2.919860</td>\n",
              "      <td>6.198498</td>\n",
              "      <td>1.752069</td>\n",
              "      <td>-5.513511</td>\n",
              "      <td>-3.811881</td>\n",
              "      <td>6.689004</td>\n",
              "      <td>8.312523</td>\n",
              "      <td>8.163945</td>\n",
              "      <td>9.895758</td>\n",
              "      <td>-2.029675</td>\n",
              "      <td>-4.544926</td>\n",
              "      <td>-3.501827</td>\n",
              "      <td>-7.582506</td>\n",
              "      <td>-8.905030</td>\n",
              "      <td>0.474190</td>\n",
              "      <td>-7.295390</td>\n",
              "      <td>7.127634</td>\n",
              "      <td>4.522279</td>\n",
              "      <td>-8.069932</td>\n",
              "      <td>8.609520</td>\n",
              "    </tr>\n",
              "    <tr>\n",
              "      <th>23</th>\n",
              "      <td>2.347316</td>\n",
              "      <td>1.381706</td>\n",
              "      <td>-4.546481</td>\n",
              "      <td>-9.151369</td>\n",
              "      <td>6.461766</td>\n",
              "      <td>-0.054635</td>\n",
              "      <td>-6.298805</td>\n",
              "      <td>0.949671</td>\n",
              "      <td>-6.351753</td>\n",
              "      <td>-3.580637</td>\n",
              "      <td>1.242380</td>\n",
              "      <td>0.807666</td>\n",
              "      <td>-1.352766</td>\n",
              "      <td>-2.113306</td>\n",
              "      <td>-7.129962</td>\n",
              "      <td>2.248695</td>\n",
              "      <td>-5.534157</td>\n",
              "      <td>1.618529</td>\n",
              "      <td>6.328087</td>\n",
              "      <td>-6.146993</td>\n",
              "      <td>4.019266</td>\n",
              "      <td>-1.953911</td>\n",
              "      <td>6.576298</td>\n",
              "      <td>6.703780</td>\n",
              "      <td>4.255806</td>\n",
              "      <td>1.805657</td>\n",
              "      <td>2.475386</td>\n",
              "      <td>1.746844</td>\n",
              "      <td>-1.818736</td>\n",
              "      <td>0.749560</td>\n",
              "      <td>2.763412</td>\n",
              "    </tr>\n",
              "    <tr>\n",
              "      <th>24</th>\n",
              "      <td>1.094485</td>\n",
              "      <td>-5.096084</td>\n",
              "      <td>-5.505926</td>\n",
              "      <td>7.518695</td>\n",
              "      <td>0.449870</td>\n",
              "      <td>3.374156</td>\n",
              "      <td>-6.665873</td>\n",
              "      <td>4.773346</td>\n",
              "      <td>1.697952</td>\n",
              "      <td>5.666361</td>\n",
              "      <td>8.067576</td>\n",
              "      <td>8.083496</td>\n",
              "      <td>-0.442279</td>\n",
              "      <td>8.600162</td>\n",
              "      <td>-10.232248</td>\n",
              "      <td>7.159672</td>\n",
              "      <td>7.631553</td>\n",
              "      <td>0.684996</td>\n",
              "      <td>2.933915</td>\n",
              "      <td>9.188073</td>\n",
              "      <td>-2.014630</td>\n",
              "      <td>-0.478866</td>\n",
              "      <td>-0.278446</td>\n",
              "      <td>4.694632</td>\n",
              "      <td>-10.192012</td>\n",
              "      <td>-9.519880</td>\n",
              "      <td>-7.041341</td>\n",
              "      <td>5.028872</td>\n",
              "      <td>-5.281318</td>\n",
              "      <td>1.317695</td>\n",
              "      <td>-10.192167</td>\n",
              "    </tr>\n",
              "    <tr>\n",
              "      <th>25</th>\n",
              "      <td>-7.765810</td>\n",
              "      <td>4.872409</td>\n",
              "      <td>0.306776</td>\n",
              "      <td>9.630579</td>\n",
              "      <td>-9.845744</td>\n",
              "      <td>-3.659321</td>\n",
              "      <td>8.308058</td>\n",
              "      <td>-7.077562</td>\n",
              "      <td>3.970933</td>\n",
              "      <td>1.081652</td>\n",
              "      <td>-6.686752</td>\n",
              "      <td>2.351690</td>\n",
              "      <td>7.056098</td>\n",
              "      <td>0.220148</td>\n",
              "      <td>-4.183379</td>\n",
              "      <td>-6.800941</td>\n",
              "      <td>4.620684</td>\n",
              "      <td>8.776816</td>\n",
              "      <td>5.126468</td>\n",
              "      <td>9.053501</td>\n",
              "      <td>-3.453732</td>\n",
              "      <td>-6.878848</td>\n",
              "      <td>-1.657703</td>\n",
              "      <td>-7.449233</td>\n",
              "      <td>-6.745821</td>\n",
              "      <td>0.271352</td>\n",
              "      <td>-7.979751</td>\n",
              "      <td>6.829793</td>\n",
              "      <td>4.507563</td>\n",
              "      <td>-7.344140</td>\n",
              "      <td>9.744817</td>\n",
              "    </tr>\n",
              "    <tr>\n",
              "      <th>26</th>\n",
              "      <td>0.673564</td>\n",
              "      <td>-4.792410</td>\n",
              "      <td>-6.800116</td>\n",
              "      <td>11.054112</td>\n",
              "      <td>-1.777898</td>\n",
              "      <td>3.448450</td>\n",
              "      <td>-7.438424</td>\n",
              "      <td>4.172479</td>\n",
              "      <td>4.348982</td>\n",
              "      <td>6.239796</td>\n",
              "      <td>6.669501</td>\n",
              "      <td>5.365026</td>\n",
              "      <td>-2.139531</td>\n",
              "      <td>7.950039</td>\n",
              "      <td>-7.468511</td>\n",
              "      <td>5.763123</td>\n",
              "      <td>7.709517</td>\n",
              "      <td>0.586120</td>\n",
              "      <td>2.619759</td>\n",
              "      <td>9.563627</td>\n",
              "      <td>-2.629459</td>\n",
              "      <td>-1.089461</td>\n",
              "      <td>-1.180613</td>\n",
              "      <td>2.661432</td>\n",
              "      <td>-9.316443</td>\n",
              "      <td>-10.269213</td>\n",
              "      <td>-7.198441</td>\n",
              "      <td>6.775294</td>\n",
              "      <td>-3.802372</td>\n",
              "      <td>1.792150</td>\n",
              "      <td>-9.584820</td>\n",
              "    </tr>\n",
              "    <tr>\n",
              "      <th>27</th>\n",
              "      <td>8.137292</td>\n",
              "      <td>-5.742141</td>\n",
              "      <td>-8.164679</td>\n",
              "      <td>-2.039345</td>\n",
              "      <td>4.151767</td>\n",
              "      <td>-2.625086</td>\n",
              "      <td>-0.556453</td>\n",
              "      <td>-4.113536</td>\n",
              "      <td>8.352799</td>\n",
              "      <td>1.178504</td>\n",
              "      <td>7.978534</td>\n",
              "      <td>2.009805</td>\n",
              "      <td>-8.880126</td>\n",
              "      <td>6.939132</td>\n",
              "      <td>0.656796</td>\n",
              "      <td>-9.642134</td>\n",
              "      <td>-0.270761</td>\n",
              "      <td>-4.762699</td>\n",
              "      <td>7.704767</td>\n",
              "      <td>-3.935356</td>\n",
              "      <td>-7.222986</td>\n",
              "      <td>10.579561</td>\n",
              "      <td>-5.080142</td>\n",
              "      <td>3.730687</td>\n",
              "      <td>4.188297</td>\n",
              "      <td>10.351260</td>\n",
              "      <td>-2.252709</td>\n",
              "      <td>-9.700184</td>\n",
              "      <td>-3.380139</td>\n",
              "      <td>-6.073271</td>\n",
              "      <td>-11.484282</td>\n",
              "    </tr>\n",
              "    <tr>\n",
              "      <th>28</th>\n",
              "      <td>5.086342</td>\n",
              "      <td>10.674722</td>\n",
              "      <td>7.406370</td>\n",
              "      <td>-6.654942</td>\n",
              "      <td>-4.315940</td>\n",
              "      <td>-4.369051</td>\n",
              "      <td>10.509517</td>\n",
              "      <td>3.011712</td>\n",
              "      <td>7.527079</td>\n",
              "      <td>-9.478677</td>\n",
              "      <td>4.887286</td>\n",
              "      <td>-10.160691</td>\n",
              "      <td>-8.374373</td>\n",
              "      <td>-9.581344</td>\n",
              "      <td>-4.065457</td>\n",
              "      <td>-2.955263</td>\n",
              "      <td>9.192524</td>\n",
              "      <td>8.431746</td>\n",
              "      <td>1.527772</td>\n",
              "      <td>6.679015</td>\n",
              "      <td>-7.886307</td>\n",
              "      <td>4.396910</td>\n",
              "      <td>-7.630203</td>\n",
              "      <td>-5.872019</td>\n",
              "      <td>9.818048</td>\n",
              "      <td>-5.385225</td>\n",
              "      <td>4.993594</td>\n",
              "      <td>1.870152</td>\n",
              "      <td>3.809687</td>\n",
              "      <td>3.263786</td>\n",
              "      <td>21.349444</td>\n",
              "    </tr>\n",
              "  </tbody>\n",
              "</table>\n",
              "</div>"
            ],
            "text/plain": [
              "          0          1         2   ...         28         29         30\n",
              "0  -5.235210  -2.860860 -0.805871  ...  -7.682965   4.194720  -5.721721\n",
              "1   9.510645 -11.724693 -5.819783  ...  -1.015977   6.009005 -23.449386\n",
              "2   9.768125  -9.505962 -5.533852  ...  -0.202463   5.715904 -19.011924\n",
              "3   0.265184  -3.451455 -6.242929  ...  -4.832281   2.099184  -6.902911\n",
              "4  -1.146704  -7.142143  1.101740  ...  -1.062886   6.270803 -14.284285\n",
              "5   3.237981 -10.041340  6.921372  ...   2.657459 -10.647012 -20.082679\n",
              "6   3.924832   2.554358 -3.556597  ...  -1.588546   1.052840   5.108716\n",
              "7  -7.419770  -2.672162 -9.019362  ...  10.307046   2.611541  -5.344323\n",
              "8   2.143784   4.470094  3.762786  ...   2.824950  -8.938508   8.940187\n",
              "9   1.293422  -3.709807 -5.720612  ...  -3.692173   1.487842  -7.419613\n",
              "10  0.232587   7.459894  6.919651  ...  -0.338809   1.017339  14.919789\n",
              "11  1.431515   7.284040  5.642109  ...  -0.751049   9.543064  14.568080\n",
              "12  5.090974   7.058782 -8.742394  ... -10.643903   3.472197  14.117564\n",
              "13  3.032251  -2.885272  5.506874  ...  -8.232495  -6.011149  -5.770544\n",
              "14  4.364632   3.597143 -3.390685  ...  -1.939868   0.105003   7.194286\n",
              "15  0.568572   2.021811 -4.081692  ...   8.320891  -8.108858   4.043623\n",
              "16  0.476545  -8.975873  5.281796  ...  -7.556740  -8.265266 -17.951746\n",
              "17 -1.427027  -5.789385 -0.257514  ...  -3.754370   8.057057 -11.578769\n",
              "18 -7.683073   6.049403  2.370486  ...   3.925170  -6.939948  12.098805\n",
              "19 -9.779887   2.342157 -5.108473  ...   7.770168 -10.189986   4.684314\n",
              "20  2.310901  -8.962351  7.271504  ...   3.076187  -9.800767 -17.924703\n",
              "21  4.168253  10.736608  6.610390  ...   4.540673   2.663747  21.473217\n",
              "22 -7.869224   4.304760 -1.325089  ...   4.522279  -8.069932   8.609520\n",
              "23  2.347316   1.381706 -4.546481  ...  -1.818736   0.749560   2.763412\n",
              "24  1.094485  -5.096084 -5.505926  ...  -5.281318   1.317695 -10.192167\n",
              "25 -7.765810   4.872409  0.306776  ...   4.507563  -7.344140   9.744817\n",
              "26  0.673564  -4.792410 -6.800116  ...  -3.802372   1.792150  -9.584820\n",
              "27  8.137292  -5.742141 -8.164679  ...  -3.380139  -6.073271 -11.484282\n",
              "28  5.086342  10.674722  7.406370  ...   3.809687   3.263786  21.349444\n",
              "\n",
              "[29 rows x 31 columns]"
            ]
          },
          "metadata": {
            "tags": []
          },
          "execution_count": 46
        }
      ]
    },
    {
      "cell_type": "markdown",
      "metadata": {
        "id": "Krv_ewQEQ0Zt"
      },
      "source": [
        "#### Kmean"
      ]
    },
    {
      "cell_type": "markdown",
      "metadata": {
        "id": "DMKFrCDcRH4F"
      },
      "source": [
        "##### Import"
      ]
    },
    {
      "cell_type": "code",
      "metadata": {
        "id": "jUARadkFEuyJ"
      },
      "source": [
        "from sklearn.cluster import KMeans"
      ],
      "execution_count": 17,
      "outputs": []
    },
    {
      "cell_type": "markdown",
      "metadata": {
        "id": "7lMsPSSKRaeG"
      },
      "source": [
        "##### Define"
      ]
    },
    {
      "cell_type": "code",
      "metadata": {
        "id": "_uXElenZRLgl"
      },
      "source": [
        "kmeans = KMeans(random_state=2021)"
      ],
      "execution_count": 18,
      "outputs": []
    },
    {
      "cell_type": "markdown",
      "metadata": {
        "id": "nn-ZUL2NRy8U"
      },
      "source": [
        "##### Fit - Transform"
      ]
    },
    {
      "cell_type": "code",
      "metadata": {
        "id": "E47HiwYNRcIE",
        "colab": {
          "base_uri": "https://localhost:8080/"
        },
        "outputId": "42d780d0-3d6e-4601-b86e-2b763e4201ee"
      },
      "source": [
        "kmeans.fit(Data) # เเสดง จุด cluster centers ที่คำนวณออกมาได้"
      ],
      "execution_count": 19,
      "outputs": [
        {
          "output_type": "execute_result",
          "data": {
            "text/plain": [
              "KMeans(algorithm='auto', copy_x=True, init='k-means++', max_iter=300,\n",
              "       n_clusters=8, n_init=10, n_jobs=None, precompute_distances='auto',\n",
              "       random_state=2021, tol=0.0001, verbose=0)"
            ]
          },
          "metadata": {
            "tags": []
          },
          "execution_count": 19
        }
      ]
    },
    {
      "cell_type": "code",
      "metadata": {
        "id": "tRfgSQ3SR0kj",
        "colab": {
          "base_uri": "https://localhost:8080/"
        },
        "outputId": "058b4867-156b-4e51-a58e-d2ec8a54387b"
      },
      "source": [
        "kmeans.cluster_centers_"
      ],
      "execution_count": 20,
      "outputs": [
        {
          "output_type": "execute_result",
          "data": {
            "text/plain": [
              "array([[  1.71800027,  -6.21285349,  -1.12774587,   1.08655163,\n",
              "          3.37243952,   3.04625098,  -3.35065459,  -1.61455118,\n",
              "         -1.58375089,   2.1162272 ,   1.92544718,   1.29159736,\n",
              "          2.1771463 ,   5.25350631,  -3.67140014,  -1.66639205,\n",
              "          0.91935109,  -0.25174973,  -2.21661717,  -1.53858595,\n",
              "         -0.9981979 ,  -0.70473828,  -1.35106356,  -1.07321597,\n",
              "          0.08594281,   2.64674883,  -1.47108795,  -3.77812246,\n",
              "         -2.71070997,  -6.22198749, -12.42570697, -29.10993746],\n",
              "       [ -2.22293057,  -2.71369564,  -5.30166516,   8.69970758,\n",
              "          3.54064169,  -3.79352741,   2.12936095,   3.19350558,\n",
              "          5.28987227,   1.83380424,  -1.63631266,   1.26693807,\n",
              "          0.17474392,  -0.53366663,  -6.72321254,   0.3708422 ,\n",
              "          2.41148277,  -0.08176501,   3.03063704,  -1.94128075,\n",
              "          0.51915599,  -4.28269633,  -2.09922295,  -1.2644428 ,\n",
              "         -0.48565122,  -3.59826376,  -4.7600181 ,   2.23730764,\n",
              "          5.26170295,   2.61897293,  -5.42739128,  15.09486467],\n",
              "       [  2.75039132,  -6.3863351 ,  -3.29598403,  -3.40741816,\n",
              "         -0.62281756,   0.36719517,   7.80767675,   0.83860884,\n",
              "         -2.91016736,  -5.42016276,   3.35703597,   0.2791643 ,\n",
              "          3.82318412,  -1.2529522 ,   8.84894087,   4.21405185,\n",
              "         -2.66366166,   6.376713  ,   6.2213875 ,  -9.18516558,\n",
              "         -8.19436139,   4.53180967,   5.24982687,   3.01919798,\n",
              "          0.62709536,  -3.70730997,  -7.52194423,  -0.82873099,\n",
              "         -4.07670966,   5.26807636, -12.7726702 ,  28.34038182],\n",
              "       [ -3.81107451,   4.47522424,  -0.65006106,   0.83187158,\n",
              "         -3.09261506,  -3.6683273 ,   1.2421065 ,  -3.77709347,\n",
              "         -1.77277797,   5.04816908,  -3.45543712,   2.15572285,\n",
              "          3.55958756,   1.79363919,   0.16699953,   2.67769666,\n",
              "          6.4297566 ,   3.07030676,  -5.5331265 ,   4.83051153,\n",
              "         -0.12343867,  -2.13851941,  -1.78790538,   1.18372123,\n",
              "         -1.51880877,  -3.75855465,  -3.61417539,   0.46533011,\n",
              "          5.06426882,  -8.3742335 ,   8.95044849, -39.8711675 ],\n",
              "       [  5.04793831,   9.26015856,   6.61809592,  -5.53045474,\n",
              "         -5.19480454,  -3.77670101,   9.66785682,   2.80925217,\n",
              "          8.14861906,  -9.72232314,   5.31489266,  -9.91270779,\n",
              "         -9.12132542,  -9.90751476,  -5.91796375,  -3.41607915,\n",
              "          9.19368344,   8.21380959,   1.79828887,   6.2864239 ,\n",
              "         -9.36993536,   5.03639507,  -8.31199486,  -6.48380686,\n",
              "          8.60780031,  -4.78657849,   5.85950685,   0.58266465,\n",
              "          4.03064332,   3.79721018,  18.52031712,  20.98605092],\n",
              "       [  3.50844695,   5.88884341,  -1.98170722,  -3.29560336,\n",
              "          1.32118102,   1.26345132,   0.87783496,   0.77013495,\n",
              "          1.31822896,  -3.78276535,   1.4786228 ,   1.05762951,\n",
              "         -0.25987263,   1.14552508,  -0.44690877,  -0.27099919,\n",
              "         -5.60543486,   1.46581123,  -0.14786032,  -4.44164719,\n",
              "          4.9934655 ,   0.34988364,   3.76430032,  -1.7628608 ,\n",
              "          6.80571027,  -1.83231354,   4.02346181,   2.28269554,\n",
              "         -3.50592058,   1.63373398,  11.77768682,  10.16866988],\n",
              "       [ -1.14835178,  -5.66575655,  -0.14557559,   8.41605379,\n",
              "         -7.70823376,  -2.30928622,  -2.01804714,  -3.77541565,\n",
              "         -8.94263042,  -5.7105334 ,   8.73817016,  -5.20122903,\n",
              "         -9.68032282,  -1.51730343,   2.42203872,  -2.78984545,\n",
              "          9.22014275,  -6.91083706,   9.04013731,  -0.42028373,\n",
              "          6.23996565,   2.66549973,  -6.45358438,  -9.29495301,\n",
              "          8.93275654,   7.70774702,   4.5958446 ,  -0.90817961,\n",
              "         -1.59593764,   6.82082223, -11.3315131 ,  36.10411117],\n",
              "       [  0.37682282,   0.65701696,   2.03782708,   4.99934957,\n",
              "         -2.11405522,   8.58054394,   6.34719682,  -2.86008268,\n",
              "         -0.93771847,  -0.78824464,  -1.30207625,  -0.65539309,\n",
              "          5.50597227,   7.54660557,   6.22342461,   2.04751828,\n",
              "         -2.80067298,   8.30607612,   2.26468794,   4.23726241,\n",
              "          2.19972575,  -2.18853628,   8.17369816,   5.08830796,\n",
              "          4.14365414,  -0.66660297,  -0.55607175,  -0.13628496,\n",
              "         -0.81671795,   8.28309132,   1.31403392,  43.41545662]])"
            ]
          },
          "metadata": {
            "tags": []
          },
          "execution_count": 20
        }
      ]
    },
    {
      "cell_type": "markdown",
      "metadata": {
        "id": "ZIoSj01YSeZt"
      },
      "source": [
        "#### ทดสอบการจัดกลุ่มของ Data"
      ]
    },
    {
      "cell_type": "code",
      "metadata": {
        "id": "F-XO3hl5SZ0n",
        "colab": {
          "base_uri": "https://localhost:8080/"
        },
        "outputId": "ef385534-c34c-4563-8184-c8e9fa6a414e"
      },
      "source": [
        "y = kmeans.predict(Data)\n",
        "y"
      ],
      "execution_count": 21,
      "outputs": [
        {
          "output_type": "execute_result",
          "data": {
            "text/plain": [
              "array([2, 2, 2, ..., 0, 3, 1], dtype=int32)"
            ]
          },
          "metadata": {
            "tags": []
          },
          "execution_count": 21
        }
      ]
    },
    {
      "cell_type": "markdown",
      "metadata": {
        "id": "7-rgA-VOm3VH"
      },
      "source": [
        "## ทำ PCA เพื่อลด Dimension ของข้อมูลเนื่องจากมีจำนวน Dimension ที่เยอะเกินไป\n",
        "เเละเป็นการวิธีการลด Dimension ของข้อมูล โดยจะรักษา Information ไว้ให้เยอะที่สุด"
      ]
    },
    {
      "cell_type": "markdown",
      "metadata": {
        "id": "DfQa5KEznDNG"
      },
      "source": [
        "###### Import"
      ]
    },
    {
      "cell_type": "code",
      "metadata": {
        "id": "iXYLBPszSmS9"
      },
      "source": [
        "from sklearn.decomposition import PCA"
      ],
      "execution_count": 22,
      "outputs": []
    },
    {
      "cell_type": "markdown",
      "metadata": {
        "id": "CgFkumIAnr0e"
      },
      "source": [
        "##### Define"
      ]
    },
    {
      "cell_type": "code",
      "metadata": {
        "id": "efgbEz1pnqWa"
      },
      "source": [
        "pca = PCA(n_components=2)"
      ],
      "execution_count": 23,
      "outputs": []
    },
    {
      "cell_type": "markdown",
      "metadata": {
        "id": "cRtk6fVIn4tf"
      },
      "source": [
        "#####  Fit - Transform"
      ]
    },
    {
      "cell_type": "code",
      "metadata": {
        "id": "h_ghrXyDnut2"
      },
      "source": [
        "new_pca = pca.fit_transform(Data)"
      ],
      "execution_count": 24,
      "outputs": []
    },
    {
      "cell_type": "code",
      "metadata": {
        "id": "DA_tkXjhn9Ed",
        "colab": {
          "base_uri": "https://localhost:8080/"
        },
        "outputId": "f7b6b652-e487-44ff-ba29-c2ccbee75a7d"
      },
      "source": [
        "new_pca.shape # จะเห็นว่า dimension เหลือเเค่ 2 dimension"
      ],
      "execution_count": 25,
      "outputs": [
        {
          "output_type": "execute_result",
          "data": {
            "text/plain": [
              "(10000, 2)"
            ]
          },
          "metadata": {
            "tags": []
          },
          "execution_count": 25
        }
      ]
    },
    {
      "cell_type": "code",
      "metadata": {
        "id": "SrpgMh4GoBb2"
      },
      "source": [
        "from matplotlib import pyplot as plt"
      ],
      "execution_count": 26,
      "outputs": []
    },
    {
      "cell_type": "code",
      "metadata": {
        "id": "58avznHooKEm",
        "colab": {
          "base_uri": "https://localhost:8080/",
          "height": 282
        },
        "outputId": "ba4a1f3a-1f72-4ef0-8b9d-47d1071f8182"
      },
      "source": [
        "kmeans = KMeans(n_clusters=3,random_state=2021)\n",
        "kmeans.fit(Data)\n",
        "y = kmeans.predict(Data)\n",
        "plt.scatter(new_pca[:,0],new_pca[:,1],c=y)"
      ],
      "execution_count": 27,
      "outputs": [
        {
          "output_type": "execute_result",
          "data": {
            "text/plain": [
              "<matplotlib.collections.PathCollection at 0x7f6cd18da4d0>"
            ]
          },
          "metadata": {
            "tags": []
          },
          "execution_count": 27
        },
        {
          "output_type": "display_data",
          "data": {
            "image/png": "[encoded data removed]",
            "text/plain": [
              "<Figure size 432x288 with 1 Axes>"
            ]
          },
          "metadata": {
            "tags": [],
            "needs_background": "light"
          }
        }
      ]
    },
    {
      "cell_type": "code",
      "metadata": {
        "id": "rQmjterxrRou",
        "colab": {
          "base_uri": "https://localhost:8080/",
          "height": 282
        },
        "outputId": "ccfbce47-022c-466f-987a-b2f6ae74ef40"
      },
      "source": [
        "plt.scatter(new_pca[:,0],new_pca[:,1],c=y) # cluster center\n",
        "plt.plot(kmeans.cluster_centers_[:,0],kmeans.cluster_centers_[:,1],'or')"
      ],
      "execution_count": 28,
      "outputs": [
        {
          "output_type": "execute_result",
          "data": {
            "text/plain": [
              "[<matplotlib.lines.Line2D at 0x7f6cad234150>]"
            ]
          },
          "metadata": {
            "tags": []
          },
          "execution_count": 28
        },
        {
          "output_type": "display_data",
          "data": {
            "image/png": "[encoded data removed]",
            "text/plain": [
              "<Figure size 432x288 with 1 Axes>"
            ]
          },
          "metadata": {
            "tags": [],
            "needs_background": "light"
          }
        }
      ]
    },
    {
      "cell_type": "markdown",
      "metadata": {
        "id": "ZY-8TaQops8v"
      },
      "source": [
        "หลังจากนั้น จะทำการหาค่า k ว่าควรจะเป็นเท่าไหร่ โดบการใช้ Elbow Method ในการช่วยหาค่า k ที่เหมาะสม\n"
      ]
    },
    {
      "cell_type": "markdown",
      "metadata": {
        "id": "d--8mPoJqCwu"
      },
      "source": [
        "##### SSE (Sum of Squared Errors)\n",
        "SSE คือ ความไม่ใกล้เคียงกับจุดศูนย์กลางมากน้อยเท่าไหน"
      ]
    },
    {
      "cell_type": "code",
      "metadata": {
        "id": "ArxcxHCHpA9W",
        "colab": {
          "base_uri": "https://localhost:8080/"
        },
        "outputId": "9e6db139-8803-4082-e4da-cf0d3b2985f1"
      },
      "source": [
        "kmeans.inertia_"
      ],
      "execution_count": 29,
      "outputs": [
        {
          "output_type": "execute_result",
          "data": {
            "text/plain": [
              "11134453.960132588"
            ]
          },
          "metadata": {
            "tags": []
          },
          "execution_count": 29
        }
      ]
    },
    {
      "cell_type": "code",
      "metadata": {
        "id": "Ms9cXzLYqLAm"
      },
      "source": [
        "SSE = list()\n",
        "for k in [1,2,3,4,5,6,7,8]:\n",
        "    kmeans = KMeans(n_clusters=k,random_state=2021)\n",
        "    kmeans.fit(Data)\n",
        "    SSE.append(kmeans.inertia_)"
      ],
      "execution_count": 30,
      "outputs": []
    },
    {
      "cell_type": "code",
      "metadata": {
        "id": "ecB6mn_tqXUF",
        "colab": {
          "base_uri": "https://localhost:8080/"
        },
        "outputId": "0fd33ac4-630d-4b71-c2a5-ae92670ebd16"
      },
      "source": [
        "SSE"
      ],
      "execution_count": 31,
      "outputs": [
        {
          "output_type": "execute_result",
          "data": {
            "text/plain": [
              "[21383197.695221562,\n",
              " 12526383.352083936,\n",
              " 11134453.960132588,\n",
              " 9906995.413663898,\n",
              " 9144006.591083162,\n",
              " 8391396.655424077,\n",
              " 7801784.776167525,\n",
              " 7230682.0301326085]"
            ]
          },
          "metadata": {
            "tags": []
          },
          "execution_count": 31
        }
      ]
    },
    {
      "cell_type": "code",
      "metadata": {
        "id": "E8x2dwaKqaSV",
        "colab": {
          "base_uri": "https://localhost:8080/",
          "height": 290
        },
        "outputId": "7af577d6-46fe-4458-a694-1a22a7bc90cc"
      },
      "source": [
        "plt.plot([1,2,3,4,5,6,7,8],SSE,'o-b') \n",
        "plt.xlabel('k')\n",
        "plt.ylabel('SSE');"
      ],
      "execution_count": 32,
      "outputs": [
        {
          "output_type": "display_data",
          "data": {
            "image/png": "[encoded data removed]",
            "text/plain": [
              "<Figure size 432x288 with 1 Axes>"
            ]
          },
          "metadata": {
            "tags": [],
            "needs_background": "light"
          }
        }
      ]
    },
    {
      "cell_type": "markdown",
      "metadata": {
        "id": "tWU_chGfr56A"
      },
      "source": [
        "## Silhouette coefficient  คือ วิธีไว้ใช้หาจำนวน k ที่เหมาะสมที่สุด"
      ]
    },
    {
      "cell_type": "code",
      "metadata": {
        "id": "dEhYzdhxqeBW"
      },
      "source": [
        "from sklearn import metrics"
      ],
      "execution_count": 33,
      "outputs": []
    },
    {
      "cell_type": "code",
      "metadata": {
        "id": "7oBPf1f-r_uN"
      },
      "source": [
        "SilH = list()\n",
        "for k in [2,3,4,5,6,7,8]:\n",
        "    kmeans = KMeans(n_clusters=k,random_state=2021)\n",
        "    kmeans.fit(Data)\n",
        "    score = metrics.silhouette_score(Data,kmeans.labels_)\n",
        "    SilH.append(score)"
      ],
      "execution_count": 34,
      "outputs": []
    },
    {
      "cell_type": "code",
      "metadata": {
        "id": "rvNU3vA7shxM",
        "colab": {
          "base_uri": "https://localhost:8080/",
          "height": 279
        },
        "outputId": "0c24d14b-7a8f-435a-98f6-daa46fbf9f26"
      },
      "source": [
        "plt.plot([2,3,4,5,6,7,8],SilH,'o-g') # ทำการ Silhouette ดีที่สุดที่ คือ 2\n",
        "plt.xlabel('k')\n",
        "plt.ylabel('Silhouette Score');"
      ],
      "execution_count": 35,
      "outputs": [
        {
          "output_type": "display_data",
          "data": {
            "image/png": "[encoded data removed]",
            "text/plain": [
              "<Figure size 432x288 with 1 Axes>"
            ]
          },
          "metadata": {
            "tags": [],
            "needs_background": "light"
          }
        }
      ]
    },
    {
      "cell_type": "markdown",
      "metadata": {
        "id": "NNfZpy_9vToQ"
      },
      "source": [
        "# 3. ลด Dimension ของข้อมูลเหลือ 2 มิติ แล้วทำ clustering แล้ว visualize ข้อมูลแบบ 2 มิติ"
      ]
    },
    {
      "cell_type": "markdown",
      "metadata": {
        "id": "X5CK1wouHgib"
      },
      "source": [
        "ใช้วิธี MDS (Multidimension Scaling) คือ การลดขนาดของตัวเเปร จากที่มีเยอะให้เหลือน้อยๆ"
      ]
    },
    {
      "cell_type": "code",
      "metadata": {
        "id": "LtFNwZ4csohd"
      },
      "source": [
        "from sklearn.manifold import MDS"
      ],
      "execution_count": 43,
      "outputs": []
    },
    {
      "cell_type": "code",
      "metadata": {
        "id": "b9mEzIW-HgVD"
      },
      "source": [
        "mds = MDS(n_components=2)"
      ],
      "execution_count": 44,
      "outputs": []
    },
    {
      "cell_type": "code",
      "metadata": {
        "id": "l2y_PikpH1U4"
      },
      "source": [
        "new_mds = mds.fit_transform(new_data)"
      ],
      "execution_count": 47,
      "outputs": []
    },
    {
      "cell_type": "code",
      "metadata": {
        "id": "N_fVzj7wICqR"
      },
      "source": [
        "kmeans_2 = KMeans(n_clusters=3,random_state=2021)\n",
        "kmeans_2.fit(new_data)\n",
        "g = kmeans_2.predict(new_data)"
      ],
      "execution_count": 48,
      "outputs": []
    },
    {
      "cell_type": "code",
      "metadata": {
        "id": "yfgGnenkIV_o",
        "outputId": "f432e867-191b-428d-ba32-3f6a55980496",
        "colab": {
          "base_uri": "https://localhost:8080/",
          "height": 295
        }
      },
      "source": [
        "plt.scatter(new_mds[:,0],new_mds[:,1],c=g,alpha=0.7)\n",
        "plt.title('DataGenerator') \n",
        "plt.xlabel('X') \n",
        "plt.ylabel('Y');"
      ],
      "execution_count": 49,
      "outputs": [
        {
          "output_type": "display_data",
          "data": {
            "image/png": "[encoded data removed]",
            "text/plain": [
              "<Figure size 432x288 with 1 Axes>"
            ]
          },
          "metadata": {
            "tags": [],
            "needs_background": "light"
          }
        }
      ]
    },
    {
      "cell_type": "markdown",
      "metadata": {
        "id": "q1gRvdc6Uwgc"
      },
      "source": [
        "เปรียบเทียบระหว่างข้อ 2 กับ ข้อ 3 พบว่า หลังจากการลด dimension ของข้อมูลด้วย mds เเล้วข้อมูลมีการกระจายที่เเตกต่างกัน จากข้อ 2"
      ]
    }
  ]
}