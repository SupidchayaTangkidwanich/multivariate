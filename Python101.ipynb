{
  "nbformat": 4,
  "nbformat_minor": 0,
  "metadata": {
    "colab": {
      "name": "Python101.ipynb",
      "provenance": [],
      "collapsed_sections": [],
      "include_colab_link": true
    },
    "kernelspec": {
      "name": "python3",
      "display_name": "Python 3"
    }
  },
  "cells": [
    {
      "cell_type": "markdown",
      "metadata": {
        "id": "view-in-github",
        "colab_type": "text"
      },
      "source": [
        "<a href=\"https://colab.research.google.com/github/SupidchayaTangkidwanich/multivariate/blob/main/Python101.ipynb\" target=\"_parent\"><img src=\"https://colab.research.google.com/assets/colab-badge.svg\" alt=\"Open In Colab\"/></a>"
      ]
    },
    {
      "cell_type": "markdown",
      "metadata": {
        "id": "tYwyAfqqLhsM"
      },
      "source": [
        "##ตัวเเปร variable ไว้ใช้เก็บข้อมูล 1 ตัว \r\n",
        "\r\n",
        "\r\n",
        "หลักการตั้งชื่อตัวเเปรเบื้องต้น\r\n",
        "\r\n",
        "  1. ตั้งให้สื่อ\r\n",
        "  2. ภาษาอังกฤษ\r\n",
        "  3. ใช้ตัวเลขได้เเต่ห้ามขึ้นต้นด้วยตัวเลข\r\n",
        "  4. ห้ามเว้นวรรค\r\n",
        "  5. ตัวเล็กกับตัวใหญ่ไม่เหมือนกัน\r\n"
      ]
    },
    {
      "cell_type": "markdown",
      "metadata": {
        "id": "AGfu_L9cMq9r"
      },
      "source": [
        "มี output 2 mode : ออกหน้าจอ กับ เข้าไปเก็บในตัวเเปร"
      ]
    },
    {
      "cell_type": "code",
      "metadata": {
        "colab": {
          "base_uri": "https://localhost:8080/"
        },
        "id": "8hzy4ie6M437",
        "outputId": "421a06be-05f6-43bd-e5e5-271febf2df02"
      },
      "source": [
        "3.14159 #hashtag หรือ sharp # คือ comment >>> อันนี้ คือ output ผลออกที่้หน้าจอ"
      ],
      "execution_count": null,
      "outputs": [
        {
          "output_type": "execute_result",
          "data": {
            "text/plain": [
              "3.14159"
            ]
          },
          "metadata": {
            "tags": []
          },
          "execution_count": 9
        }
      ]
    },
    {
      "cell_type": "code",
      "metadata": {
        "id": "3k3o9wK_NNnq"
      },
      "source": [
        "Pi = 3.14159  # อันนี้คือ output ที่เข้าไปอยู่ในตัวแปร"
      ],
      "execution_count": null,
      "outputs": []
    },
    {
      "cell_type": "code",
      "metadata": {
        "colab": {
          "base_uri": "https://localhost:8080/"
        },
        "id": "5eDHHXY5NQKR",
        "outputId": "b3767c49-da09-46c6-ac9d-04afbb39b63f"
      },
      "source": [
        "Pi # สามารถนำค่ามาเเสดงได้"
      ],
      "execution_count": null,
      "outputs": [
        {
          "output_type": "execute_result",
          "data": {
            "text/plain": [
              "3.14159"
            ]
          },
          "metadata": {
            "tags": []
          },
          "execution_count": 11
        }
      ]
    },
    {
      "cell_type": "code",
      "metadata": {
        "colab": {
          "base_uri": "https://localhost:8080/"
        },
        "id": "oqExwNW9NRcZ",
        "outputId": "d3ed945a-bb51-436b-941c-4cc07fb1fa49"
      },
      "source": [
        "a = 1234567 # กด shift + enter เพราะว่า ในเซลล์สามารถมีได้หลายคำสั่ง\r\n",
        "print(a) #print():ไว้สำหรับเเสดงผลของตัวเเปร โชว์ค่า a "
      ],
      "execution_count": null,
      "outputs": [
        {
          "output_type": "stream",
          "text": [
            "1234567\n"
          ],
          "name": "stdout"
        }
      ]
    },
    {
      "cell_type": "markdown",
      "metadata": {
        "id": "Vv_Q-IhtNjZW"
      },
      "source": [
        "## ชนิดของตัวเเปร \r\n",
        "  มีทั้งหมด 3 ชนิด\r\n",
        "\r\n",
        "\r\n"
      ]
    },
    {
      "cell_type": "markdown",
      "metadata": {
        "id": "b5mARpCAOhcE"
      },
      "source": [
        "### 1. จำนวนเต็ม (integer, int)\r\n"
      ]
    },
    {
      "cell_type": "code",
      "metadata": {
        "colab": {
          "base_uri": "https://localhost:8080/"
        },
        "id": "2Gr_9gyMNWNx",
        "outputId": "897e2797-ed76-41bc-b4af-df95dfb976ad"
      },
      "source": [
        "aaa = 1092       #ตัวเเปรint 1 ตัว  ต้องเป็นจำนวนที่ไม่เป็นจุดทศนิยม\r\n",
        "print(aaa)"
      ],
      "execution_count": null,
      "outputs": [
        {
          "output_type": "stream",
          "text": [
            "1092\n"
          ],
          "name": "stdout"
        }
      ]
    },
    {
      "cell_type": "markdown",
      "metadata": {
        "id": "JQoYhEoJO2Mq"
      },
      "source": [
        "### 2. จำนวนจริง (float)"
      ]
    },
    {
      "cell_type": "code",
      "metadata": {
        "colab": {
          "base_uri": "https://localhost:8080/"
        },
        "id": "LMjzyV7nOwEs",
        "outputId": "d12eb25f-76b1-4102-f398-229d675737b9"
      },
      "source": [
        "bbb = 11.  # ต้องใส่จุดเพราะจำนวนจริงเป็นจำนวนทศนิยม เเละ หลังจุดจะใส่ 0 ไม่ได้ 0 ก็ได้\r\n",
        "print(bbb)"
      ],
      "execution_count": null,
      "outputs": [
        {
          "output_type": "stream",
          "text": [
            "11.0\n"
          ],
          "name": "stdout"
        }
      ]
    },
    {
      "cell_type": "markdown",
      "metadata": {
        "id": "DQFIbNA6PFf6"
      },
      "source": [
        "### 3. ตัวอักษร-ข้อความ (character เเละ text,string) \r\n",
        "\r\n",
        "    เป็น ตัวอักษรไม่สามารถนำไปบวก ลบ คูณ หารได้\r\n"
      ]
    },
    {
      "cell_type": "code",
      "metadata": {
        "colab": {
          "base_uri": "https://localhost:8080/"
        },
        "id": "WW4vuMXJPD1y",
        "outputId": "7c66ee1d-f9a4-45ca-a52c-31e334064d0e"
      },
      "source": [
        "ccc = '123456' #เราใช้ single quote ' หรือ double quote \" ล้อมรอบตัวหนังสือเพื่อระบุว่าเป็น character-string\r\n",
        "print(ccc)"
      ],
      "execution_count": null,
      "outputs": [
        {
          "output_type": "stream",
          "text": [
            "123456\n"
          ],
          "name": "stdout"
        }
      ]
    },
    {
      "cell_type": "code",
      "metadata": {
        "colab": {
          "base_uri": "https://localhost:8080/"
        },
        "id": "iBzCPuqpP_NC",
        "outputId": "ce08edd4-ced6-4d57-9068-1efb0e04bd27"
      },
      "source": [
        "aaa + bbb #เมื่อเราเอา float + int = float"
      ],
      "execution_count": null,
      "outputs": [
        {
          "output_type": "execute_result",
          "data": {
            "text/plain": [
              "1103.0"
            ]
          },
          "metadata": {
            "tags": []
          },
          "execution_count": 16
        }
      ]
    },
    {
      "cell_type": "code",
      "metadata": {
        "colab": {
          "base_uri": "https://localhost:8080/",
          "height": 162
        },
        "id": "24MuZbyrPvWN",
        "outputId": "ef40641a-340c-42a5-ec29-70dbf898665a"
      },
      "source": [
        "bbb + ccc     #ไม่สามารถบวกกันได้สามารถนำไปเซิร์จในgoogleได้ถ้าอยากจะเเก้ไข ตัวอักษรไม่สามารถนำมาบวกกับตัวเลขได้"
      ],
      "execution_count": null,
      "outputs": [
        {
          "output_type": "error",
          "ename": "TypeError",
          "evalue": "ignored",
          "traceback": [
            "\u001b[0;31m---------------------------------------------------------------------------\u001b[0m",
            "\u001b[0;31mTypeError\u001b[0m                                 Traceback (most recent call last)",
            "\u001b[0;32m<ipython-input-17-19c03e14a4f3>\u001b[0m in \u001b[0;36m<module>\u001b[0;34m()\u001b[0m\n\u001b[0;32m----> 1\u001b[0;31m \u001b[0mbbb\u001b[0m \u001b[0;34m+\u001b[0m \u001b[0mccc\u001b[0m     \u001b[0;31m#ไม่สามารถบวกกันได้สามารถนำไปเซิร์จในgoogleได้ถ้าอยากจะเเก้ไข ตัวอักษรไม่สามารถนำมาบวกกับตัวเลขได้\u001b[0m\u001b[0;34m\u001b[0m\u001b[0;34m\u001b[0m\u001b[0m\n\u001b[0m",
            "\u001b[0;31mTypeError\u001b[0m: unsupported operand type(s) for +: 'float' and 'str'"
          ]
        }
      ]
    },
    {
      "cell_type": "code",
      "metadata": {
        "colab": {
          "base_uri": "https://localhost:8080/"
        },
        "id": "nqcBsXOQP8rZ",
        "outputId": "73875032-12c1-49da-9f57-5e820b5ed72a"
      },
      "source": [
        "ddd = 'สุพิชญา' #ข้อความสามารถเป็นภาษาไทยได้\r\n",
        "print(ddd)"
      ],
      "execution_count": null,
      "outputs": [
        {
          "output_type": "stream",
          "text": [
            "สุพิชญา\n"
          ],
          "name": "stdout"
        }
      ]
    },
    {
      "cell_type": "markdown",
      "metadata": {
        "id": "XYy4C1rHQtmR"
      },
      "source": [
        "## การเปลี่ยนชนิดของตัวเเปร (Variable casting)\r\n",
        "  เป็น วิธีที่ทำให้สามารถเเก้ไข Error ได้"
      ]
    },
    {
      "cell_type": "code",
      "metadata": {
        "colab": {
          "base_uri": "https://localhost:8080/"
        },
        "id": "XLCbNXbqQqDx",
        "outputId": "fb9e016a-37e0-4554-b038-29802335832b"
      },
      "source": [
        "aaa + int(ccc) #ให้บังคับเป็นชนิดตัวเเปรที่ต้องการ เปลี่ยนให้ ccc กลายเป็น int"
      ],
      "execution_count": null,
      "outputs": [
        {
          "output_type": "execute_result",
          "data": {
            "text/plain": [
              "124548"
            ]
          },
          "metadata": {
            "tags": []
          },
          "execution_count": 19
        }
      ]
    },
    {
      "cell_type": "code",
      "metadata": {
        "colab": {
          "base_uri": "https://localhost:8080/"
        },
        "id": "7U2OU9RtRjH7",
        "outputId": "e3721bb9-d1cb-4a1d-c936-797fc0b7e132"
      },
      "source": [
        "aaa + float(ccc) # float + int = float เปลี่ยนให้ ccc กลายเป็น float"
      ],
      "execution_count": null,
      "outputs": [
        {
          "output_type": "execute_result",
          "data": {
            "text/plain": [
              "124548.0"
            ]
          },
          "metadata": {
            "tags": []
          },
          "execution_count": 20
        }
      ]
    },
    {
      "cell_type": "code",
      "metadata": {
        "colab": {
          "base_uri": "https://localhost:8080/",
          "height": 35
        },
        "id": "CEoNHdVZRlfq",
        "outputId": "9b5f590c-b78e-42af-9f23-57e9a1f07966"
      },
      "source": [
        "str(aaa) # เปลี่ยนให้ int หรือ aaa กลายเป็น string ได้  ทำได้เฉพาะใน NOTEBOOK ทำในpython หรือ ภาษาซี ก็จะไม่ทำอะไรเลย\r\n"
      ],
      "execution_count": null,
      "outputs": [
        {
          "output_type": "execute_result",
          "data": {
            "application/vnd.google.colaboratory.intrinsic+json": {
              "type": "string"
            },
            "text/plain": [
              "'1092'"
            ]
          },
          "metadata": {
            "tags": []
          },
          "execution_count": 21
        }
      ]
    },
    {
      "cell_type": "markdown",
      "metadata": {
        "id": "7DJSqka9SOCi"
      },
      "source": [
        "## การดำเนินการ Operation (Operator +,-,*,/,%)"
      ]
    },
    {
      "cell_type": "code",
      "metadata": {
        "colab": {
          "base_uri": "https://localhost:8080/",
          "height": 162
        },
        "id": "zpO89PstRxXJ",
        "outputId": "16633534-fd78-4a12-c610-7d3f621f5782"
      },
      "source": [
        "a+b # เวลาดูว่าErrorตรงไหนให้ดูตรงบรรทัดสุดท้าย Errorนี้บอกว่าตัวเเปร b ไม่มีก็เลยบวกไม่ได้"
      ],
      "execution_count": null,
      "outputs": [
        {
          "output_type": "error",
          "ename": "NameError",
          "evalue": "ignored",
          "traceback": [
            "\u001b[0;31m---------------------------------------------------------------------------\u001b[0m",
            "\u001b[0;31mNameError\u001b[0m                                 Traceback (most recent call last)",
            "\u001b[0;32m<ipython-input-22-c2176c7ecb5a>\u001b[0m in \u001b[0;36m<module>\u001b[0;34m()\u001b[0m\n\u001b[0;32m----> 1\u001b[0;31m \u001b[0ma\u001b[0m\u001b[0;34m+\u001b[0m\u001b[0mb\u001b[0m \u001b[0;31m# เวลาดูว่าErrorตรงไหนให้ดูตรงบรรทัดสุดท้าย Errorนี้บอกว่าตัวเเปร b ไม่มีก็เลยบวกไม่ได้\u001b[0m\u001b[0;34m\u001b[0m\u001b[0;34m\u001b[0m\u001b[0m\n\u001b[0m",
            "\u001b[0;31mNameError\u001b[0m: name 'b' is not defined"
          ]
        }
      ]
    },
    {
      "cell_type": "code",
      "metadata": {
        "colab": {
          "base_uri": "https://localhost:8080/"
        },
        "id": "TuHFE9lBSWKI",
        "outputId": "70f7972b-ab34-4728-d81a-12f153d3f436"
      },
      "source": [
        "aaa + bbb # output โชว์ออกมาอย่างเดียวไม่สามารถนำมาใช้ต่อได้"
      ],
      "execution_count": null,
      "outputs": [
        {
          "output_type": "execute_result",
          "data": {
            "text/plain": [
              "1103.0"
            ]
          },
          "metadata": {
            "tags": []
          },
          "execution_count": 23
        }
      ]
    },
    {
      "cell_type": "code",
      "metadata": {
        "colab": {
          "base_uri": "https://localhost:8080/"
        },
        "id": "6oiqIQHGSxBB",
        "outputId": "2baf73d7-6cf9-43a1-dc2f-9ebead72dc91"
      },
      "source": [
        "aaa - bbb # output โชว์ออกมาอย่างเดียวไม่สามารถนำมาใช้ต่อได้"
      ],
      "execution_count": null,
      "outputs": [
        {
          "output_type": "execute_result",
          "data": {
            "text/plain": [
              "1081.0"
            ]
          },
          "metadata": {
            "tags": []
          },
          "execution_count": 24
        }
      ]
    },
    {
      "cell_type": "code",
      "metadata": {
        "colab": {
          "base_uri": "https://localhost:8080/"
        },
        "id": "hslirlDDTRiQ",
        "outputId": "1863d2ba-fa22-4242-be6f-c8d3fdd9fc22"
      },
      "source": [
        "ab = aaa*bbb # ถ้าprint ออกมา ก็จะสามารถนำ output มาใช้ต่อได้\r\n",
        "print(ab)"
      ],
      "execution_count": null,
      "outputs": [
        {
          "output_type": "stream",
          "text": [
            "12012.0\n"
          ],
          "name": "stdout"
        }
      ]
    },
    {
      "cell_type": "code",
      "metadata": {
        "colab": {
          "base_uri": "https://localhost:8080/"
        },
        "id": "u9tCCnBUTRYO",
        "outputId": "cc9d9fd7-efcd-4b88-913a-4a895049c60c"
      },
      "source": [
        "ab + int (ccc) # ถ้าprint ออกมา ก็จะสามารถนำ output มาใช้ต่อได้"
      ],
      "execution_count": null,
      "outputs": [
        {
          "output_type": "execute_result",
          "data": {
            "text/plain": [
              "135468.0"
            ]
          },
          "metadata": {
            "tags": []
          },
          "execution_count": 26
        }
      ]
    },
    {
      "cell_type": "markdown",
      "metadata": {
        "id": "SIaz1irdTGSc"
      },
      "source": [
        "## % modulo \r\n",
        "    คือ การหารเอาเศษ"
      ]
    },
    {
      "cell_type": "code",
      "metadata": {
        "colab": {
          "base_uri": "https://localhost:8080/"
        },
        "id": "oBikivK1TB6B",
        "outputId": "688055e7-9061-41bb-ef2a-cb913ef7fd6c"
      },
      "source": [
        "5%3 # ผลจะออกมาเป็นเศษ 2"
      ],
      "execution_count": null,
      "outputs": [
        {
          "output_type": "execute_result",
          "data": {
            "text/plain": [
              "2"
            ]
          },
          "metadata": {
            "tags": []
          },
          "execution_count": 27
        }
      ]
    },
    {
      "cell_type": "code",
      "metadata": {
        "colab": {
          "base_uri": "https://localhost:8080/"
        },
        "id": "oIsVp-eITsEZ",
        "outputId": "4ba79eba-a075-41ed-8f07-8540db8829d0"
      },
      "source": [
        "7%3 # ผลจะออกมาเป็นเศษ 1"
      ],
      "execution_count": null,
      "outputs": [
        {
          "output_type": "execute_result",
          "data": {
            "text/plain": [
              "1"
            ]
          },
          "metadata": {
            "tags": []
          },
          "execution_count": 28
        }
      ]
    },
    {
      "cell_type": "markdown",
      "metadata": {
        "id": "Vgf7NxXJT75K"
      },
      "source": [
        "## คำสั่ง print เเบบพิเศษ (การ format string)\r\n",
        "\r\n"
      ]
    },
    {
      "cell_type": "code",
      "metadata": {
        "colab": {
          "base_uri": "https://localhost:8080/"
        },
        "id": "R3CDOl2RTtQQ",
        "outputId": "06b581a5-28e8-46e6-f7a6-26cc9162fadd"
      },
      "source": [
        "print ('ตัวเเปร') #สิ่งที่อยู่ข้างในวงเล็บ คือ ตัวเเปร เเละ string"
      ],
      "execution_count": null,
      "outputs": [
        {
          "output_type": "stream",
          "text": [
            "ตัวเเปร\n"
          ],
          "name": "stdout"
        }
      ]
    },
    {
      "cell_type": "code",
      "metadata": {
        "colab": {
          "base_uri": "https://localhost:8080/"
        },
        "id": "s_bJZVnvUPyQ",
        "outputId": "c8bdcf6a-6e8e-424d-f412-0f0bc51e4b93"
      },
      "source": [
        "print(f'% คือการหาเอาเศษ เช่น 7%3 = {7%3}')  # เพิ่ม f หน้า 'string' เเละใช้ {} ใส่ code"
      ],
      "execution_count": null,
      "outputs": [
        {
          "output_type": "stream",
          "text": [
            "% คือการหาเอาเศษ เช่น 7%3 = 1\n"
          ],
          "name": "stdout"
        }
      ]
    },
    {
      "cell_type": "code",
      "metadata": {
        "colab": {
          "base_uri": "https://localhost:8080/"
        },
        "id": "6-c770rQUpL5",
        "outputId": "6e7ca12b-0230-4e7d-f458-3ab8ad3331b5"
      },
      "source": [
        "print(f'% คือการหารเอาเศษ เช่น 7%3 = {7%3} \\\r\n",
        "    แต่\\n/ คือการหารปกติ เช่น 7/3 = {7/3}  \\\r\n",
        "    และ\\n// คือการหารเอาส่วน เช่น 7//3 = {7//3} \\\r\n",
        "    หรือ\\nใช้ int() เพื่อหารเอาส่วน เช่น int(7/3) = {int(7/3)}') "
      ],
      "execution_count": null,
      "outputs": [
        {
          "output_type": "stream",
          "text": [
            "% คือการหารเอาเศษ เช่น 7%3 = 1     แต่\n",
            "/ คือการหารปกติ เช่น 7/3 = 2.3333333333333335      และ\n",
            "// คือการหารเอาส่วน เช่น 7//3 = 2     หรือ\n",
            "ใช้ int() เพื่อหารเอาส่วน เช่น int(7/3) = 2\n"
          ],
          "name": "stdout"
        }
      ]
    },
    {
      "cell_type": "markdown",
      "metadata": {
        "id": "nxamcxKzcwyT"
      },
      "source": [
        "\\ ใช้ในการตัดโค้ด (เเต่ com จะไม่เห็น) ส่วน \\n/ ใช้ในการขึ้นบรรทัดใหม่"
      ]
    },
    {
      "cell_type": "markdown",
      "metadata": {
        "id": "euU1ugFjdHXo"
      },
      "source": [
        "## DATA STRUCTURE (โครงสร้างข้อมูล)\r\n",
        "    "
      ]
    },
    {
      "cell_type": "markdown",
      "metadata": {
        "id": "I1sRrTBNdM4p"
      },
      "source": [
        "## List คือ การเอาข้อมูลหลายๆตัวมาเรียงต่อกัน"
      ]
    },
    {
      "cell_type": "markdown",
      "metadata": {
        "id": "F2CjGS8pdOAB"
      },
      "source": [
        "### list สามารถสร้างได้ 2 เเบบ "
      ]
    },
    {
      "cell_type": "code",
      "metadata": {
        "id": "S5fmWoZuVGFq",
        "colab": {
          "base_uri": "https://localhost:8080/"
        },
        "outputId": "536367e6-714c-4707-e664-c8ab9a06fd20"
      },
      "source": [
        "[111,'c','งง',aaa] # สามารถเอาตัวเลข ตัวอักษร  ข้อความ  หรือ ตัวเเปร ได้"
      ],
      "execution_count": null,
      "outputs": [
        {
          "output_type": "execute_result",
          "data": {
            "text/plain": [
              "[111, 'c', 'งง', 1092]"
            ]
          },
          "metadata": {
            "tags": []
          },
          "execution_count": 32
        }
      ]
    },
    {
      "cell_type": "markdown",
      "metadata": {
        "id": "MqZNXpikdbBg"
      },
      "source": [
        "#### เเบบที่ 1 > square brackets"
      ]
    },
    {
      "cell_type": "code",
      "metadata": {
        "id": "O9UiUBd3YElB",
        "colab": {
          "base_uri": "https://localhost:8080/"
        },
        "outputId": "516761dc-5f2f-4c04-b3ec-fcbd0e693e5f"
      },
      "source": [
        "list_a = []  # [] เรียกว่า listว่าง คือไม่มีอะไรเลย\r\n",
        "print(list_a)\r\n"
      ],
      "execution_count": null,
      "outputs": [
        {
          "output_type": "stream",
          "text": [
            "[]\n"
          ],
          "name": "stdout"
        }
      ]
    },
    {
      "cell_type": "code",
      "metadata": {
        "colab": {
          "base_uri": "https://localhost:8080/"
        },
        "id": "KxZVxMq4djQH",
        "outputId": "68fe6124-b381-49fe-c704-3823c6a5d22b"
      },
      "source": [
        "list_b = [111,'c','งง',aaa] # ลำดับมมีความสำคัญ\r\n",
        "print(list_b)"
      ],
      "execution_count": null,
      "outputs": [
        {
          "output_type": "stream",
          "text": [
            "[111, 'c', 'งง', 1092]\n"
          ],
          "name": "stdout"
        }
      ]
    },
    {
      "cell_type": "markdown",
      "metadata": {
        "id": "8KsyRANcd0rw"
      },
      "source": [
        "ลำดับที่อยู่ใน list มีความสำคัญ (ลำดับใน list เริ่มจาก 0,1,2,...)"
      ]
    },
    {
      "cell_type": "code",
      "metadata": {
        "id": "Y8RnR9Abdl3m",
        "colab": {
          "base_uri": "https://localhost:8080/",
          "height": 35
        },
        "outputId": "b5db3dc4-da18-4790-f543-c282b2c14858"
      },
      "source": [
        "list_b[2] # อยากได้สมาชิกตัวที่ 2 ใน list"
      ],
      "execution_count": null,
      "outputs": [
        {
          "output_type": "execute_result",
          "data": {
            "application/vnd.google.colaboratory.intrinsic+json": {
              "type": "string"
            },
            "text/plain": [
              "'งง'"
            ]
          },
          "metadata": {
            "tags": []
          },
          "execution_count": 47
        }
      ]
    },
    {
      "cell_type": "markdown",
      "metadata": {
        "id": "hV6HD9rNelQB"
      },
      "source": [
        "#### เเบบที่ 2 "
      ]
    },
    {
      "cell_type": "code",
      "metadata": {
        "colab": {
          "base_uri": "https://localhost:8080/"
        },
        "id": "yh45DEucej--",
        "outputId": "85d60481-c09c-4e71-cd88-580860a18215"
      },
      "source": [
        "list_c = list() #การสร้างlist โดยสร้าง list ว่าง\r\n",
        "print(list_c)"
      ],
      "execution_count": null,
      "outputs": [
        {
          "output_type": "stream",
          "text": [
            "[]\n"
          ],
          "name": "stdout"
        }
      ]
    },
    {
      "cell_type": "markdown",
      "metadata": {
        "id": "74td-iJZgVQj"
      },
      "source": [
        "##append() เพิ่มสมาชิกใน list"
      ]
    },
    {
      "cell_type": "code",
      "metadata": {
        "id": "6pwFPQD0eqJt",
        "colab": {
          "base_uri": "https://localhost:8080/"
        },
        "outputId": "38c3935a-f69f-4d09-c63f-9cae43c2008c"
      },
      "source": [
        "list_b.append('u') # การนำสมาชิกไปต่อท้ายของlist การนำตัว u ไปต่อท้ายใน list b\r\n",
        "print(list_b)"
      ],
      "execution_count": null,
      "outputs": [
        {
          "output_type": "stream",
          "text": [
            "[111, 'c', 'งง', 1092, 'u']\n"
          ],
          "name": "stdout"
        }
      ]
    },
    {
      "cell_type": "markdown",
      "metadata": {
        "id": "-yDIyCxXgaUg"
      },
      "source": [
        "ตัวที่อยู่ในวงเล็บหลังจากตัวแปร list เรียกว่า index ใช้สำหรับชี้ข้อมูลใน list\r\n",
        "\r\n",
        "(ชี้จากข้างหน้า,ชี้จากข้างหลัง)\r\n",
        "\r\n",
        "0 คือสมาชิกตัวแรก , -1 คือสมาชิกตัวสุดท้าย"
      ]
    },
    {
      "cell_type": "code",
      "metadata": {
        "colab": {
          "base_uri": "https://localhost:8080/",
          "height": 35
        },
        "id": "JCf3H29CgYw4",
        "outputId": "95c2caa6-36f9-4e4d-dcbe-53efd6c0b52e"
      },
      "source": [
        "list_b[-1] # ตัวสมาชิกตัวสุดท้าย"
      ],
      "execution_count": null,
      "outputs": [
        {
          "output_type": "execute_result",
          "data": {
            "application/vnd.google.colaboratory.intrinsic+json": {
              "type": "string"
            },
            "text/plain": [
              "'u'"
            ]
          },
          "metadata": {
            "tags": []
          },
          "execution_count": 38
        }
      ]
    },
    {
      "cell_type": "markdown",
      "metadata": {
        "id": "0deupG5OgeBA"
      },
      "source": [
        "##String > list of characters"
      ]
    },
    {
      "cell_type": "code",
      "metadata": {
        "colab": {
          "base_uri": "https://localhost:8080/"
        },
        "id": "GpAnUCtfgdUm",
        "outputId": "2d7e4015-b227-4cf8-f2c2-c761f0e83593"
      },
      "source": [
        "t = 'python is easy' # การป้อนตัวเเปร t คือ ข้อความว่า python is easy\r\n",
        "print(t)"
      ],
      "execution_count": null,
      "outputs": [
        {
          "output_type": "stream",
          "text": [
            "python is easy\n"
          ],
          "name": "stdout"
        }
      ]
    },
    {
      "cell_type": "code",
      "metadata": {
        "colab": {
          "base_uri": "https://localhost:8080/",
          "height": 35
        },
        "id": "f2k9aKUwghun",
        "outputId": "af6318b8-2255-4aad-c710-94c760d5bf86"
      },
      "source": [
        "t[1] # ตัวที่ 1"
      ],
      "execution_count": null,
      "outputs": [
        {
          "output_type": "execute_result",
          "data": {
            "application/vnd.google.colaboratory.intrinsic+json": {
              "type": "string"
            },
            "text/plain": [
              "'y'"
            ]
          },
          "metadata": {
            "tags": []
          },
          "execution_count": 40
        }
      ]
    },
    {
      "cell_type": "code",
      "metadata": {
        "colab": {
          "base_uri": "https://localhost:8080/",
          "height": 35
        },
        "id": "bAuar-U2gksu",
        "outputId": "dcc57589-62f4-43d4-b6d1-bbf4d12a52c0"
      },
      "source": [
        "\r\n",
        "t[-4] # ตัวที่ -4"
      ],
      "execution_count": null,
      "outputs": [
        {
          "output_type": "execute_result",
          "data": {
            "application/vnd.google.colaboratory.intrinsic+json": {
              "type": "string"
            },
            "text/plain": [
              "'e'"
            ]
          },
          "metadata": {
            "tags": []
          },
          "execution_count": 41
        }
      ]
    },
    {
      "cell_type": "code",
      "metadata": {
        "colab": {
          "base_uri": "https://localhost:8080/",
          "height": 35
        },
        "id": "3T5lsvWPgmEu",
        "outputId": "2d21eae7-bfee-4420-8b7f-351fca55a6c4"
      },
      "source": [
        "t[6] # ตัวที่ 6 *รวมเว้นวรรคด้วย"
      ],
      "execution_count": null,
      "outputs": [
        {
          "output_type": "execute_result",
          "data": {
            "application/vnd.google.colaboratory.intrinsic+json": {
              "type": "string"
            },
            "text/plain": [
              "' '"
            ]
          },
          "metadata": {
            "tags": []
          },
          "execution_count": 42
        }
      ]
    },
    {
      "cell_type": "markdown",
      "metadata": {
        "id": "Ej_Sn3gIgplQ"
      },
      "source": [
        "# จบ 5 มค 2021"
      ]
    },
    {
      "cell_type": "markdown",
      "metadata": {
        "id": "phomgvediKMr"
      },
      "source": [
        "# คาบ 3 11 มค 2021"
      ]
    },
    {
      "cell_type": "markdown",
      "metadata": {
        "id": "HX75p2GKj91u"
      },
      "source": [
        "วิธีการ Run ทั้งหมด เลือกบรรทัดนั้น เเล้วกดที่ Runtime -> Run before การรันก่อนถึงบรรทัดที่เลือกไว้"
      ]
    },
    {
      "cell_type": "code",
      "metadata": {
        "colab": {
          "base_uri": "https://localhost:8080/"
        },
        "id": "DLzFgmlGiJiZ",
        "outputId": "586b054a-4e13-4542-b270-f78218c18be9"
      },
      "source": [
        "len(t) # ตรวจสอบความยาวของสมาชิก นับว่า string t มีกี่ตัว"
      ],
      "execution_count": null,
      "outputs": [
        {
          "output_type": "execute_result",
          "data": {
            "text/plain": [
              "14"
            ]
          },
          "metadata": {
            "tags": []
          },
          "execution_count": 43
        }
      ]
    },
    {
      "cell_type": "code",
      "metadata": {
        "colab": {
          "base_uri": "https://localhost:8080/"
        },
        "id": "lnlPph0Hk5BF",
        "outputId": "a43bea23-6421-4018-eef7-056e32b12605"
      },
      "source": [
        "list_b # ลิสต์ b คือ มีตัวเลขเเละตัวอักษร"
      ],
      "execution_count": null,
      "outputs": [
        {
          "output_type": "execute_result",
          "data": {
            "text/plain": [
              "[111, 'c', 'งง', 1092, 'u']"
            ]
          },
          "metadata": {
            "tags": []
          },
          "execution_count": 52
        }
      ]
    },
    {
      "cell_type": "code",
      "metadata": {
        "colab": {
          "base_uri": "https://localhost:8080/"
        },
        "id": "0mhtI3gHie9R",
        "outputId": "1cac9b35-66a1-4624-ec82-931a61bb2978"
      },
      "source": [
        "len(list_b) # len คือ คำสั่งตรวจสอบความยาวของ list (จำนวนสมาชิก)"
      ],
      "execution_count": null,
      "outputs": [
        {
          "output_type": "execute_result",
          "data": {
            "text/plain": [
              "5"
            ]
          },
          "metadata": {
            "tags": []
          },
          "execution_count": 51
        }
      ]
    },
    {
      "cell_type": "code",
      "metadata": {
        "colab": {
          "base_uri": "https://localhost:8080/"
        },
        "id": "waIPDzrZkNzJ",
        "outputId": "129b9b51-6e16-4952-be26-868b91f1a757"
      },
      "source": [
        "list_b.append(t) # list ซ้อน list สามารถทำได้ \r\n",
        "print(list_b)"
      ],
      "execution_count": null,
      "outputs": [
        {
          "output_type": "stream",
          "text": [
            "[111, 'c', 'งง', 1092, 'u', 'python is easy']\n"
          ],
          "name": "stdout"
        }
      ]
    },
    {
      "cell_type": "markdown",
      "metadata": {
        "id": "oUGU0j9olTST"
      },
      "source": [
        "ตัวที่อยู่ข้างใน [] เราเรียกว่า index (ตัวชี้)"
      ]
    },
    {
      "cell_type": "code",
      "metadata": {
        "colab": {
          "base_uri": "https://localhost:8080/",
          "height": 35
        },
        "id": "OJwre2nCizzB",
        "outputId": "bca6aa4b-9d96-429e-af44-16f3f9279017"
      },
      "source": [
        "t[-4] #ชี้ตำเเหน่งของตัวอักษรที่้ -4 ของ list_t"
      ],
      "execution_count": null,
      "outputs": [
        {
          "output_type": "execute_result",
          "data": {
            "application/vnd.google.colaboratory.intrinsic+json": {
              "type": "string"
            },
            "text/plain": [
              "'e'"
            ]
          },
          "metadata": {
            "tags": []
          },
          "execution_count": 54
        }
      ]
    },
    {
      "cell_type": "markdown",
      "metadata": {
        "id": "dsIX7MMSljYz"
      },
      "source": [
        "### List slicing สามารถทำได้โดยใช้ colon :"
      ]
    },
    {
      "cell_type": "markdown",
      "metadata": {
        "id": "5TFn5EQxlvRT"
      },
      "source": [
        "การตัด list ส่วนหนึ่งออกมา หรือ ทำให้เล็กลง\r\n"
      ]
    },
    {
      "cell_type": "markdown",
      "metadata": {
        "id": "exLWKDhxnkNL"
      },
      "source": [
        "#ในคณิตศาสตร์"
      ]
    },
    {
      "cell_type": "markdown",
      "metadata": {
        "id": "hFmkGlJBmwJK"
      },
      "source": [
        "วงกลมทึบคือเอาตัวนั้นด้วย ["
      ]
    },
    {
      "cell_type": "markdown",
      "metadata": {
        "id": "vmI623GxmtWV"
      },
      "source": [
        "วงกลมโปร่งคือไม่เอา เเต่เอาตั้งเเต่เลขนั้น )"
      ]
    },
    {
      "cell_type": "markdown",
      "metadata": {
        "id": "rlOEfY4pnn8-"
      },
      "source": [
        "# ใน python"
      ]
    },
    {
      "cell_type": "markdown",
      "metadata": {
        "id": "iKqYU0mhnfgl"
      },
      "source": [
        "[a:b]->[a,b)"
      ]
    },
    {
      "cell_type": "code",
      "metadata": {
        "colab": {
          "base_uri": "https://localhost:8080/"
        },
        "id": "y_kkZwiilLph",
        "outputId": "664b4c15-8311-48e9-f4e5-ebc2818b256f"
      },
      "source": [
        "print(t)\r\n",
        "print(t[7:9]) # colon ก็จะเเบ่ง ข้างหน้าcolon คือ จุดเริ่มต้น หลังcolon คือ จุดสิ้นสุด คือ เอาตั้งเเต่จุดที่ 7 8 เเต่ไม่เอา 9\r\n",
        "print(len(t[7:9])) # สามารถเอาlen() มาเพื่อดูว่าlist นี้มีสมาชิกกี่ตัว"
      ],
      "execution_count": null,
      "outputs": [
        {
          "output_type": "stream",
          "text": [
            "python is easy\n",
            "is\n",
            "2\n"
          ],
          "name": "stdout"
        }
      ]
    },
    {
      "cell_type": "code",
      "metadata": {
        "colab": {
          "base_uri": "https://localhost:8080/",
          "height": 35
        },
        "id": "-C8yChV1l4cq",
        "outputId": "c807022b-3930-460a-85f2-704efdfa6eb7"
      },
      "source": [
        "t[0:14:2] # ถ้าเพิ่ม colon มาอีก เลขตัวหลังcolon สุดท้าย เเปลว่า หยิบทุกๆสองตัว"
      ],
      "execution_count": null,
      "outputs": [
        {
          "output_type": "execute_result",
          "data": {
            "application/vnd.google.colaboratory.intrinsic+json": {
              "type": "string"
            },
            "text/plain": [
              "'pto ses'"
            ]
          },
          "metadata": {
            "tags": []
          },
          "execution_count": 58
        }
      ]
    },
    {
      "cell_type": "markdown",
      "metadata": {
        "id": "mEy9JdVYoUNK"
      },
      "source": [
        "### quiz\r\n",
        "ให้ใช้ list slicing เลิอกมาเฉพาะเลขคู่"
      ]
    },
    {
      "cell_type": "code",
      "metadata": {
        "colab": {
          "base_uri": "https://localhost:8080/"
        },
        "id": "qgBB1s4moKV0",
        "outputId": "dfceeaf4-b6b6-4f75-a525-57d980bddd11"
      },
      "source": [
        "z = [1,2,3,4,5,6,7,8,9,10]  \r\n",
        "print(z[1:10:2])           # คือ เริ่มตั้งเเต่ตัวที่ 1 คือ 2 จนถึง 9 เเล้วหยิบทีละ 2 ตัว"
      ],
      "execution_count": null,
      "outputs": [
        {
          "output_type": "stream",
          "text": [
            "[2, 4, 6, 8, 10]\n"
          ],
          "name": "stdout"
        }
      ]
    },
    {
      "cell_type": "markdown",
      "metadata": {
        "id": "MoTuJt1jm-eb"
      },
      "source": [
        "ถ้าเว้นว่างหน้า : หมายความว่า เริ่มตั้งเเต่ตัวเเรก (0)\r\n"
      ]
    },
    {
      "cell_type": "markdown",
      "metadata": {
        "id": "xpzWnRt-oGHK"
      },
      "source": [
        "ถ้าเว้นว่างหลัง : หมายความว่า ไปจนถึงตัวสุดท้าย (len(list))"
      ]
    },
    {
      "cell_type": "code",
      "metadata": {
        "colab": {
          "base_uri": "https://localhost:8080/"
        },
        "id": "i8M4jAlonwXh",
        "outputId": "b4f30a17-27a0-41f0-f4cc-edbbbc301c7a"
      },
      "source": [
        "print(t)\r\n",
        "print(t[:6]) # คือเอาจนถึงตัวที่ 6 เเต่ไม่เอาตัวที่ 6\r\n",
        "print(t[10:]) # คือเอาตั้งเเต่ตัวที่ 10 ถึงตัวสุดท้าย\r\n",
        "print(t[-4:]) # คือเอาตั้งเเต่ตัวที่ -4 ถึงตัวสุดท้าย\r\n",
        "print(t[:])  # คือเอาทั้งหมดเลย"
      ],
      "execution_count": null,
      "outputs": [
        {
          "output_type": "stream",
          "text": [
            "python is easy\n",
            "python\n",
            "easy\n",
            "easy\n",
            "python is easy\n"
          ],
          "name": "stdout"
        }
      ]
    },
    {
      "cell_type": "code",
      "metadata": {
        "colab": {
          "base_uri": "https://localhost:8080/"
        },
        "id": "IpdMJoSPp9hF",
        "outputId": "a7eb4639-991f-44ff-b4fd-c01cb469e8a4"
      },
      "source": [
        "print(z[::2]) # เอาตั้งเเต่ตัวที่ 0 ถึงตัวสุดท้าย(เเต่ไม่เอาตัวสุดท้าย) เเล้วหยิบทีละ 2 ตัว"
      ],
      "execution_count": null,
      "outputs": [
        {
          "output_type": "stream",
          "text": [
            "[1, 3, 5, 7, 9]\n"
          ],
          "name": "stdout"
        }
      ]
    },
    {
      "cell_type": "markdown",
      "metadata": {
        "id": "BIpDDMvRpPF-"
      },
      "source": [
        "## เราสามารถเอา list มาต่อกันได้ด้วย +"
      ]
    },
    {
      "cell_type": "code",
      "metadata": {
        "colab": {
          "base_uri": "https://localhost:8080/",
          "height": 35
        },
        "id": "hOzIaT1wqELH",
        "outputId": "dd46de6d-b1fa-475a-b0bc-7a20b8f55b73"
      },
      "source": [
        "t + '??' # คือ การเอาlist t + string มาต่อได้ สามารถสร้างคำใหม่ได้"
      ],
      "execution_count": null,
      "outputs": [
        {
          "output_type": "execute_result",
          "data": {
            "application/vnd.google.colaboratory.intrinsic+json": {
              "type": "string"
            },
            "text/plain": [
              "'python is easy??'"
            ]
          },
          "metadata": {
            "tags": []
          },
          "execution_count": 67
        }
      ]
    },
    {
      "cell_type": "code",
      "metadata": {
        "colab": {
          "base_uri": "https://localhost:8080/",
          "height": 162
        },
        "id": "J2ZaJHZisJ9Y",
        "outputId": "e070dc5d-d5ae-47a9-c546-6a584df020b8"
      },
      "source": [
        "t + list_b   # ไม่สามารถเอา list ปกติมาต่อกับ string ได้"
      ],
      "execution_count": null,
      "outputs": [
        {
          "output_type": "error",
          "ename": "TypeError",
          "evalue": "ignored",
          "traceback": [
            "\u001b[0;31m---------------------------------------------------------------------------\u001b[0m",
            "\u001b[0;31mTypeError\u001b[0m                                 Traceback (most recent call last)",
            "\u001b[0;32m<ipython-input-68-595774a47886>\u001b[0m in \u001b[0;36m<module>\u001b[0;34m()\u001b[0m\n\u001b[0;32m----> 1\u001b[0;31m \u001b[0mt\u001b[0m \u001b[0;34m+\u001b[0m \u001b[0mlist_b\u001b[0m\u001b[0;34m\u001b[0m\u001b[0;34m\u001b[0m\u001b[0m\n\u001b[0m",
            "\u001b[0;31mTypeError\u001b[0m: must be str, not list"
          ]
        }
      ]
    },
    {
      "cell_type": "code",
      "metadata": {
        "colab": {
          "base_uri": "https://localhost:8080/"
        },
        "id": "8_ZHosHOsPri",
        "outputId": "174d4a93-548c-4a83-b6dd-91e23ca9d538"
      },
      "source": [
        "print(list_a)\r\n",
        "list_b = [111,'c','งง',aaa]\r\n",
        "print(list_b)\r\n",
        "print(list_b + list_a) # คือ list_a เป็น list ว่าง ถ้าบวกกับlist_b ก็จะได้ list_b\r\n",
        "                       #  + คือ เอาสมาชิกมารวมกัน"
      ],
      "execution_count": null,
      "outputs": [
        {
          "output_type": "stream",
          "text": [
            "[]\n",
            "[111, 'c', 'งง', 1092]\n",
            "[111, 'c', 'งง', 1092]\n"
          ],
          "name": "stdout"
        }
      ]
    },
    {
      "cell_type": "code",
      "metadata": {
        "colab": {
          "base_uri": "https://localhost:8080/"
        },
        "id": "vGO5cSOUs3kX",
        "outputId": "e703f9c4-9d62-42ef-89eb-77c4f0b56252"
      },
      "source": [
        "list_b.append(list_a) # เเปลว่านำมาเก็บไว้เป็นmemory เฉยๆ\r\n",
        "print(list_b) # อันนี้คือการนำ list_a มาบวกเพิ่มต่อหลัง list_b"
      ],
      "execution_count": null,
      "outputs": [
        {
          "output_type": "stream",
          "text": [
            "[111, 'c', 'งง', 1092, []]\n"
          ],
          "name": "stdout"
        }
      ]
    },
    {
      "cell_type": "markdown",
      "metadata": {
        "id": "RLo6mWD4qFLx"
      },
      "source": [
        "# การเเบ่ง string ตามสัญลักษณ์ที่กำหนด -> split string"
      ]
    },
    {
      "cell_type": "code",
      "metadata": {
        "colab": {
          "base_uri": "https://localhost:8080/",
          "height": 35
        },
        "id": "ynzk0ICbt07O",
        "outputId": "e652d242-ce82-4f5d-d677-c381d7e6df0e"
      },
      "source": [
        "t   # คือการ print() ตัว t"
      ],
      "execution_count": null,
      "outputs": [
        {
          "output_type": "execute_result",
          "data": {
            "application/vnd.google.colaboratory.intrinsic+json": {
              "type": "string"
            },
            "text/plain": [
              "'python is easy'"
            ]
          },
          "metadata": {
            "tags": []
          },
          "execution_count": 75
        }
      ]
    },
    {
      "cell_type": "code",
      "metadata": {
        "colab": {
          "base_uri": "https://localhost:8080/"
        },
        "id": "gDePWZXZtxpv",
        "outputId": "da619a4c-7760-4c26-be5e-e72797c79f16"
      },
      "source": [
        "t.split(' ') # เเบ่งโดยใช้ช่องว่างในการเเบ่ง list t"
      ],
      "execution_count": null,
      "outputs": [
        {
          "output_type": "execute_result",
          "data": {
            "text/plain": [
              "['python', 'is', 'easy']"
            ]
          },
          "metadata": {
            "tags": []
          },
          "execution_count": 74
        }
      ]
    },
    {
      "cell_type": "code",
      "metadata": {
        "id": "Y6CsQE_vt5bO"
      },
      "source": [
        "time = '12:30:15' # string ชื่อว่า time 12 ชม 30 นาที 15 วินาที"
      ],
      "execution_count": null,
      "outputs": []
    },
    {
      "cell_type": "code",
      "metadata": {
        "colab": {
          "base_uri": "https://localhost:8080/"
        },
        "id": "Y_IEys9MuijS",
        "outputId": "11bd6491-852b-4c78-a910-9e441ceb96cb"
      },
      "source": [
        "time.split(':')  # ใช้ : ในการเเบ่ง time"
      ],
      "execution_count": null,
      "outputs": [
        {
          "output_type": "execute_result",
          "data": {
            "text/plain": [
              "['12', '30', '15']"
            ]
          },
          "metadata": {
            "tags": []
          },
          "execution_count": 77
        }
      ]
    },
    {
      "cell_type": "code",
      "metadata": {
        "colab": {
          "base_uri": "https://localhost:8080/"
        },
        "id": "s5cMPRiVu7Vm",
        "outputId": "3fc91012-b12e-47f7-ef67-aadb6533da86"
      },
      "source": [
        "t_sp = t.split(' ')\r\n",
        "print(t_sp)   # ถ้าอยากจะเอาไปใช้ต่อต้องนำไปเท่ากับตัวเเปร"
      ],
      "execution_count": null,
      "outputs": [
        {
          "output_type": "stream",
          "text": [
            "['python', 'is', 'easy']\n"
          ],
          "name": "stdout"
        }
      ]
    },
    {
      "cell_type": "markdown",
      "metadata": {
        "id": "t32xzboet8hS"
      },
      "source": [
        ""
      ]
    },
    {
      "cell_type": "code",
      "metadata": {
        "colab": {
          "base_uri": "https://localhost:8080/"
        },
        "id": "-KGqUlBWvHbk",
        "outputId": "26377456-6f47-4add-d855-229d502feadc"
      },
      "source": [
        "## วิธีรวมกลับ\r\n",
        "print(':'.join(t_sp)) # การเชื่อม : เข้าไปใน list t"
      ],
      "execution_count": null,
      "outputs": [
        {
          "output_type": "stream",
          "text": [
            "python:is:easy\n"
          ],
          "name": "stdout"
        }
      ]
    },
    {
      "cell_type": "markdown",
      "metadata": {
        "id": "W0JyrplRu6uK"
      },
      "source": [
        "### HW คำนวนเวลาเป็นวินาทีของเวลาต่อไปนี้โดยใช้คำสั่ง split() ช่วย (print ออกมาให้สวยงาม)\r\n",
        "    ข้อ 1 12:30:15\r\n",
        "    ข้อ 2 13:41:07\r\n",
        "    ข้อ 3 12:53:15\r\n",
        "    ข้อ 4 00:59:25\r\n",
        "    ข้อ 5 11:11:11\r\n",
        "    ข้อ 6 16:06:09\r\n",
        "    ข้อ 7 21:12:30\r\n",
        "    ข้อ 8 10:06:15\r\n",
        "    ตัวอย่าง > 00:01:10 = 70 วินาที\r\n",
        "    ตัวอย่าง > 01:00:01 = 3601 วินาที"
      ]
    },
    {
      "cell_type": "markdown",
      "metadata": {
        "id": "AibI3rfPwPyH"
      },
      "source": [
        "ข้อ 1"
      ]
    },
    {
      "cell_type": "code",
      "metadata": {
        "id": "tnQuWnV4vz6G",
        "colab": {
          "base_uri": "https://localhost:8080/"
        },
        "outputId": "c26d5e57-def1-442f-d89e-e1d931cb2ae3"
      },
      "source": [
        "q1 = '12:30:15'\r\n",
        "Q1 = q1.split(\":\")\r\n",
        "hours1 = float(Q1[0])*3600\r\n",
        "minutes1 = float(Q1[1])*60\r\n",
        "seconds1 = float(Q1[2])\r\n",
        "f1 =  hours1 + minutes1 + seconds1\r\n",
        "print(f'{q1} = {f1} วินาที')\r\n"
      ],
      "execution_count": null,
      "outputs": [
        {
          "output_type": "stream",
          "text": [
            "12:30:15 = 45015.0 วินาที\n"
          ],
          "name": "stdout"
        }
      ]
    },
    {
      "cell_type": "markdown",
      "metadata": {
        "id": "mzODZdKawShO"
      },
      "source": [
        "ข้อ 2 "
      ]
    },
    {
      "cell_type": "code",
      "metadata": {
        "id": "3zAGeL_GxL7p",
        "colab": {
          "base_uri": "https://localhost:8080/"
        },
        "outputId": "1aebb8d0-d749-4473-82a6-cbc3bd669702"
      },
      "source": [
        "q2 = '13:41:07'\r\n",
        "Q2 = q2.split(\":\")\r\n",
        "hours2 = float(Q2[0])*3600\r\n",
        "minutes2 = float(Q2[1])*60\r\n",
        "seconds2 = float(Q2[2])\r\n",
        "f2 =  hours2 + minutes2 + seconds2\r\n",
        "print(f'{q2} = {f2} วินาที')"
      ],
      "execution_count": null,
      "outputs": [
        {
          "output_type": "stream",
          "text": [
            "13:41:07 = 49267.0 วินาที\n"
          ],
          "name": "stdout"
        }
      ]
    },
    {
      "cell_type": "markdown",
      "metadata": {
        "id": "_yrGhuuRw1qn"
      },
      "source": [
        "ข้อ 3"
      ]
    },
    {
      "cell_type": "code",
      "metadata": {
        "id": "VvK_RAHowsn0",
        "colab": {
          "base_uri": "https://localhost:8080/"
        },
        "outputId": "ef7ba9da-8559-4810-f447-abb9e33820e2"
      },
      "source": [
        "q3 = '12:53:15'\r\n",
        "Q3 = q3.split(\":\")\r\n",
        "hours3 = float(Q3[0])*3600\r\n",
        "minutes3 = float(Q3[1])*60\r\n",
        "seconds3 = float(Q3[2])\r\n",
        "f3 =  hours3 + minutes3 + seconds3\r\n",
        "print(f'{q3} = {f3} วินาที')"
      ],
      "execution_count": null,
      "outputs": [
        {
          "output_type": "stream",
          "text": [
            "12:53:15 = 46395.0 วินาที\n"
          ],
          "name": "stdout"
        }
      ]
    },
    {
      "cell_type": "markdown",
      "metadata": {
        "id": "r5xK0ZUrxLJJ"
      },
      "source": [
        "ข้อ 4"
      ]
    },
    {
      "cell_type": "code",
      "metadata": {
        "id": "pgFrv6kCxKJN",
        "colab": {
          "base_uri": "https://localhost:8080/"
        },
        "outputId": "b83464bf-f377-42d5-fb14-c62e696e5cee"
      },
      "source": [
        "q4 = '00:59:25'\r\n",
        "Q4 = q4.split(\":\")\r\n",
        "hours4 = float(Q4[0])*3600\r\n",
        "minutes4 = float(Q4[1])*60\r\n",
        "seconds4 = float(Q4[2])\r\n",
        "f4 =  hours4 + minutes4 + seconds4\r\n",
        "print(f'{q4} = {f4} วินาที')"
      ],
      "execution_count": null,
      "outputs": [
        {
          "output_type": "stream",
          "text": [
            "00:59:25 = 3565.0 วินาที\n"
          ],
          "name": "stdout"
        }
      ]
    },
    {
      "cell_type": "markdown",
      "metadata": {
        "id": "0dTcnsyjxfRa"
      },
      "source": [
        "ข้อ 5"
      ]
    },
    {
      "cell_type": "code",
      "metadata": {
        "id": "XhX3yJm7xbrM",
        "colab": {
          "base_uri": "https://localhost:8080/"
        },
        "outputId": "c31e0055-53d6-4b83-a161-9a095f39bb11"
      },
      "source": [
        "q5 = '11:11:11'\r\n",
        "Q5 = q5.split(\":\")\r\n",
        "hours5 = float(Q5[0])*3600\r\n",
        "minutes5 = float(Q5[1])*60\r\n",
        "seconds5 = float(Q5[2])\r\n",
        "f5 =  hours5 + minutes5 + seconds5\r\n",
        "print(f'{q5} = {f5} วินาที')"
      ],
      "execution_count": null,
      "outputs": [
        {
          "output_type": "stream",
          "text": [
            "11:11:11 = 40271.0 วินาที\n"
          ],
          "name": "stdout"
        }
      ]
    },
    {
      "cell_type": "markdown",
      "metadata": {
        "id": "W1NhxKkSxuLe"
      },
      "source": [
        "ข้อ 6"
      ]
    },
    {
      "cell_type": "code",
      "metadata": {
        "id": "EW6hTUNOxf98",
        "colab": {
          "base_uri": "https://localhost:8080/"
        },
        "outputId": "5a8c7a7b-99da-4b89-bbf4-bdfab6001243"
      },
      "source": [
        "q6 = '16:06:09'\r\n",
        "Q6 = q6.split(\":\")\r\n",
        "hours6 = float(Q6[0])*3600\r\n",
        "minutes6 = float(Q6[1])*60\r\n",
        "seconds6 = float(Q6[2])\r\n",
        "f6 =  hours6 + minutes6 + seconds6\r\n",
        "print(f'{q6} = {f6} วินาที')"
      ],
      "execution_count": null,
      "outputs": [
        {
          "output_type": "stream",
          "text": [
            "16:06:09 = 57969.0 วินาที\n"
          ],
          "name": "stdout"
        }
      ]
    },
    {
      "cell_type": "markdown",
      "metadata": {
        "id": "ey6I4Po-xwl5"
      },
      "source": [
        "ข้อ 7"
      ]
    },
    {
      "cell_type": "code",
      "metadata": {
        "id": "92ETAzPBxs0_",
        "colab": {
          "base_uri": "https://localhost:8080/"
        },
        "outputId": "67fbdf1f-8621-49fc-ff6e-ce3aa355320c"
      },
      "source": [
        "q7 = '21:12:30'\r\n",
        "Q7 = q7.split(\":\")\r\n",
        "hours7 = float(Q7[0])*3600\r\n",
        "minutes7 = float(Q7[1])*60\r\n",
        "seconds7 = float(Q7[2])\r\n",
        "f7 =  hours7 + minutes7 + seconds7\r\n",
        "print(f'{q7} = {f7} วินาที')"
      ],
      "execution_count": null,
      "outputs": [
        {
          "output_type": "stream",
          "text": [
            "21:12:30 = 76350.0 วินาที\n"
          ],
          "name": "stdout"
        }
      ]
    },
    {
      "cell_type": "markdown",
      "metadata": {
        "id": "Bj8C8Jf8xyUQ"
      },
      "source": [
        "ข้อ 8"
      ]
    },
    {
      "cell_type": "code",
      "metadata": {
        "id": "qOQ2PkU7xtmY",
        "colab": {
          "base_uri": "https://localhost:8080/"
        },
        "outputId": "29765d92-4534-4955-f21b-49285fc7c739"
      },
      "source": [
        "q8 = '10:06:15'\r\n",
        "Q8 = q8.split(\":\")\r\n",
        "hours8 = float(Q8[0])*3600\r\n",
        "minutes8 = float(Q7[1])*60\r\n",
        "seconds8 = float(Q7[2])\r\n",
        "f8 =  hours8 + minutes8 + seconds8\r\n",
        "print(f'{q8} = {f8} วินาที')"
      ],
      "execution_count": null,
      "outputs": [
        {
          "output_type": "stream",
          "text": [
            "10:06:15 = 36750.0 วินาที\n"
          ],
          "name": "stdout"
        }
      ]
    }
  ]
}