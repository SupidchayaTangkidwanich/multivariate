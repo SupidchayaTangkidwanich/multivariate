{
  "nbformat": 4,
  "nbformat_minor": 0,
  "metadata": {
    "colab": {
      "name": "Python101.ipynb",
      "provenance": [],
      "collapsed_sections": [],
      "authorship_tag": "ABX9TyPa2wlHjxdckbq4Vw/O3n4p",
      "include_colab_link": true
    },
    "kernelspec": {
      "name": "python3",
      "display_name": "Python 3"
    }
  },
  "cells": [
    {
      "cell_type": "markdown",
      "metadata": {
        "id": "view-in-github",
        "colab_type": "text"
      },
      "source": [
        "<a href=\"https://colab.research.google.com/github/SupidchayaTangkidwanich/multivariate/blob/main/Python101.ipynb\" target=\"_parent\"><img src=\"https://colab.research.google.com/assets/colab-badge.svg\" alt=\"Open In Colab\"/></a>"
      ]
    },
    {
      "cell_type": "markdown",
      "metadata": {
        "id": "tYwyAfqqLhsM"
      },
      "source": [
        "##ตัวเเปร variable ไว้ใช้เก็บข้อมูล 1 ตัว \r\n",
        "\r\n",
        "\r\n",
        "หลักการตั้งชื่อตัวเเปรเบื้องต้น\r\n",
        "\r\n",
        "  1. ตั้งให้สื่อ\r\n",
        "  2. ภาษาอังกฤษ\r\n",
        "  3. ใช้ตัวเลขได้เเต่ห้ามขึ้นต้นด้วยตัวเลข\r\n",
        "  4. ห้ามเว้นวรรค\r\n",
        "  5. ตัวเล็กกับตัวใหญ่ไม่เหมือนกัน\r\n"
      ]
    },
    {
      "cell_type": "markdown",
      "metadata": {
        "id": "AGfu_L9cMq9r"
      },
      "source": [
        "มี output 2 mode : ออกหน้าจอ กับ เข้าไปเก็บในตัวเเปร"
      ]
    },
    {
      "cell_type": "code",
      "metadata": {
        "colab": {
          "base_uri": "https://localhost:8080/"
        },
        "id": "8hzy4ie6M437",
        "outputId": "a49eae08-0f87-44f6-9a8c-f01f63a5e8f7"
      },
      "source": [
        "3.14159 #hashtag หรือ sharp # คือ comment >>> อันนี้ คือ output ผลออกที่้หน้าจอ"
      ],
      "execution_count": null,
      "outputs": [
        {
          "output_type": "execute_result",
          "data": {
            "text/plain": [
              "3.14159"
            ]
          },
          "metadata": {
            "tags": []
          },
          "execution_count": 6
        }
      ]
    },
    {
      "cell_type": "code",
      "metadata": {
        "id": "3k3o9wK_NNnq"
      },
      "source": [
        "Pi = 3.14159  # อันนี้คือ output ที่เข้าไปอยู่ในตัวแปร"
      ],
      "execution_count": null,
      "outputs": []
    },
    {
      "cell_type": "code",
      "metadata": {
        "colab": {
          "base_uri": "https://localhost:8080/"
        },
        "id": "5eDHHXY5NQKR",
        "outputId": "2c9ae6ca-de71-4bd5-bb41-9c22a96674fe"
      },
      "source": [
        "Pi # สามารถนำค่ามาเเสดงได้"
      ],
      "execution_count": null,
      "outputs": [
        {
          "output_type": "execute_result",
          "data": {
            "text/plain": [
              "3.14159"
            ]
          },
          "metadata": {
            "tags": []
          },
          "execution_count": 8
        }
      ]
    },
    {
      "cell_type": "code",
      "metadata": {
        "colab": {
          "base_uri": "https://localhost:8080/"
        },
        "id": "oqExwNW9NRcZ",
        "outputId": "c9f67548-d0ec-4248-e161-23823ef246fd"
      },
      "source": [
        "a = 1234567 # กด shift + enter เพราะว่า ในเซลล์สามารถมีได้หลายคำสั่ง\r\n",
        "print(a) #print():ไว้สำหรับเเสดงผลของตัวเเปร โชว์ค่า a "
      ],
      "execution_count": null,
      "outputs": [
        {
          "output_type": "stream",
          "text": [
            "1234567\n"
          ],
          "name": "stdout"
        }
      ]
    },
    {
      "cell_type": "markdown",
      "metadata": {
        "id": "Vv_Q-IhtNjZW"
      },
      "source": [
        "## ชนิดของตัวเเปร \r\n",
        "  มีทั้งหมด 3 ชนิด\r\n",
        "\r\n",
        "\r\n"
      ]
    },
    {
      "cell_type": "markdown",
      "metadata": {
        "id": "b5mARpCAOhcE"
      },
      "source": [
        "### 1. จำนวนเต็ม (integer, int)\r\n"
      ]
    },
    {
      "cell_type": "code",
      "metadata": {
        "colab": {
          "base_uri": "https://localhost:8080/"
        },
        "id": "2Gr_9gyMNWNx",
        "outputId": "751b6de5-56cd-4a28-f5c4-b16370acc38c"
      },
      "source": [
        "aaa = 1092       #ตัวเเปรint 1 ตัว  ต้องเป็นจำนวนที่ไม่เป็นจุดทศนิยม\r\n",
        "print(aaa)"
      ],
      "execution_count": null,
      "outputs": [
        {
          "output_type": "stream",
          "text": [
            "1092\n"
          ],
          "name": "stdout"
        }
      ]
    },
    {
      "cell_type": "markdown",
      "metadata": {
        "id": "JQoYhEoJO2Mq"
      },
      "source": [
        "### 2. จำนวนจริง (float)"
      ]
    },
    {
      "cell_type": "code",
      "metadata": {
        "colab": {
          "base_uri": "https://localhost:8080/"
        },
        "id": "LMjzyV7nOwEs",
        "outputId": "f31a46e7-3433-4610-c9de-6ca16c4c63cd"
      },
      "source": [
        "bbb = 11.  # ต้องใส่จุดเพราะจำนวนจริงเป็นจำนวนทศนิยม เเละ หลังจุดจะใส่ 0 ไม่ได้ 0 ก็ได้\r\n",
        "print(bbb)"
      ],
      "execution_count": null,
      "outputs": [
        {
          "output_type": "stream",
          "text": [
            "11.0\n"
          ],
          "name": "stdout"
        }
      ]
    },
    {
      "cell_type": "markdown",
      "metadata": {
        "id": "DQFIbNA6PFf6"
      },
      "source": [
        "### 3. ตัวอักษร-ข้อความ (character เเละ text,string) \r\n",
        "\r\n",
        "    เป็น ตัวอักษรไม่สามารถนำไปบวก ลบ คูณ หารได้\r\n"
      ]
    },
    {
      "cell_type": "code",
      "metadata": {
        "colab": {
          "base_uri": "https://localhost:8080/"
        },
        "id": "WW4vuMXJPD1y",
        "outputId": "e5bca8c5-fa93-4b92-b98d-005b3d06ba00"
      },
      "source": [
        "ccc = '123456' #เราใช้ single quote ' หรือ double quote \" ล้อมรอบตัวหนังสือเพื่อระบุว่าเป็น character-string\r\n",
        "print(ccc)"
      ],
      "execution_count": null,
      "outputs": [
        {
          "output_type": "stream",
          "text": [
            "123456\n"
          ],
          "name": "stdout"
        }
      ]
    },
    {
      "cell_type": "code",
      "metadata": {
        "colab": {
          "base_uri": "https://localhost:8080/"
        },
        "id": "iBzCPuqpP_NC",
        "outputId": "ad921049-f0cc-47b3-fe3b-db8689306b8d"
      },
      "source": [
        "aaa + bbb #เมื่อเราเอา float + int = float"
      ],
      "execution_count": null,
      "outputs": [
        {
          "output_type": "execute_result",
          "data": {
            "text/plain": [
              "1103.0"
            ]
          },
          "metadata": {
            "tags": []
          },
          "execution_count": 14
        }
      ]
    },
    {
      "cell_type": "code",
      "metadata": {
        "colab": {
          "base_uri": "https://localhost:8080/",
          "height": 185
        },
        "id": "24MuZbyrPvWN",
        "outputId": "05f41626-5c1a-44c2-c796-3475108e1132"
      },
      "source": [
        "bbb + ccc     #ไม่สามารถบวกกันได้สามารถนำไปเซิร์จในgoogleได้ถ้าอยากจะเเก้ไข ตัวอักษรไม่สามารถนำมาบวกกับตัวเลขได้"
      ],
      "execution_count": null,
      "outputs": [
        {
          "output_type": "error",
          "ename": "TypeError",
          "evalue": "ignored",
          "traceback": [
            "\u001b[0;31m---------------------------------------------------------------------------\u001b[0m",
            "\u001b[0;31mTypeError\u001b[0m                                 Traceback (most recent call last)",
            "\u001b[0;32m<ipython-input-31-19c03e14a4f3>\u001b[0m in \u001b[0;36m<module>\u001b[0;34m()\u001b[0m\n\u001b[0;32m----> 1\u001b[0;31m \u001b[0mbbb\u001b[0m \u001b[0;34m+\u001b[0m \u001b[0mccc\u001b[0m     \u001b[0;31m#ไม่สามารถบวกกันได้สามารถนำไปเซิร์จในgoogleได้ถ้าอยากจะเเก้ไข ตัวอักษรไม่สามารถนำมาบวกกับตัวเลขได้\u001b[0m\u001b[0;34m\u001b[0m\u001b[0;34m\u001b[0m\u001b[0m\n\u001b[0m",
            "\u001b[0;31mTypeError\u001b[0m: unsupported operand type(s) for +: 'float' and 'str'"
          ]
        }
      ]
    },
    {
      "cell_type": "code",
      "metadata": {
        "colab": {
          "base_uri": "https://localhost:8080/"
        },
        "id": "nqcBsXOQP8rZ",
        "outputId": "dfec3a0e-064f-45bf-ff83-438d48512123"
      },
      "source": [
        "ddd = 'สุพิชญา' #ข้อความสามารถเป็นภาษาไทยได้\r\n",
        "print(ddd)"
      ],
      "execution_count": null,
      "outputs": [
        {
          "output_type": "stream",
          "text": [
            "สุพิชญา\n"
          ],
          "name": "stdout"
        }
      ]
    },
    {
      "cell_type": "markdown",
      "metadata": {
        "id": "XYy4C1rHQtmR"
      },
      "source": [
        "## การเปลี่ยนชนิดของตัวเเปร (Variable casting)\r\n",
        "  เป็น วิธีที่ทำให้สามารถเเก้ไข Error ได้"
      ]
    },
    {
      "cell_type": "code",
      "metadata": {
        "colab": {
          "base_uri": "https://localhost:8080/"
        },
        "id": "XLCbNXbqQqDx",
        "outputId": "df16867d-d76d-4493-9368-2dbdc16abf7e"
      },
      "source": [
        "aaa + int(ccc) #ให้บังคับเป็นชนิดตัวเเปรที่ต้องการ เปลี่ยนให้ ccc กลายเป็น int"
      ],
      "execution_count": null,
      "outputs": [
        {
          "output_type": "execute_result",
          "data": {
            "text/plain": [
              "124548"
            ]
          },
          "metadata": {
            "tags": []
          },
          "execution_count": 19
        }
      ]
    },
    {
      "cell_type": "code",
      "metadata": {
        "colab": {
          "base_uri": "https://localhost:8080/"
        },
        "id": "7U2OU9RtRjH7",
        "outputId": "ab7149a7-f494-4028-9a75-4687d0818771"
      },
      "source": [
        "aaa + float(ccc) # float + int = float เปลี่ยนให้ ccc กลายเป็น float"
      ],
      "execution_count": null,
      "outputs": [
        {
          "output_type": "execute_result",
          "data": {
            "text/plain": [
              "124548.0"
            ]
          },
          "metadata": {
            "tags": []
          },
          "execution_count": 20
        }
      ]
    },
    {
      "cell_type": "code",
      "metadata": {
        "colab": {
          "base_uri": "https://localhost:8080/",
          "height": 35
        },
        "id": "CEoNHdVZRlfq",
        "outputId": "0e20ddd1-6bf4-48be-cfd3-80c4f90a1d0c"
      },
      "source": [
        "str(aaa) # เปลี่ยนให้ int หรือ aaa กลายเป็น string ได้  ทำได้เฉพาะใน NOTEBOOK ทำในpython หรือ ภาษาซี ก็จะไม่ทำอะไรเลย\r\n"
      ],
      "execution_count": null,
      "outputs": [
        {
          "output_type": "execute_result",
          "data": {
            "application/vnd.google.colaboratory.intrinsic+json": {
              "type": "string"
            },
            "text/plain": [
              "'1092'"
            ]
          },
          "metadata": {
            "tags": []
          },
          "execution_count": 59
        }
      ]
    },
    {
      "cell_type": "markdown",
      "metadata": {
        "id": "7DJSqka9SOCi"
      },
      "source": [
        "## การดำเนินการ Operation (Operator +,-,*,/,%)"
      ]
    },
    {
      "cell_type": "code",
      "metadata": {
        "colab": {
          "base_uri": "https://localhost:8080/",
          "height": 167
        },
        "id": "zpO89PstRxXJ",
        "outputId": "fcd47dcf-0d2a-485c-f834-95ab570f6f4b"
      },
      "source": [
        "a+b # เวลาดูว่าErrorตรงไหนให้ดูตรงบรรทัดสุดท้าย Errorนี้บอกว่าตัวเเปร b ไม่มีก็เลยบวกไม่ได้"
      ],
      "execution_count": null,
      "outputs": [
        {
          "output_type": "error",
          "ename": "NameError",
          "evalue": "ignored",
          "traceback": [
            "\u001b[0;31m---------------------------------------------------------------------------\u001b[0m",
            "\u001b[0;31mNameError\u001b[0m                                 Traceback (most recent call last)",
            "\u001b[0;32m<ipython-input-54-c2176c7ecb5a>\u001b[0m in \u001b[0;36m<module>\u001b[0;34m()\u001b[0m\n\u001b[0;32m----> 1\u001b[0;31m \u001b[0ma\u001b[0m\u001b[0;34m+\u001b[0m\u001b[0mb\u001b[0m \u001b[0;31m# เวลาดูว่าErrorตรงไหนให้ดูตรงบรรทัดสุดท้าย Errorนี้บอกว่าตัวเเปร b ไม่มีก็เลยบวกไม่ได้\u001b[0m\u001b[0;34m\u001b[0m\u001b[0;34m\u001b[0m\u001b[0m\n\u001b[0m",
            "\u001b[0;31mNameError\u001b[0m: name 'b' is not defined"
          ]
        }
      ]
    },
    {
      "cell_type": "code",
      "metadata": {
        "colab": {
          "base_uri": "https://localhost:8080/"
        },
        "id": "TuHFE9lBSWKI",
        "outputId": "19838a03-904e-4965-cd6a-e90a24194424"
      },
      "source": [
        "aaa + bbb # output โชว์ออกมาอย่างเดียวไม่สามารถนำมาใช้ต่อได้"
      ],
      "execution_count": null,
      "outputs": [
        {
          "output_type": "execute_result",
          "data": {
            "text/plain": [
              "1103.0"
            ]
          },
          "metadata": {
            "tags": []
          },
          "execution_count": 61
        }
      ]
    },
    {
      "cell_type": "code",
      "metadata": {
        "colab": {
          "base_uri": "https://localhost:8080/"
        },
        "id": "6oiqIQHGSxBB",
        "outputId": "f64fe701-b8ec-486d-e9b0-249e6e6f30ae"
      },
      "source": [
        "aaa - bbb # output โชว์ออกมาอย่างเดียวไม่สามารถนำมาใช้ต่อได้"
      ],
      "execution_count": null,
      "outputs": [
        {
          "output_type": "execute_result",
          "data": {
            "text/plain": [
              "1081.0"
            ]
          },
          "metadata": {
            "tags": []
          },
          "execution_count": 62
        }
      ]
    },
    {
      "cell_type": "code",
      "metadata": {
        "colab": {
          "base_uri": "https://localhost:8080/"
        },
        "id": "hslirlDDTRiQ",
        "outputId": "db273aaa-d74a-47d0-d392-8f29cd26c333"
      },
      "source": [
        "ab = aaa*bbb # ถ้าprint ออกมา ก็จะสามารถนำ output มาใช้ต่อได้\r\n",
        "print(ab)"
      ],
      "execution_count": null,
      "outputs": [
        {
          "output_type": "stream",
          "text": [
            "12012.0\n"
          ],
          "name": "stdout"
        }
      ]
    },
    {
      "cell_type": "code",
      "metadata": {
        "colab": {
          "base_uri": "https://localhost:8080/"
        },
        "id": "u9tCCnBUTRYO",
        "outputId": "43dc7591-90f0-441c-cd48-f44b35fb6a52"
      },
      "source": [
        "ab + int (ccc) # ถ้าprint ออกมา ก็จะสามารถนำ output มาใช้ต่อได้"
      ],
      "execution_count": null,
      "outputs": [
        {
          "output_type": "execute_result",
          "data": {
            "text/plain": [
              "135468.0"
            ]
          },
          "metadata": {
            "tags": []
          },
          "execution_count": 64
        }
      ]
    },
    {
      "cell_type": "markdown",
      "metadata": {
        "id": "SIaz1irdTGSc"
      },
      "source": [
        "## % modulo \r\n",
        "    คือ การหารเอาเศษ"
      ]
    },
    {
      "cell_type": "code",
      "metadata": {
        "colab": {
          "base_uri": "https://localhost:8080/"
        },
        "id": "oBikivK1TB6B",
        "outputId": "c1953547-6823-4a22-92ed-c5f749808868"
      },
      "source": [
        "5%3 # ผลจะออกมาเป็นเศษ 2"
      ],
      "execution_count": null,
      "outputs": [
        {
          "output_type": "execute_result",
          "data": {
            "text/plain": [
              "2"
            ]
          },
          "metadata": {
            "tags": []
          },
          "execution_count": 42
        }
      ]
    },
    {
      "cell_type": "code",
      "metadata": {
        "colab": {
          "base_uri": "https://localhost:8080/"
        },
        "id": "oIsVp-eITsEZ",
        "outputId": "15dcf14b-4a4e-4591-f2fe-34d652ea32c9"
      },
      "source": [
        "7%3 # ผลจะออกมาเป็นเศษ 1"
      ],
      "execution_count": null,
      "outputs": [
        {
          "output_type": "execute_result",
          "data": {
            "text/plain": [
              "1"
            ]
          },
          "metadata": {
            "tags": []
          },
          "execution_count": 43
        }
      ]
    },
    {
      "cell_type": "markdown",
      "metadata": {
        "id": "Vgf7NxXJT75K"
      },
      "source": [
        "## คำสั่ง print เเบบพิเศษ (การ format string)\r\n",
        "\r\n"
      ]
    },
    {
      "cell_type": "code",
      "metadata": {
        "colab": {
          "base_uri": "https://localhost:8080/"
        },
        "id": "R3CDOl2RTtQQ",
        "outputId": "4514eff9-c624-4a20-87f1-69fa58c94173"
      },
      "source": [
        "print ('ตัวเเปร') #สิ่งที่อยู่ข้างในวงเล็บ คือ ตัวเเปร เเละ string"
      ],
      "execution_count": null,
      "outputs": [
        {
          "output_type": "stream",
          "text": [
            "ตัวเเปร\n"
          ],
          "name": "stdout"
        }
      ]
    },
    {
      "cell_type": "code",
      "metadata": {
        "colab": {
          "base_uri": "https://localhost:8080/"
        },
        "id": "s_bJZVnvUPyQ",
        "outputId": "5f43f3ba-8bc6-49f6-8457-78d97d10a267"
      },
      "source": [
        "print(f'% คือการหาเอาเศษ เช่น 7%3 = {7%3}')  # เพิ่ม f หน้า 'string' เเละใช้ {} ใส่ code"
      ],
      "execution_count": null,
      "outputs": [
        {
          "output_type": "stream",
          "text": [
            "% คือการหาเอาเศษ เช่น 7%3 = 1\n"
          ],
          "name": "stdout"
        }
      ]
    },
    {
      "cell_type": "code",
      "metadata": {
        "colab": {
          "base_uri": "https://localhost:8080/"
        },
        "id": "6-c770rQUpL5",
        "outputId": "3de68ea7-e787-4254-b49e-fb271bb3f13c"
      },
      "source": [
        "print(f'% คือการหารเอาเศษ เช่น 7%3 = {7%3} \\\r\n",
        "    แต่\\n/ คือการหารปกติ เช่น 7/3 = {7/3}  \\\r\n",
        "    และ\\n// คือการหารเอาส่วน เช่น 7//3 = {7//3} \\\r\n",
        "    หรือ\\nใช้ int() เพื่อหารเอาส่วน เช่น int(7/3) = {int(7/3)}') "
      ],
      "execution_count": null,
      "outputs": [
        {
          "output_type": "stream",
          "text": [
            "% คือการหารเอาเศษ เช่น 7%3 = 1     แต่\n",
            "/ คือการหารปกติ เช่น 7/3 = 2.3333333333333335      และ\n",
            "// คือการหารเอาส่วน เช่น 7//3 = 2     หรือ\n",
            "ใช้ int() เพื่อหารเอาส่วน เช่น int(7/3) = 2\n"
          ],
          "name": "stdout"
        }
      ]
    },
    {
      "cell_type": "markdown",
      "metadata": {
        "id": "nxamcxKzcwyT"
      },
      "source": [
        "\\ ใช้ในการตัดโค้ด (เเต่ com จะไม่เห็น) ส่วน \\n/ ใช้ในการขึ้นบรรทัดใหม่"
      ]
    },
    {
      "cell_type": "markdown",
      "metadata": {
        "id": "euU1ugFjdHXo"
      },
      "source": [
        "## DATA STRUCTURE (โครงสร้างข้อมูล)\r\n",
        "    "
      ]
    },
    {
      "cell_type": "markdown",
      "metadata": {
        "id": "I1sRrTBNdM4p"
      },
      "source": [
        "## List คือ การเอาข้อมูลหลายๆตัวมาเรียงต่อกัน"
      ]
    },
    {
      "cell_type": "markdown",
      "metadata": {
        "id": "F2CjGS8pdOAB"
      },
      "source": [
        "### list สามารถสร้างได้ 2 เเบบ "
      ]
    },
    {
      "cell_type": "code",
      "metadata": {
        "id": "S5fmWoZuVGFq",
        "colab": {
          "base_uri": "https://localhost:8080/"
        },
        "outputId": "8ce1bb10-21eb-454b-c775-a90a3945ca64"
      },
      "source": [
        "[111,'c','งง',aaa] # สามารถเอาตัวเลข ตัวอักษร  ข้อความ  หรือ ตัวเเปร ได้"
      ],
      "execution_count": null,
      "outputs": [
        {
          "output_type": "execute_result",
          "data": {
            "text/plain": [
              "[111, 'c', 'งง', '1092']"
            ]
          },
          "metadata": {
            "tags": []
          },
          "execution_count": 50
        }
      ]
    },
    {
      "cell_type": "markdown",
      "metadata": {
        "id": "MqZNXpikdbBg"
      },
      "source": [
        "#### เเบบที่ 1 > square brackets"
      ]
    },
    {
      "cell_type": "code",
      "metadata": {
        "id": "O9UiUBd3YElB",
        "colab": {
          "base_uri": "https://localhost:8080/"
        },
        "outputId": "85dad8cc-2f87-4f45-c722-2c0c3209202c"
      },
      "source": [
        "list_a = []  # [] เรียกว่า listว่าง คือไม่มีอะไรเลย\r\n",
        "print(list_a)\r\n"
      ],
      "execution_count": null,
      "outputs": [
        {
          "output_type": "stream",
          "text": [
            "[]\n"
          ],
          "name": "stdout"
        }
      ]
    },
    {
      "cell_type": "code",
      "metadata": {
        "colab": {
          "base_uri": "https://localhost:8080/"
        },
        "id": "KxZVxMq4djQH",
        "outputId": "203bd9c2-a248-498f-c457-5f68403b81fe"
      },
      "source": [
        "list_b = [111,'c','งง',aaa] # ลำดับมมีความสำคัญ\r\n",
        "print(list_b)"
      ],
      "execution_count": null,
      "outputs": [
        {
          "output_type": "stream",
          "text": [
            "[111, 'c', 'งง', 1092]\n"
          ],
          "name": "stdout"
        }
      ]
    },
    {
      "cell_type": "markdown",
      "metadata": {
        "id": "8KsyRANcd0rw"
      },
      "source": [
        "ลำดับที่อยู่ใน list มีความสำคัญ (ลำดับใน list เริ่มจาก 0,1,2,...)"
      ]
    },
    {
      "cell_type": "code",
      "metadata": {
        "id": "Y8RnR9Abdl3m",
        "colab": {
          "base_uri": "https://localhost:8080/",
          "height": 35
        },
        "outputId": "852212ad-02e5-4279-a1c8-ec4abd541dac"
      },
      "source": [
        "list_b[2] # อยากได้สมาชิกตัวที่ 2 ใน list"
      ],
      "execution_count": null,
      "outputs": [
        {
          "output_type": "execute_result",
          "data": {
            "application/vnd.google.colaboratory.intrinsic+json": {
              "type": "string"
            },
            "text/plain": [
              "'งง'"
            ]
          },
          "metadata": {
            "tags": []
          },
          "execution_count": 72
        }
      ]
    },
    {
      "cell_type": "markdown",
      "metadata": {
        "id": "hV6HD9rNelQB"
      },
      "source": [
        "#### เเบบที่ 2 "
      ]
    },
    {
      "cell_type": "code",
      "metadata": {
        "colab": {
          "base_uri": "https://localhost:8080/"
        },
        "id": "yh45DEucej--",
        "outputId": "c0a8d7c0-ce26-4ce6-f4fb-ede06b2ea9c2"
      },
      "source": [
        "list_c = list() #การสร้างlist โดยสร้าง list ว่าง\r\n",
        "print(list_c)"
      ],
      "execution_count": null,
      "outputs": [
        {
          "output_type": "stream",
          "text": [
            "[]\n"
          ],
          "name": "stdout"
        }
      ]
    },
    {
      "cell_type": "markdown",
      "metadata": {
        "id": "74td-iJZgVQj"
      },
      "source": [
        "##append() เพิ่มสมาชิกใน list"
      ]
    },
    {
      "cell_type": "code",
      "metadata": {
        "id": "6pwFPQD0eqJt",
        "colab": {
          "base_uri": "https://localhost:8080/"
        },
        "outputId": "388774b0-d69c-4027-88e4-019746026ff6"
      },
      "source": [
        "list_b.append('u') # การนำสมาชิกไปต่อท้ายของlist การนำตัว u ไปต่อท้ายใน list b\r\n",
        "print(list_b)"
      ],
      "execution_count": null,
      "outputs": [
        {
          "output_type": "stream",
          "text": [
            "[111, 'c', 'งง', 1092, 'u']\n"
          ],
          "name": "stdout"
        }
      ]
    },
    {
      "cell_type": "markdown",
      "metadata": {
        "id": "-yDIyCxXgaUg"
      },
      "source": [
        "ตัวที่อยู่ในวงเล็บหลังจากตัวแปร list เรียกว่า index ใช้สำหรับชี้ข้อมูลใน list\r\n",
        "\r\n",
        "(ชี้จากข้างหน้า,ชี้จากข้างหลัง)\r\n",
        "\r\n",
        "0 คือสมาชิกตัวแรก , -1 คือสมาชิกตัวสุดท้าย"
      ]
    },
    {
      "cell_type": "code",
      "metadata": {
        "colab": {
          "base_uri": "https://localhost:8080/",
          "height": 35
        },
        "id": "JCf3H29CgYw4",
        "outputId": "c73db604-3218-417b-d43c-893484e3c96a"
      },
      "source": [
        "list_b[-1] # ตัวสมาชิกตัวสุดท้าย"
      ],
      "execution_count": null,
      "outputs": [
        {
          "output_type": "execute_result",
          "data": {
            "application/vnd.google.colaboratory.intrinsic+json": {
              "type": "string"
            },
            "text/plain": [
              "'u'"
            ]
          },
          "metadata": {
            "tags": []
          },
          "execution_count": 76
        }
      ]
    },
    {
      "cell_type": "markdown",
      "metadata": {
        "id": "0deupG5OgeBA"
      },
      "source": [
        "##String > list of characters"
      ]
    },
    {
      "cell_type": "code",
      "metadata": {
        "colab": {
          "base_uri": "https://localhost:8080/"
        },
        "id": "GpAnUCtfgdUm",
        "outputId": "cb24cbbd-02cc-407c-db6f-2b29126ff860"
      },
      "source": [
        "t = 'python is easy' # การป้อนตัวเเปร t คือ ข้อความว่า python is easy\r\n",
        "print(t)"
      ],
      "execution_count": null,
      "outputs": [
        {
          "output_type": "stream",
          "text": [
            "python is easy\n"
          ],
          "name": "stdout"
        }
      ]
    },
    {
      "cell_type": "code",
      "metadata": {
        "colab": {
          "base_uri": "https://localhost:8080/",
          "height": 35
        },
        "id": "f2k9aKUwghun",
        "outputId": "ef0c1fa1-b9b9-49b5-c42e-db805e7335c2"
      },
      "source": [
        "t[1] # ตัวที่ 1"
      ],
      "execution_count": null,
      "outputs": [
        {
          "output_type": "execute_result",
          "data": {
            "application/vnd.google.colaboratory.intrinsic+json": {
              "type": "string"
            },
            "text/plain": [
              "'y'"
            ]
          },
          "metadata": {
            "tags": []
          },
          "execution_count": 79
        }
      ]
    },
    {
      "cell_type": "code",
      "metadata": {
        "colab": {
          "base_uri": "https://localhost:8080/",
          "height": 35
        },
        "id": "bAuar-U2gksu",
        "outputId": "36c3104d-d28b-469a-8dd0-00dc491a26ea"
      },
      "source": [
        "t[-4] # ตัวที่ -4"
      ],
      "execution_count": null,
      "outputs": [
        {
          "output_type": "execute_result",
          "data": {
            "application/vnd.google.colaboratory.intrinsic+json": {
              "type": "string"
            },
            "text/plain": [
              "'e'"
            ]
          },
          "metadata": {
            "tags": []
          },
          "execution_count": 80
        }
      ]
    },
    {
      "cell_type": "code",
      "metadata": {
        "colab": {
          "base_uri": "https://localhost:8080/",
          "height": 35
        },
        "id": "3T5lsvWPgmEu",
        "outputId": "72d33d66-6507-46a5-b1f5-27c0ff4ed456"
      },
      "source": [
        "t[6] # ตัวที่ 6 *รวมเว้นวรรคด้วย"
      ],
      "execution_count": null,
      "outputs": [
        {
          "output_type": "execute_result",
          "data": {
            "application/vnd.google.colaboratory.intrinsic+json": {
              "type": "string"
            },
            "text/plain": [
              "' '"
            ]
          },
          "metadata": {
            "tags": []
          },
          "execution_count": 81
        }
      ]
    },
    {
      "cell_type": "markdown",
      "metadata": {
        "id": "Ej_Sn3gIgplQ"
      },
      "source": [
        "# จบ 5 มค 2021"
      ]
    }
  ]
}